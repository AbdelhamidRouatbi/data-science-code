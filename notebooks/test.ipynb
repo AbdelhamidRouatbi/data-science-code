{
 "cells": [
  {
   "cell_type": "code",
   "execution_count": 36,
   "id": "cef790a4-a7e5-4741-9a1e-c9f63ebd9d02",
   "metadata": {},
   "outputs": [],
   "source": [
    "import requests\n",
    "base = \"https://api-web.nhle.com/\"\n",
    "\n",
    "def getGameData(gameID:str):\n",
    "    \n",
    "    \n",
    "    "
   ]
  },
  {
   "cell_type": "code",
   "execution_count": 37,
   "id": "1c1a0ed9-cb8b-43d3-8126-a1f1f8979279",
   "metadata": {},
   "outputs": [
    {
     "name": "stdout",
     "output_type": "stream",
     "text": [
      "https://api-web.nhle.com/v1/gamecenter/2022030411/play-by-play\n"
     ]
    },
    {
     "data": {
      "text/plain": [
       "<Response [200]>"
      ]
     },
     "execution_count": 37,
     "metadata": {},
     "output_type": "execute_result"
    }
   ],
   "source": [
    "getGameData(\"2022\",\"03\",\"0411\")"
   ]
  },
  {
   "cell_type": "code",
   "execution_count": null,
   "id": "ede9096c-bcec-4ae3-a1c7-d6bb7b3d4990",
   "metadata": {},
   "outputs": [],
   "source": []
  }
 ],
 "metadata": {
  "kernelspec": {
   "display_name": "ift6758-conda-env",
   "language": "python",
   "name": "ift6758-conda-env"
  },
  "language_info": {
   "codemirror_mode": {
    "name": "ipython",
    "version": 3
   },
   "file_extension": ".py",
   "mimetype": "text/x-python",
   "name": "python",
   "nbconvert_exporter": "python",
   "pygments_lexer": "ipython3",
   "version": "3.13.7"
  }
 },
 "nbformat": 4,
 "nbformat_minor": 5
}
