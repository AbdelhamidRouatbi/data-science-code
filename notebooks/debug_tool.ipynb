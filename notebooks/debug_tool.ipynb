{
 "cells": [
  {
   "cell_type": "code",
   "execution_count": 261,
   "id": "cef790a4-a7e5-4741-9a1e-c9f63ebd9d02",
   "metadata": {},
   "outputs": [],
   "source": [
    "import ipywidgets as widgets\n",
    "import matplotlib.pyplot as plt\n",
    "import matplotlib.image as mpimg\n",
    "from IPython.display import display\n",
    "from ipywidgets import interact, fixed\n",
    "from matplotlib.ticker import FuncFormatter\n",
    "from numpy import linspace\n",
    "import json"
   ]
  },
  {
   "cell_type": "code",
   "execution_count": 262,
   "id": "e8c2dd95-c080-46f7-a1bd-a6853f0dd4af",
   "metadata": {},
   "outputs": [],
   "source": [
    "img = mpimg.imread(\"../figures/nhl_rink.png\")\n",
    "height_pixel, width_pixel = img.shape[:2]\n",
    "\n",
    "width_feet = 200.0\n",
    "height_feet = 85.0\n",
    "\n",
    "x_slider = widgets.FloatSlider(min = -width_feet/2.0, max = width_feet/2.0, step = 0.25)\n",
    "y_slider = widgets.FloatSlider(min = -height_feet/2.0, max = height_feet/2.0, step = 0.25)\n",
    "\n",
    "def feet_to_pixel(x, axisName):\n",
    "    if axisName == \"x\":\n",
    "        return (x*width_pixel/width_feet) + width_pixel/2.0\n",
    "    elif axisName == \"y\":\n",
    "        return -(x*height_pixel/height_feet) + height_pixel/2.0\n",
    "\n",
    "def pixel_to_feet(x, axisName):\n",
    "    if axisName == \"x\":\n",
    "        return (x*width_feet/width_pixel) - width_feet/2.0\n",
    "    elif axisName == \"y\":\n",
    "        return -(x*height_feet/height_pixel) + height_feet/2.0\n",
    "\n",
    "xticks_pixel = linspace(0, width_pixel, 9)\n",
    "yticks_pixel = linspace(0, height_pixel, 5)\n",
    "\n",
    "xticks_feet = [pixel_to_feet(x, \"x\") for x in linspace(0, width_pixel, 9)]\n",
    "yticks_feet = [pixel_to_feet(y, \"y\") for y in linspace(0, height_pixel, 5)]\n",
    "\n",
    "def draw(x, y):\n",
    "    plt.imshow(img)\n",
    "    plt.scatter([feet_to_pixel(x, \"x\")], [feet_to_pixel(y, \"y\")], marker='x', s=80, c=\"black\")\n",
    "    plt.xlabel(\"feet\")\n",
    "    plt.ylabel(\"feet\")\n",
    "    plt.xticks(xticks_pixel, xticks_feet)\n",
    "    plt.yticks(yticks_pixel, yticks_feet)\n",
    "\n",
    "    plt.show()"
   ]
  },
  {
   "cell_type": "code",
   "execution_count": 206,
   "id": "c87b7c54-d74a-44d9-8904-8ad94f31727a",
   "metadata": {},
   "outputs": [
    {
     "data": {
      "application/vnd.jupyter.widget-view+json": {
       "model_id": "41f69d046c55439084324ea98921346a",
       "version_major": 2,
       "version_minor": 0
      },
      "text/plain": [
       "interactive(children=(FloatSlider(value=0.0, description='x', min=-100.0, step=0.25), FloatSlider(value=0.0, d…"
      ]
     },
     "metadata": {},
     "output_type": "display_data"
    },
    {
     "data": {
      "text/plain": [
       "<function __main__.draw(x, y)>"
      ]
     },
     "execution_count": 206,
     "metadata": {},
     "output_type": "execute_result"
    }
   ],
   "source": [
    "interact(draw, x = x_slider, y = y_slider)"
   ]
  },
  {
   "cell_type": "code",
   "execution_count": 277,
   "id": "1c7eb04b-5e28-480b-be24-1b758f44bba9",
   "metadata": {},
   "outputs": [],
   "source": [
    "path = \"../ift6758/data/raw/season_2020/general/2020020861.json\"\n",
    "gamee = json.load(open(path,\"r\"))\n",
    "\n",
    "\n",
    "def play_event(game, eventId):\n",
    "    event = game[\"plays\"][eventId]\n",
    "    try:\n",
    "        x = event.get(\"details\").get(\"xCoord\")\n",
    "        y = event.get(\"details\").get(\"yCoord\")\n",
    "        draw(x, y)\n",
    "    except (AttributeError, TypeError):\n",
    "        draw(0,0)\n",
    "    "
   ]
  },
  {
   "cell_type": "code",
   "execution_count": 282,
   "id": "e365fc07-9c29-4ec7-ae71-e8cf6fc225cb",
   "metadata": {},
   "outputs": [
    {
     "data": {
      "application/vnd.jupyter.widget-view+json": {
       "model_id": "d7f4185cad084774afb355a1a6f05e2e",
       "version_major": 2,
       "version_minor": 0
      },
      "text/plain": [
       "interactive(children=(IntSlider(value=0, description='eventId', disabled=True, max=266), Output()), _dom_class…"
      ]
     },
     "metadata": {},
     "output_type": "display_data"
    },
    {
     "data": {
      "application/vnd.jupyter.widget-view+json": {
       "model_id": "15e2f047acf846c1b4f32b74ab24d020",
       "version_major": 2,
       "version_minor": 0
      },
      "text/plain": [
       "HBox(children=(Play(value=0, interval=1000, max=266), IntSlider(value=0, description='eventId', disabled=True,…"
      ]
     },
     "execution_count": 282,
     "metadata": {},
     "output_type": "execute_result"
    }
   ],
   "source": [
    "slider = widgets.IntSlider(min=0, max=len(game[\"plays\"]), step=1, disabled=True)\n",
    "\n",
    "interact(play_event, game=fixed(gamee), eventId=slider)\n",
    "play = widgets.Play(value=slider.min, min=slider.min, max=slider.max, step=1, interval=1000)\n",
    "widgets.jslink((play, 'value'), (slider, 'value'))\n",
    "widgets.HBox([play, slider])"
   ]
  },
  {
   "cell_type": "code",
   "execution_count": null,
   "id": "eab93484-21d9-42ee-bdc5-d1336538beb0",
   "metadata": {},
   "outputs": [],
   "source": []
  }
 ],
 "metadata": {
  "kernelspec": {
   "display_name": "ift6758-conda-env",
   "language": "python",
   "name": "ift6758-conda-env"
  },
  "language_info": {
   "codemirror_mode": {
    "name": "ipython",
    "version": 3
   },
   "file_extension": ".py",
   "mimetype": "text/x-python",
   "name": "python",
   "nbconvert_exporter": "python",
   "pygments_lexer": "ipython3",
   "version": "3.13.7"
  }
 },
 "nbformat": 4,
 "nbformat_minor": 5
}
