{
 "cells": [
  {
   "cell_type": "markdown",
   "id": "b205f95b-a78b-42f5-950e-46cbe7fc463e",
   "metadata": {},
   "source": [
    "# 5. Simple Vizualisations"
   ]
  },
  {
   "cell_type": "markdown",
   "id": "6d999001-612c-415b-b048-9f4219cecb5d",
   "metadata": {},
   "source": [
    "## Import libraries and Data"
   ]
  },
  {
   "cell_type": "code",
   "execution_count": 5,
   "id": "3bd61bd5-bbc1-4709-b406-d7ff7ce75392",
   "metadata": {},
   "outputs": [],
   "source": [
    "import pandas as pd\n",
    "import os\n",
    "import plotly.graph_objects as go\n",
    "import kaleido\n",
    "import numpy as np\n",
    "import matplotlib.pyplot as plt\n",
    "import seaborn as sns"
   ]
  },
  {
   "cell_type": "code",
   "execution_count": 8,
   "id": "a425d14c-2255-406c-9b43-bfb67cf2912d",
   "metadata": {},
   "outputs": [],
   "source": [
    "local_dir=\"/Users/antonioslagarias/data-science-code/\"\n",
    "\n",
    "os.chdir(local_dir)"
   ]
  },
  {
   "cell_type": "code",
   "execution_count": 9,
   "id": "3dc69668-e37f-4e3b-a0aa-0b8704a3c8f4",
   "metadata": {},
   "outputs": [
    {
     "name": "stdout",
     "output_type": "stream",
     "text": [
      "Current working directory: /Users/antonioslagarias/data-science-code\n"
     ]
    }
   ],
   "source": [
    "cwd = os.getcwd()\n",
    "print(\"Current working directory:\", cwd)"
   ]
  },
  {
   "cell_type": "code",
   "execution_count": 49,
   "id": "cf634e43-a4c4-464b-8919-f9f604250353",
   "metadata": {},
   "outputs": [],
   "source": [
    "OUT_PATH_VIS=\"ift6758/visualizations/simple_vis/\""
   ]
  },
  {
   "cell_type": "code",
   "execution_count": 50,
   "id": "809b430e-57db-4d20-8130-6ac01689025a",
   "metadata": {},
   "outputs": [
    {
     "name": "stdout",
     "output_type": "stream",
     "text": [
      "/Users/antonioslagarias/data-science-code/ift6758/visualizations/simple_vis/\n"
     ]
    }
   ],
   "source": [
    "print(local_dir+OUT_PATH_VIS)"
   ]
  },
  {
   "cell_type": "markdown",
   "id": "95a24922-a1b5-461b-97ab-bf68ca159957",
   "metadata": {},
   "source": [
    "## First figure"
   ]
  },
  {
   "cell_type": "markdown",
   "id": "f7a9db00-fb31-46d3-99da-3564ffa24432",
   "metadata": {},
   "source": [
    "Instructions : Produce a figure comparing the shot types over all teams (i.e. just aggregate all of the shots), in a season of your choosing. Overlay the number of goals\n",
    "overtop the number of shots. What appears to be the most dangerous type of\n",
    "shot? The most common type of shot? Why did you choose this figure? Add this\n",
    "figure and discussion to your blog post."
   ]
  },
  {
   "cell_type": "markdown",
   "id": "455ad006-1499-4eec-a76e-da58aefeb74a",
   "metadata": {},
   "source": [
    "Reasoning:\n",
    "For this exercice, we choose the season with most recorded events, i.e. 2021-2022\n",
    "The objective is to vizualize in the single figure the relationship between shots, goals and type of shots (wrist, snap, slap, backhand, tip-in, deflected, wrap-around).\n",
    "For this we first need to know the ratio of goals vs shots per type of shot."
   ]
  },
  {
   "cell_type": "markdown",
   "id": "dbddb11c-16b9-4ec3-9bed-ff078f00a6bd",
   "metadata": {},
   "source": [
    "### First Figure_prep"
   ]
  },
  {
   "cell_type": "code",
   "execution_count": 13,
   "id": "1b165f61-ea10-4d45-addd-5fd84caa31ea",
   "metadata": {},
   "outputs": [
    {
     "data": {
      "text/html": [
       "<div>\n",
       "<style scoped>\n",
       "    .dataframe tbody tr th:only-of-type {\n",
       "        vertical-align: middle;\n",
       "    }\n",
       "\n",
       "    .dataframe tbody tr th {\n",
       "        vertical-align: top;\n",
       "    }\n",
       "\n",
       "    .dataframe thead th {\n",
       "        text-align: right;\n",
       "    }\n",
       "</style>\n",
       "<table border=\"1\" class=\"dataframe\">\n",
       "  <thead>\n",
       "    <tr style=\"text-align: right;\">\n",
       "      <th></th>\n",
       "      <th>game_id</th>\n",
       "      <th>season</th>\n",
       "      <th>game_type</th>\n",
       "      <th>event_type</th>\n",
       "      <th>period</th>\n",
       "      <th>period_time</th>\n",
       "      <th>x_coord</th>\n",
       "      <th>y_coord</th>\n",
       "      <th>shot_type</th>\n",
       "      <th>team_id</th>\n",
       "      <th>team_name</th>\n",
       "      <th>player_name</th>\n",
       "      <th>goalie_name</th>\n",
       "    </tr>\n",
       "  </thead>\n",
       "  <tbody>\n",
       "    <tr>\n",
       "      <th>0</th>\n",
       "      <td>2021020001</td>\n",
       "      <td>2021</td>\n",
       "      <td>regular</td>\n",
       "      <td>SHOT_ON_GOAL</td>\n",
       "      <td>1</td>\n",
       "      <td>01:03</td>\n",
       "      <td>61</td>\n",
       "      <td>-32</td>\n",
       "      <td>wrist</td>\n",
       "      <td>14</td>\n",
       "      <td>Tampa Bay Lightning</td>\n",
       "      <td>Steven Stamkos</td>\n",
       "      <td>Tristan Jarry</td>\n",
       "    </tr>\n",
       "    <tr>\n",
       "      <th>1</th>\n",
       "      <td>2021020001</td>\n",
       "      <td>2021</td>\n",
       "      <td>regular</td>\n",
       "      <td>SHOT_ON_GOAL</td>\n",
       "      <td>1</td>\n",
       "      <td>01:44</td>\n",
       "      <td>-65</td>\n",
       "      <td>19</td>\n",
       "      <td>wrist</td>\n",
       "      <td>5</td>\n",
       "      <td>Pittsburgh Penguins</td>\n",
       "      <td>Brock McGinn</td>\n",
       "      <td>Andrei Vasilevskiy</td>\n",
       "    </tr>\n",
       "    <tr>\n",
       "      <th>2</th>\n",
       "      <td>2021020001</td>\n",
       "      <td>2021</td>\n",
       "      <td>regular</td>\n",
       "      <td>SHOT_ON_GOAL</td>\n",
       "      <td>1</td>\n",
       "      <td>02:01</td>\n",
       "      <td>-8</td>\n",
       "      <td>-27</td>\n",
       "      <td>wrist</td>\n",
       "      <td>14</td>\n",
       "      <td>Tampa Bay Lightning</td>\n",
       "      <td>Jan Rutta</td>\n",
       "      <td>Tristan Jarry</td>\n",
       "    </tr>\n",
       "    <tr>\n",
       "      <th>3</th>\n",
       "      <td>2021020001</td>\n",
       "      <td>2021</td>\n",
       "      <td>regular</td>\n",
       "      <td>SHOT_ON_GOAL</td>\n",
       "      <td>1</td>\n",
       "      <td>02:47</td>\n",
       "      <td>-60</td>\n",
       "      <td>-4</td>\n",
       "      <td>wrist</td>\n",
       "      <td>5</td>\n",
       "      <td>Pittsburgh Penguins</td>\n",
       "      <td>Danton Heinen</td>\n",
       "      <td>Andrei Vasilevskiy</td>\n",
       "    </tr>\n",
       "    <tr>\n",
       "      <th>4</th>\n",
       "      <td>2021020001</td>\n",
       "      <td>2021</td>\n",
       "      <td>regular</td>\n",
       "      <td>SHOT_ON_GOAL</td>\n",
       "      <td>1</td>\n",
       "      <td>03:07</td>\n",
       "      <td>63</td>\n",
       "      <td>4</td>\n",
       "      <td>wrist</td>\n",
       "      <td>14</td>\n",
       "      <td>Tampa Bay Lightning</td>\n",
       "      <td>Ondrej Palat</td>\n",
       "      <td>Tristan Jarry</td>\n",
       "    </tr>\n",
       "  </tbody>\n",
       "</table>\n",
       "</div>"
      ],
      "text/plain": [
       "      game_id  season game_type    event_type  period period_time  x_coord  \\\n",
       "0  2021020001    2021   regular  SHOT_ON_GOAL       1       01:03       61   \n",
       "1  2021020001    2021   regular  SHOT_ON_GOAL       1       01:44      -65   \n",
       "2  2021020001    2021   regular  SHOT_ON_GOAL       1       02:01       -8   \n",
       "3  2021020001    2021   regular  SHOT_ON_GOAL       1       02:47      -60   \n",
       "4  2021020001    2021   regular  SHOT_ON_GOAL       1       03:07       63   \n",
       "\n",
       "   y_coord shot_type  team_id            team_name     player_name  \\\n",
       "0      -32     wrist       14  Tampa Bay Lightning  Steven Stamkos   \n",
       "1       19     wrist        5  Pittsburgh Penguins    Brock McGinn   \n",
       "2      -27     wrist       14  Tampa Bay Lightning       Jan Rutta   \n",
       "3       -4     wrist        5  Pittsburgh Penguins   Danton Heinen   \n",
       "4        4     wrist       14  Tampa Bay Lightning    Ondrej Palat   \n",
       "\n",
       "          goalie_name  \n",
       "0       Tristan Jarry  \n",
       "1  Andrei Vasilevskiy  \n",
       "2       Tristan Jarry  \n",
       "3  Andrei Vasilevskiy  \n",
       "4       Tristan Jarry  "
      ]
     },
     "execution_count": 13,
     "metadata": {},
     "output_type": "execute_result"
    }
   ],
   "source": [
    "path=\"ift6758/data/2016-2024_processed/2021-2022_events.csv\"\n",
    "df_2021=pd.read_csv(path)\n",
    "df_2021.head(5)"
   ]
  },
  {
   "cell_type": "code",
   "execution_count": 14,
   "id": "c815ae15-98d0-4b78-811f-3a0515727475",
   "metadata": {},
   "outputs": [
    {
     "name": "stdout",
     "output_type": "stream",
     "text": [
      "shot_type\n",
      "wrist          51806\n",
      "snap           11875\n",
      "slap           11481\n",
      "backhand        7149\n",
      "tip-in          4756\n",
      "deflected       1739\n",
      "wrap-around      776\n",
      "Name: count, dtype: int64\n"
     ]
    }
   ],
   "source": [
    "sums_shots= df_2021[\"shot_type\"].value_counts()\n",
    "print(sums_shots.sort_values(ascending=False))"
   ]
  },
  {
   "cell_type": "code",
   "execution_count": 15,
   "id": "e3d9fb1f-35ab-4d56-b19a-2cdc57343116",
   "metadata": {},
   "outputs": [
    {
     "name": "stdout",
     "output_type": "stream",
     "text": [
      "shot_type\n",
      "tip-in         16.90\n",
      "deflected      16.33\n",
      "backhand       12.45\n",
      "snap           11.60\n",
      "wrist           9.08\n",
      "slap            7.23\n",
      "wrap-around     5.54\n",
      "Name: event_type, dtype: float64\n"
     ]
    }
   ],
   "source": [
    "ratios = (\n",
    "    df_2021.groupby(\"shot_type\")[\"event_type\"]\n",
    "    .apply(lambda x: (x==\"GOAL\").mean() * 100).round(2)\n",
    "\n",
    ")\n",
    "print(ratios.sort_values(ascending=False))"
   ]
  },
  {
   "cell_type": "code",
   "execution_count": 16,
   "id": "301c95e7-3388-40ce-87ee-d9298b0fbde6",
   "metadata": {},
   "outputs": [
    {
     "name": "stdout",
     "output_type": "stream",
     "text": [
      "shot_type\n",
      "wrist          4704\n",
      "snap           1378\n",
      "backhand        890\n",
      "slap            830\n",
      "tip-in          804\n",
      "deflected       284\n",
      "wrap-around      43\n",
      "Name: event_type, dtype: int64\n"
     ]
    }
   ],
   "source": [
    "sums_goals = (\n",
    "    df_2021.groupby(\"shot_type\")[\"event_type\"]\n",
    "    .apply(lambda x: (x==\"GOAL\").sum())\n",
    "\n",
    ")\n",
    "print(sums_goals.sort_values(ascending=False))"
   ]
  },
  {
   "cell_type": "code",
   "execution_count": 17,
   "id": "2f03addd-2fdb-459a-be32-059ea65e06b3",
   "metadata": {},
   "outputs": [
    {
     "data": {
      "text/plain": [
       "shot_type\n",
       "backhand        7149\n",
       "deflected       1739\n",
       "slap           11481\n",
       "snap           11875\n",
       "tip-in          4756\n",
       "wrap-around      776\n",
       "wrist          51806\n",
       "dtype: int64"
      ]
     },
     "execution_count": 17,
     "metadata": {},
     "output_type": "execute_result"
    }
   ],
   "source": [
    "df_2021.groupby(\"shot_type\").size().sort_index()"
   ]
  },
  {
   "cell_type": "markdown",
   "id": "6dc66106-8592-495b-813e-40d9f51ea64a",
   "metadata": {},
   "source": [
    "### First Figure_tests"
   ]
  },
  {
   "cell_type": "code",
   "execution_count": 18,
   "id": "59d5ac64-f7c6-4583-b011-ba4d3cb75870",
   "metadata": {},
   "outputs": [
    {
     "data": {
      "application/vnd.plotly.v1+json": {
       "config": {
        "plotlyServerURL": "https://plot.ly"
       },
       "data": [
        {
         "marker": {
          "color": "orange"
         },
         "name": "B = \"GOAL\"",
         "type": "bar",
         "x": [
          "wrist",
          "snap",
          "slap",
          "backhand",
          "tip-in",
          "deflected",
          "wrap-around"
         ],
         "y": {
          "bdata": "XsoAAGMuAADZLAAA7RsAAJQSAADLBgAACAMAAA==",
          "dtype": "i4"
         }
        }
       ],
       "layout": {
        "template": {
         "data": {
          "bar": [
           {
            "error_x": {
             "color": "#2a3f5f"
            },
            "error_y": {
             "color": "#2a3f5f"
            },
            "marker": {
             "line": {
              "color": "#E5ECF6",
              "width": 0.5
             },
             "pattern": {
              "fillmode": "overlay",
              "size": 10,
              "solidity": 0.2
             }
            },
            "type": "bar"
           }
          ],
          "barpolar": [
           {
            "marker": {
             "line": {
              "color": "#E5ECF6",
              "width": 0.5
             },
             "pattern": {
              "fillmode": "overlay",
              "size": 10,
              "solidity": 0.2
             }
            },
            "type": "barpolar"
           }
          ],
          "carpet": [
           {
            "aaxis": {
             "endlinecolor": "#2a3f5f",
             "gridcolor": "white",
             "linecolor": "white",
             "minorgridcolor": "white",
             "startlinecolor": "#2a3f5f"
            },
            "baxis": {
             "endlinecolor": "#2a3f5f",
             "gridcolor": "white",
             "linecolor": "white",
             "minorgridcolor": "white",
             "startlinecolor": "#2a3f5f"
            },
            "type": "carpet"
           }
          ],
          "choropleth": [
           {
            "colorbar": {
             "outlinewidth": 0,
             "ticks": ""
            },
            "type": "choropleth"
           }
          ],
          "contour": [
           {
            "colorbar": {
             "outlinewidth": 0,
             "ticks": ""
            },
            "colorscale": [
             [
              0,
              "#0d0887"
             ],
             [
              0.1111111111111111,
              "#46039f"
             ],
             [
              0.2222222222222222,
              "#7201a8"
             ],
             [
              0.3333333333333333,
              "#9c179e"
             ],
             [
              0.4444444444444444,
              "#bd3786"
             ],
             [
              0.5555555555555556,
              "#d8576b"
             ],
             [
              0.6666666666666666,
              "#ed7953"
             ],
             [
              0.7777777777777778,
              "#fb9f3a"
             ],
             [
              0.8888888888888888,
              "#fdca26"
             ],
             [
              1,
              "#f0f921"
             ]
            ],
            "type": "contour"
           }
          ],
          "contourcarpet": [
           {
            "colorbar": {
             "outlinewidth": 0,
             "ticks": ""
            },
            "type": "contourcarpet"
           }
          ],
          "heatmap": [
           {
            "colorbar": {
             "outlinewidth": 0,
             "ticks": ""
            },
            "colorscale": [
             [
              0,
              "#0d0887"
             ],
             [
              0.1111111111111111,
              "#46039f"
             ],
             [
              0.2222222222222222,
              "#7201a8"
             ],
             [
              0.3333333333333333,
              "#9c179e"
             ],
             [
              0.4444444444444444,
              "#bd3786"
             ],
             [
              0.5555555555555556,
              "#d8576b"
             ],
             [
              0.6666666666666666,
              "#ed7953"
             ],
             [
              0.7777777777777778,
              "#fb9f3a"
             ],
             [
              0.8888888888888888,
              "#fdca26"
             ],
             [
              1,
              "#f0f921"
             ]
            ],
            "type": "heatmap"
           }
          ],
          "histogram": [
           {
            "marker": {
             "pattern": {
              "fillmode": "overlay",
              "size": 10,
              "solidity": 0.2
             }
            },
            "type": "histogram"
           }
          ],
          "histogram2d": [
           {
            "colorbar": {
             "outlinewidth": 0,
             "ticks": ""
            },
            "colorscale": [
             [
              0,
              "#0d0887"
             ],
             [
              0.1111111111111111,
              "#46039f"
             ],
             [
              0.2222222222222222,
              "#7201a8"
             ],
             [
              0.3333333333333333,
              "#9c179e"
             ],
             [
              0.4444444444444444,
              "#bd3786"
             ],
             [
              0.5555555555555556,
              "#d8576b"
             ],
             [
              0.6666666666666666,
              "#ed7953"
             ],
             [
              0.7777777777777778,
              "#fb9f3a"
             ],
             [
              0.8888888888888888,
              "#fdca26"
             ],
             [
              1,
              "#f0f921"
             ]
            ],
            "type": "histogram2d"
           }
          ],
          "histogram2dcontour": [
           {
            "colorbar": {
             "outlinewidth": 0,
             "ticks": ""
            },
            "colorscale": [
             [
              0,
              "#0d0887"
             ],
             [
              0.1111111111111111,
              "#46039f"
             ],
             [
              0.2222222222222222,
              "#7201a8"
             ],
             [
              0.3333333333333333,
              "#9c179e"
             ],
             [
              0.4444444444444444,
              "#bd3786"
             ],
             [
              0.5555555555555556,
              "#d8576b"
             ],
             [
              0.6666666666666666,
              "#ed7953"
             ],
             [
              0.7777777777777778,
              "#fb9f3a"
             ],
             [
              0.8888888888888888,
              "#fdca26"
             ],
             [
              1,
              "#f0f921"
             ]
            ],
            "type": "histogram2dcontour"
           }
          ],
          "mesh3d": [
           {
            "colorbar": {
             "outlinewidth": 0,
             "ticks": ""
            },
            "type": "mesh3d"
           }
          ],
          "parcoords": [
           {
            "line": {
             "colorbar": {
              "outlinewidth": 0,
              "ticks": ""
             }
            },
            "type": "parcoords"
           }
          ],
          "pie": [
           {
            "automargin": true,
            "type": "pie"
           }
          ],
          "scatter": [
           {
            "fillpattern": {
             "fillmode": "overlay",
             "size": 10,
             "solidity": 0.2
            },
            "type": "scatter"
           }
          ],
          "scatter3d": [
           {
            "line": {
             "colorbar": {
              "outlinewidth": 0,
              "ticks": ""
             }
            },
            "marker": {
             "colorbar": {
              "outlinewidth": 0,
              "ticks": ""
             }
            },
            "type": "scatter3d"
           }
          ],
          "scattercarpet": [
           {
            "marker": {
             "colorbar": {
              "outlinewidth": 0,
              "ticks": ""
             }
            },
            "type": "scattercarpet"
           }
          ],
          "scattergeo": [
           {
            "marker": {
             "colorbar": {
              "outlinewidth": 0,
              "ticks": ""
             }
            },
            "type": "scattergeo"
           }
          ],
          "scattergl": [
           {
            "marker": {
             "colorbar": {
              "outlinewidth": 0,
              "ticks": ""
             }
            },
            "type": "scattergl"
           }
          ],
          "scattermap": [
           {
            "marker": {
             "colorbar": {
              "outlinewidth": 0,
              "ticks": ""
             }
            },
            "type": "scattermap"
           }
          ],
          "scattermapbox": [
           {
            "marker": {
             "colorbar": {
              "outlinewidth": 0,
              "ticks": ""
             }
            },
            "type": "scattermapbox"
           }
          ],
          "scatterpolar": [
           {
            "marker": {
             "colorbar": {
              "outlinewidth": 0,
              "ticks": ""
             }
            },
            "type": "scatterpolar"
           }
          ],
          "scatterpolargl": [
           {
            "marker": {
             "colorbar": {
              "outlinewidth": 0,
              "ticks": ""
             }
            },
            "type": "scatterpolargl"
           }
          ],
          "scatterternary": [
           {
            "marker": {
             "colorbar": {
              "outlinewidth": 0,
              "ticks": ""
             }
            },
            "type": "scatterternary"
           }
          ],
          "surface": [
           {
            "colorbar": {
             "outlinewidth": 0,
             "ticks": ""
            },
            "colorscale": [
             [
              0,
              "#0d0887"
             ],
             [
              0.1111111111111111,
              "#46039f"
             ],
             [
              0.2222222222222222,
              "#7201a8"
             ],
             [
              0.3333333333333333,
              "#9c179e"
             ],
             [
              0.4444444444444444,
              "#bd3786"
             ],
             [
              0.5555555555555556,
              "#d8576b"
             ],
             [
              0.6666666666666666,
              "#ed7953"
             ],
             [
              0.7777777777777778,
              "#fb9f3a"
             ],
             [
              0.8888888888888888,
              "#fdca26"
             ],
             [
              1,
              "#f0f921"
             ]
            ],
            "type": "surface"
           }
          ],
          "table": [
           {
            "cells": {
             "fill": {
              "color": "#EBF0F8"
             },
             "line": {
              "color": "white"
             }
            },
            "header": {
             "fill": {
              "color": "#C8D4E3"
             },
             "line": {
              "color": "white"
             }
            },
            "type": "table"
           }
          ]
         },
         "layout": {
          "annotationdefaults": {
           "arrowcolor": "#2a3f5f",
           "arrowhead": 0,
           "arrowwidth": 1
          },
          "autotypenumbers": "strict",
          "coloraxis": {
           "colorbar": {
            "outlinewidth": 0,
            "ticks": ""
           }
          },
          "colorscale": {
           "diverging": [
            [
             0,
             "#8e0152"
            ],
            [
             0.1,
             "#c51b7d"
            ],
            [
             0.2,
             "#de77ae"
            ],
            [
             0.3,
             "#f1b6da"
            ],
            [
             0.4,
             "#fde0ef"
            ],
            [
             0.5,
             "#f7f7f7"
            ],
            [
             0.6,
             "#e6f5d0"
            ],
            [
             0.7,
             "#b8e186"
            ],
            [
             0.8,
             "#7fbc41"
            ],
            [
             0.9,
             "#4d9221"
            ],
            [
             1,
             "#276419"
            ]
           ],
           "sequential": [
            [
             0,
             "#0d0887"
            ],
            [
             0.1111111111111111,
             "#46039f"
            ],
            [
             0.2222222222222222,
             "#7201a8"
            ],
            [
             0.3333333333333333,
             "#9c179e"
            ],
            [
             0.4444444444444444,
             "#bd3786"
            ],
            [
             0.5555555555555556,
             "#d8576b"
            ],
            [
             0.6666666666666666,
             "#ed7953"
            ],
            [
             0.7777777777777778,
             "#fb9f3a"
            ],
            [
             0.8888888888888888,
             "#fdca26"
            ],
            [
             1,
             "#f0f921"
            ]
           ],
           "sequentialminus": [
            [
             0,
             "#0d0887"
            ],
            [
             0.1111111111111111,
             "#46039f"
            ],
            [
             0.2222222222222222,
             "#7201a8"
            ],
            [
             0.3333333333333333,
             "#9c179e"
            ],
            [
             0.4444444444444444,
             "#bd3786"
            ],
            [
             0.5555555555555556,
             "#d8576b"
            ],
            [
             0.6666666666666666,
             "#ed7953"
            ],
            [
             0.7777777777777778,
             "#fb9f3a"
            ],
            [
             0.8888888888888888,
             "#fdca26"
            ],
            [
             1,
             "#f0f921"
            ]
           ]
          },
          "colorway": [
           "#636efa",
           "#EF553B",
           "#00cc96",
           "#ab63fa",
           "#FFA15A",
           "#19d3f3",
           "#FF6692",
           "#B6E880",
           "#FF97FF",
           "#FECB52"
          ],
          "font": {
           "color": "#2a3f5f"
          },
          "geo": {
           "bgcolor": "white",
           "lakecolor": "white",
           "landcolor": "#E5ECF6",
           "showlakes": true,
           "showland": true,
           "subunitcolor": "white"
          },
          "hoverlabel": {
           "align": "left"
          },
          "hovermode": "closest",
          "mapbox": {
           "style": "light"
          },
          "paper_bgcolor": "white",
          "plot_bgcolor": "#E5ECF6",
          "polar": {
           "angularaxis": {
            "gridcolor": "white",
            "linecolor": "white",
            "ticks": ""
           },
           "bgcolor": "#E5ECF6",
           "radialaxis": {
            "gridcolor": "white",
            "linecolor": "white",
            "ticks": ""
           }
          },
          "scene": {
           "xaxis": {
            "backgroundcolor": "#E5ECF6",
            "gridcolor": "white",
            "gridwidth": 2,
            "linecolor": "white",
            "showbackground": true,
            "ticks": "",
            "zerolinecolor": "white"
           },
           "yaxis": {
            "backgroundcolor": "#E5ECF6",
            "gridcolor": "white",
            "gridwidth": 2,
            "linecolor": "white",
            "showbackground": true,
            "ticks": "",
            "zerolinecolor": "white"
           },
           "zaxis": {
            "backgroundcolor": "#E5ECF6",
            "gridcolor": "white",
            "gridwidth": 2,
            "linecolor": "white",
            "showbackground": true,
            "ticks": "",
            "zerolinecolor": "white"
           }
          },
          "shapedefaults": {
           "line": {
            "color": "#2a3f5f"
           }
          },
          "ternary": {
           "aaxis": {
            "gridcolor": "white",
            "linecolor": "white",
            "ticks": ""
           },
           "baxis": {
            "gridcolor": "white",
            "linecolor": "white",
            "ticks": ""
           },
           "bgcolor": "#E5ECF6",
           "caxis": {
            "gridcolor": "white",
            "linecolor": "white",
            "ticks": ""
           }
          },
          "title": {
           "x": 0.05
          },
          "xaxis": {
           "automargin": true,
           "gridcolor": "white",
           "linecolor": "white",
           "ticks": "",
           "title": {
            "standoff": 15
           },
           "zerolinecolor": "white",
           "zerolinewidth": 2
          },
          "yaxis": {
           "automargin": true,
           "gridcolor": "white",
           "linecolor": "white",
           "ticks": "",
           "title": {
            "standoff": 15
           },
           "zerolinecolor": "white",
           "zerolinewidth": 2
          }
         }
        },
        "title": {
         "text": "Counts"
        },
        "xaxis": {
         "title": {
          "text": "Type of Shot"
         }
        },
        "yaxis": {
         "title": {
          "text": "Total Shots"
         }
        }
       }
      }
     },
     "metadata": {},
     "output_type": "display_data"
    }
   ],
   "source": [
    "fig = go.Figure()\n",
    "\n",
    "fig.add_trace(go.Bar(\n",
    "    x=sums_shots.index.astype(str),\n",
    "    y=sums_shots.values,\n",
    "    name=f'B = \"{\"GOAL\"}\"',\n",
    "    marker_color=\"orange\"\n",
    "))\n",
    "\n",
    "fig.update_layout(\n",
    "    title=f'Counts',\n",
    "    xaxis_title=\"Type of Shot\",\n",
    "    yaxis_title=\"Total Shots\",\n",
    ")\n",
    "\n",
    "fig.show()"
   ]
  },
  {
   "cell_type": "markdown",
   "id": "9aca269e-bb28-49a3-a844-1d156c2bd802",
   "metadata": {},
   "source": [
    "### First Figure_choice"
   ]
  },
  {
   "cell_type": "code",
   "execution_count": 19,
   "id": "00d1164b-6b87-45d9-afd5-66169e2f1994",
   "metadata": {},
   "outputs": [
    {
     "data": {
      "application/vnd.plotly.v1+json": {
       "config": {
        "plotlyServerURL": "https://plot.ly"
       },
       "data": [
        {
         "marker": {
          "color": "orange"
         },
         "name": "Total shots",
         "opacity": 0.6,
         "type": "bar",
         "x": [
          "tip-in",
          "deflected",
          "backhand",
          "snap",
          "wrist",
          "slap",
          "wrap-around"
         ],
         "y": {
          "bdata": "lBIAAMsGAADtGwAAYy4AAF7KAADZLAAACAMAAA==",
          "dtype": "i4"
         },
         "yaxis": "y"
        },
        {
         "marker": {
          "color": "red"
         },
         "mode": "markers",
         "name": "Goal rate (%)",
         "type": "scatter",
         "x": [
          "tip-in",
          "deflected",
          "backhand",
          "snap",
          "wrist",
          "slap",
          "wrap-around"
         ],
         "y": {
          "bdata": "ZmZmZmbmMEAUrkfhelQwQGZmZmZm5ihAMzMzMzMzJ0ApXI/C9SgiQOxRuB6F6xxAKVyPwvUoFkA=",
          "dtype": "f8"
         },
         "yaxis": "y2"
        }
       ],
       "layout": {
        "barmode": "group",
        "height": 400,
        "legend": {
         "bgcolor": "rgba(255,255,255,0.5)",
         "font": {
          "color": "black",
          "family": "Times New Roman",
          "size": 11
         },
         "x": 0.99,
         "xanchor": "right",
         "y": 1.01,
         "yanchor": "top"
        },
        "margin": {
         "t": 40
        },
        "paper_bgcolor": "white",
        "plot_bgcolor": "white",
        "template": {
         "data": {
          "bar": [
           {
            "error_x": {
             "color": "#2a3f5f"
            },
            "error_y": {
             "color": "#2a3f5f"
            },
            "marker": {
             "line": {
              "color": "#E5ECF6",
              "width": 0.5
             },
             "pattern": {
              "fillmode": "overlay",
              "size": 10,
              "solidity": 0.2
             }
            },
            "type": "bar"
           }
          ],
          "barpolar": [
           {
            "marker": {
             "line": {
              "color": "#E5ECF6",
              "width": 0.5
             },
             "pattern": {
              "fillmode": "overlay",
              "size": 10,
              "solidity": 0.2
             }
            },
            "type": "barpolar"
           }
          ],
          "carpet": [
           {
            "aaxis": {
             "endlinecolor": "#2a3f5f",
             "gridcolor": "white",
             "linecolor": "white",
             "minorgridcolor": "white",
             "startlinecolor": "#2a3f5f"
            },
            "baxis": {
             "endlinecolor": "#2a3f5f",
             "gridcolor": "white",
             "linecolor": "white",
             "minorgridcolor": "white",
             "startlinecolor": "#2a3f5f"
            },
            "type": "carpet"
           }
          ],
          "choropleth": [
           {
            "colorbar": {
             "outlinewidth": 0,
             "ticks": ""
            },
            "type": "choropleth"
           }
          ],
          "contour": [
           {
            "colorbar": {
             "outlinewidth": 0,
             "ticks": ""
            },
            "colorscale": [
             [
              0,
              "#0d0887"
             ],
             [
              0.1111111111111111,
              "#46039f"
             ],
             [
              0.2222222222222222,
              "#7201a8"
             ],
             [
              0.3333333333333333,
              "#9c179e"
             ],
             [
              0.4444444444444444,
              "#bd3786"
             ],
             [
              0.5555555555555556,
              "#d8576b"
             ],
             [
              0.6666666666666666,
              "#ed7953"
             ],
             [
              0.7777777777777778,
              "#fb9f3a"
             ],
             [
              0.8888888888888888,
              "#fdca26"
             ],
             [
              1,
              "#f0f921"
             ]
            ],
            "type": "contour"
           }
          ],
          "contourcarpet": [
           {
            "colorbar": {
             "outlinewidth": 0,
             "ticks": ""
            },
            "type": "contourcarpet"
           }
          ],
          "heatmap": [
           {
            "colorbar": {
             "outlinewidth": 0,
             "ticks": ""
            },
            "colorscale": [
             [
              0,
              "#0d0887"
             ],
             [
              0.1111111111111111,
              "#46039f"
             ],
             [
              0.2222222222222222,
              "#7201a8"
             ],
             [
              0.3333333333333333,
              "#9c179e"
             ],
             [
              0.4444444444444444,
              "#bd3786"
             ],
             [
              0.5555555555555556,
              "#d8576b"
             ],
             [
              0.6666666666666666,
              "#ed7953"
             ],
             [
              0.7777777777777778,
              "#fb9f3a"
             ],
             [
              0.8888888888888888,
              "#fdca26"
             ],
             [
              1,
              "#f0f921"
             ]
            ],
            "type": "heatmap"
           }
          ],
          "histogram": [
           {
            "marker": {
             "pattern": {
              "fillmode": "overlay",
              "size": 10,
              "solidity": 0.2
             }
            },
            "type": "histogram"
           }
          ],
          "histogram2d": [
           {
            "colorbar": {
             "outlinewidth": 0,
             "ticks": ""
            },
            "colorscale": [
             [
              0,
              "#0d0887"
             ],
             [
              0.1111111111111111,
              "#46039f"
             ],
             [
              0.2222222222222222,
              "#7201a8"
             ],
             [
              0.3333333333333333,
              "#9c179e"
             ],
             [
              0.4444444444444444,
              "#bd3786"
             ],
             [
              0.5555555555555556,
              "#d8576b"
             ],
             [
              0.6666666666666666,
              "#ed7953"
             ],
             [
              0.7777777777777778,
              "#fb9f3a"
             ],
             [
              0.8888888888888888,
              "#fdca26"
             ],
             [
              1,
              "#f0f921"
             ]
            ],
            "type": "histogram2d"
           }
          ],
          "histogram2dcontour": [
           {
            "colorbar": {
             "outlinewidth": 0,
             "ticks": ""
            },
            "colorscale": [
             [
              0,
              "#0d0887"
             ],
             [
              0.1111111111111111,
              "#46039f"
             ],
             [
              0.2222222222222222,
              "#7201a8"
             ],
             [
              0.3333333333333333,
              "#9c179e"
             ],
             [
              0.4444444444444444,
              "#bd3786"
             ],
             [
              0.5555555555555556,
              "#d8576b"
             ],
             [
              0.6666666666666666,
              "#ed7953"
             ],
             [
              0.7777777777777778,
              "#fb9f3a"
             ],
             [
              0.8888888888888888,
              "#fdca26"
             ],
             [
              1,
              "#f0f921"
             ]
            ],
            "type": "histogram2dcontour"
           }
          ],
          "mesh3d": [
           {
            "colorbar": {
             "outlinewidth": 0,
             "ticks": ""
            },
            "type": "mesh3d"
           }
          ],
          "parcoords": [
           {
            "line": {
             "colorbar": {
              "outlinewidth": 0,
              "ticks": ""
             }
            },
            "type": "parcoords"
           }
          ],
          "pie": [
           {
            "automargin": true,
            "type": "pie"
           }
          ],
          "scatter": [
           {
            "fillpattern": {
             "fillmode": "overlay",
             "size": 10,
             "solidity": 0.2
            },
            "type": "scatter"
           }
          ],
          "scatter3d": [
           {
            "line": {
             "colorbar": {
              "outlinewidth": 0,
              "ticks": ""
             }
            },
            "marker": {
             "colorbar": {
              "outlinewidth": 0,
              "ticks": ""
             }
            },
            "type": "scatter3d"
           }
          ],
          "scattercarpet": [
           {
            "marker": {
             "colorbar": {
              "outlinewidth": 0,
              "ticks": ""
             }
            },
            "type": "scattercarpet"
           }
          ],
          "scattergeo": [
           {
            "marker": {
             "colorbar": {
              "outlinewidth": 0,
              "ticks": ""
             }
            },
            "type": "scattergeo"
           }
          ],
          "scattergl": [
           {
            "marker": {
             "colorbar": {
              "outlinewidth": 0,
              "ticks": ""
             }
            },
            "type": "scattergl"
           }
          ],
          "scattermap": [
           {
            "marker": {
             "colorbar": {
              "outlinewidth": 0,
              "ticks": ""
             }
            },
            "type": "scattermap"
           }
          ],
          "scattermapbox": [
           {
            "marker": {
             "colorbar": {
              "outlinewidth": 0,
              "ticks": ""
             }
            },
            "type": "scattermapbox"
           }
          ],
          "scatterpolar": [
           {
            "marker": {
             "colorbar": {
              "outlinewidth": 0,
              "ticks": ""
             }
            },
            "type": "scatterpolar"
           }
          ],
          "scatterpolargl": [
           {
            "marker": {
             "colorbar": {
              "outlinewidth": 0,
              "ticks": ""
             }
            },
            "type": "scatterpolargl"
           }
          ],
          "scatterternary": [
           {
            "marker": {
             "colorbar": {
              "outlinewidth": 0,
              "ticks": ""
             }
            },
            "type": "scatterternary"
           }
          ],
          "surface": [
           {
            "colorbar": {
             "outlinewidth": 0,
             "ticks": ""
            },
            "colorscale": [
             [
              0,
              "#0d0887"
             ],
             [
              0.1111111111111111,
              "#46039f"
             ],
             [
              0.2222222222222222,
              "#7201a8"
             ],
             [
              0.3333333333333333,
              "#9c179e"
             ],
             [
              0.4444444444444444,
              "#bd3786"
             ],
             [
              0.5555555555555556,
              "#d8576b"
             ],
             [
              0.6666666666666666,
              "#ed7953"
             ],
             [
              0.7777777777777778,
              "#fb9f3a"
             ],
             [
              0.8888888888888888,
              "#fdca26"
             ],
             [
              1,
              "#f0f921"
             ]
            ],
            "type": "surface"
           }
          ],
          "table": [
           {
            "cells": {
             "fill": {
              "color": "#EBF0F8"
             },
             "line": {
              "color": "white"
             }
            },
            "header": {
             "fill": {
              "color": "#C8D4E3"
             },
             "line": {
              "color": "white"
             }
            },
            "type": "table"
           }
          ]
         },
         "layout": {
          "annotationdefaults": {
           "arrowcolor": "#2a3f5f",
           "arrowhead": 0,
           "arrowwidth": 1
          },
          "autotypenumbers": "strict",
          "coloraxis": {
           "colorbar": {
            "outlinewidth": 0,
            "ticks": ""
           }
          },
          "colorscale": {
           "diverging": [
            [
             0,
             "#8e0152"
            ],
            [
             0.1,
             "#c51b7d"
            ],
            [
             0.2,
             "#de77ae"
            ],
            [
             0.3,
             "#f1b6da"
            ],
            [
             0.4,
             "#fde0ef"
            ],
            [
             0.5,
             "#f7f7f7"
            ],
            [
             0.6,
             "#e6f5d0"
            ],
            [
             0.7,
             "#b8e186"
            ],
            [
             0.8,
             "#7fbc41"
            ],
            [
             0.9,
             "#4d9221"
            ],
            [
             1,
             "#276419"
            ]
           ],
           "sequential": [
            [
             0,
             "#0d0887"
            ],
            [
             0.1111111111111111,
             "#46039f"
            ],
            [
             0.2222222222222222,
             "#7201a8"
            ],
            [
             0.3333333333333333,
             "#9c179e"
            ],
            [
             0.4444444444444444,
             "#bd3786"
            ],
            [
             0.5555555555555556,
             "#d8576b"
            ],
            [
             0.6666666666666666,
             "#ed7953"
            ],
            [
             0.7777777777777778,
             "#fb9f3a"
            ],
            [
             0.8888888888888888,
             "#fdca26"
            ],
            [
             1,
             "#f0f921"
            ]
           ],
           "sequentialminus": [
            [
             0,
             "#0d0887"
            ],
            [
             0.1111111111111111,
             "#46039f"
            ],
            [
             0.2222222222222222,
             "#7201a8"
            ],
            [
             0.3333333333333333,
             "#9c179e"
            ],
            [
             0.4444444444444444,
             "#bd3786"
            ],
            [
             0.5555555555555556,
             "#d8576b"
            ],
            [
             0.6666666666666666,
             "#ed7953"
            ],
            [
             0.7777777777777778,
             "#fb9f3a"
            ],
            [
             0.8888888888888888,
             "#fdca26"
            ],
            [
             1,
             "#f0f921"
            ]
           ]
          },
          "colorway": [
           "#636efa",
           "#EF553B",
           "#00cc96",
           "#ab63fa",
           "#FFA15A",
           "#19d3f3",
           "#FF6692",
           "#B6E880",
           "#FF97FF",
           "#FECB52"
          ],
          "font": {
           "color": "#2a3f5f"
          },
          "geo": {
           "bgcolor": "white",
           "lakecolor": "white",
           "landcolor": "#E5ECF6",
           "showlakes": true,
           "showland": true,
           "subunitcolor": "white"
          },
          "hoverlabel": {
           "align": "left"
          },
          "hovermode": "closest",
          "mapbox": {
           "style": "light"
          },
          "paper_bgcolor": "white",
          "plot_bgcolor": "#E5ECF6",
          "polar": {
           "angularaxis": {
            "gridcolor": "white",
            "linecolor": "white",
            "ticks": ""
           },
           "bgcolor": "#E5ECF6",
           "radialaxis": {
            "gridcolor": "white",
            "linecolor": "white",
            "ticks": ""
           }
          },
          "scene": {
           "xaxis": {
            "backgroundcolor": "#E5ECF6",
            "gridcolor": "white",
            "gridwidth": 2,
            "linecolor": "white",
            "showbackground": true,
            "ticks": "",
            "zerolinecolor": "white"
           },
           "yaxis": {
            "backgroundcolor": "#E5ECF6",
            "gridcolor": "white",
            "gridwidth": 2,
            "linecolor": "white",
            "showbackground": true,
            "ticks": "",
            "zerolinecolor": "white"
           },
           "zaxis": {
            "backgroundcolor": "#E5ECF6",
            "gridcolor": "white",
            "gridwidth": 2,
            "linecolor": "white",
            "showbackground": true,
            "ticks": "",
            "zerolinecolor": "white"
           }
          },
          "shapedefaults": {
           "line": {
            "color": "#2a3f5f"
           }
          },
          "ternary": {
           "aaxis": {
            "gridcolor": "white",
            "linecolor": "white",
            "ticks": ""
           },
           "baxis": {
            "gridcolor": "white",
            "linecolor": "white",
            "ticks": ""
           },
           "bgcolor": "#E5ECF6",
           "caxis": {
            "gridcolor": "white",
            "linecolor": "white",
            "ticks": ""
           }
          },
          "title": {
           "x": 0.05
          },
          "xaxis": {
           "automargin": true,
           "gridcolor": "white",
           "linecolor": "white",
           "ticks": "",
           "title": {
            "standoff": 15
           },
           "zerolinecolor": "white",
           "zerolinewidth": 2
          },
          "yaxis": {
           "automargin": true,
           "gridcolor": "white",
           "linecolor": "white",
           "ticks": "",
           "title": {
            "standoff": 15
           },
           "zerolinecolor": "white",
           "zerolinewidth": 2
          }
         }
        },
        "title": {
         "font": {
          "color": "black",
          "family": "Times New Roman",
          "size": 17
         },
         "pad": {
          "t": 1
         },
         "text": "Common and Dangerous Shot Types (2020-2021)",
         "x": 0.5
        },
        "width": 800,
        "xaxis": {
         "linecolor": "black",
         "linewidth": 1,
         "showgrid": false,
         "showline": true,
         "tickfont": {
          "color": "black",
          "family": "Times New Roman",
          "size": 12
         },
         "title": {
          "font": {
           "color": "black",
           "family": "Times New Roman",
           "size": 14
          },
          "text": "Type of Shot"
         },
         "zeroline": false
        },
        "yaxis": {
         "linecolor": "black",
         "linewidth": 1,
         "showgrid": false,
         "showline": true,
         "tickfont": {
          "color": "black",
          "family": "Times New Roman",
          "size": 12
         },
         "title": {
          "font": {
           "color": "black",
           "family": "Times New Roman",
           "size": 14
          },
          "text": "Total Shots"
         },
         "zeroline": false
        },
        "yaxis2": {
         "linecolor": "black",
         "linewidth": 1,
         "overlaying": "y",
         "showgrid": false,
         "showline": true,
         "side": "right",
         "tickfont": {
          "color": "black",
          "family": "Times New Roman",
          "size": 12
         },
         "title": {
          "font": {
           "color": "black",
           "family": "Times New Roman",
           "size": 14
          },
          "text": "Goal Rate (%)"
         },
         "zeroline": false
        }
       }
      },
      "image/png": "[encoded data removed]"
     },
     "metadata": {},
     "output_type": "display_data"
    }
   ],
   "source": [
    "order = ratios.sort_values(ascending=False).index\n",
    "\n",
    "ratios_sorted = ratios.loc[order]\n",
    "sums_shots_sorted = sums_shots.loc[order]\n",
    "\n",
    "fig = go.Figure()\n",
    "\n",
    "# Bar: total shots\n",
    "fig.add_trace(go.Bar(\n",
    "    x=sums_shots_sorted.index.astype(str),\n",
    "    y=sums_shots_sorted.values,\n",
    "    name=\"Total shots\",\n",
    "    marker_color=\"orange\",\n",
    "    opacity=0.6,\n",
    "    yaxis=\"y1\"\n",
    "))\n",
    "\n",
    "# Line: ratio (%) of goals, second axis\n",
    "fig.add_trace(go.Scatter(\n",
    "    x=ratios_sorted.index.astype(str),\n",
    "    y=ratios_sorted.values,\n",
    "    name=\"Goal rate (%)\",\n",
    "    mode=\"markers\",\n",
    "    marker=dict(color=\"red\"),\n",
    "    yaxis=\"y2\"\n",
    "))\n",
    "\n",
    "# Layout with dual y-axes\n",
    "\n",
    "family_titles=\"Times New Roman\"\n",
    "fig.update_layout(\n",
    "    plot_bgcolor=\"white\",\n",
    "    paper_bgcolor=\"white\",\n",
    "    title=dict(\n",
    "    text=\"Common and Dangerous Shot Types (2020-2021)\",\n",
    "    font=dict(size=17, family=family_titles, color=\"black\"),  # title font\n",
    "    x=0.5,\n",
    "    pad=dict(t=1)\n",
    "\n",
    "    ),\n",
    "    xaxis=dict(\n",
    "        title=dict(\n",
    "            text=\"Type of Shot\",\n",
    "            font=dict(size=14, family=family_titles, color=\"black\")\n",
    "        ),\n",
    "        tickfont=dict(size=12, family=family_titles, color=\"black\"),\n",
    "        showgrid=False,\n",
    "        zeroline=False,      \n",
    "        showline=True,       \n",
    "        linecolor=\"black\",   \n",
    "        linewidth=1        \n",
    "    ),\n",
    "    yaxis=dict(\n",
    "        title=dict(\n",
    "            text=\"Total Shots\",\n",
    "            font=dict(size=14, family=family_titles, color=\"black\")\n",
    "        ),\n",
    "        tickfont=dict(size=12, family=family_titles, color=\"black\"),\n",
    "        showgrid=False,\n",
    "        zeroline=False,      \n",
    "        showline=True,       \n",
    "        linecolor=\"black\",   \n",
    "        linewidth=1        \n",
    "    ),\n",
    "    yaxis2=dict(\n",
    "        title=dict(\n",
    "            text=\"Goal Rate (%)\",\n",
    "            font=dict(size=14, family=family_titles, color=\"black\")\n",
    "        ),\n",
    "        tickfont=dict(size=12, family=family_titles, color=\"black\"),\n",
    "        overlaying=\"y\",\n",
    "        side=\"right\",\n",
    "        showgrid=False,\n",
    "        zeroline=False,      \n",
    "        showline=True,       \n",
    "        linecolor=\"black\",   \n",
    "        linewidth=1        \n",
    "    ),\n",
    "    legend=dict(\n",
    "        x=0.99, y=1.01,              \n",
    "        xanchor=\"right\", yanchor=\"top\",\n",
    "        font=dict(size=11, family=family_titles, color=\"black\"),\n",
    "        bgcolor=\"rgba(255,255,255,0.5)\"  # optional background\n",
    "    ),\n",
    "    barmode=\"group\",\n",
    "    margin=dict(t=40)\n",
    "    )\n",
    "\n",
    "#fig.add_annotation(\n",
    "#    text=caption,\n",
    "#    xref=\"paper\", yref=\"paper\",\n",
    "#    x=1.1, y=-0.4,\n",
    "#    showarrow=False,\n",
    "#    font=dict(size=12, family=family_titles, color=\"black\"),\n",
    "#    align=\"left\"\n",
    "#)\n",
    "fig.update_layout(width=800, height=400)\n",
    "fig.write_image(OUT_PATH_VIS+\"Shot_Types_2020_2021.svg\")   # SVG\n",
    "fig.write_image(OUT_PATH_VIS+\"Shot_Types_2020_2021.png\", scale=5)\n",
    "fig.show()"
   ]
  },
  {
   "cell_type": "code",
   "execution_count": 20,
   "id": "bed25b3c-6f3b-4cb0-85fa-77d7e4fa8e55",
   "metadata": {},
   "outputs": [
    {
     "name": "stdout",
     "output_type": "stream",
     "text": [
      "This figure compares the different types of shot during the 2021-2022 seasons. The bars show the total number of shots per type.<br>Bars show total shots with goals stacked on top.The markers shows the rate of goals per type (%). We observe that the most common<br>type of shot is by far the 'wrist', while the most dangerous, i.e. the one with the highest scoring rate is the 'tip-in'.\n"
     ]
    }
   ],
   "source": [
    "caption=(\"This figure compares the different types of shot during the 2021-2022 seasons. The bars show the total number of shots per type.<br>\"\n",
    "          \"Bars show total shots with goals stacked on top.The markers shows the rate of goals per type (%). We observe that the most common<br>\" \n",
    "        \"type of shot is by far the 'wrist', while the most dangerous, i.e. the one with the highest scoring rate is the 'tip-in'.\")\n",
    "print(caption)"
   ]
  },
  {
   "cell_type": "code",
   "execution_count": 21,
   "id": "aadcb706-8116-4ee3-9a62-7df3a5797232",
   "metadata": {},
   "outputs": [
    {
     "name": "stdout",
     "output_type": "stream",
     "text": [
      "A single figure is sufficient for this task. On a single view, it is possible to see the total number of shots and understand the most common ones.However, since the scoring rate is more important as information, the bars have been sorted by decreasing rate values.\n"
     ]
    }
   ],
   "source": [
    "exp=(\"A single figure is sufficient for this task. On a single view, it is possible to see the total number of shots and understand the most common ones.\"\n",
    "     \"However, since the scoring rate is more important as information, the bars have been sorted by decreasing rate values.\")\n",
    "print(exp)"
   ]
  },
  {
   "cell_type": "markdown",
   "id": "b1e5ddbe-ee74-4b62-983a-6aa091a53624",
   "metadata": {},
   "source": [
    "## Second Figure"
   ]
  },
  {
   "cell_type": "markdown",
   "id": "4841ba2d-5753-4b51-9c81-e86806fbf480",
   "metadata": {},
   "source": [
    "Instruction: \n",
    "What is the relationship between the distance a shot was taken and the chance\n",
    "it was a goal? Produce a figure for each season between 2018-19 to 2020-21\n",
    "to answer this, and add it to your blog post along with a couple of sentences\n",
    "describing your figure. Has there been much change over the past three\n",
    "seasons? Why did you choose this figure?"
   ]
  },
  {
   "cell_type": "code",
   "execution_count": 22,
   "id": "97a0b540-6d91-4b1d-86e8-04b2d4a3bc70",
   "metadata": {},
   "outputs": [],
   "source": [
    "### Second Figure_prep"
   ]
  },
  {
   "cell_type": "code",
   "execution_count": 23,
   "id": "1f22972b-fa8d-4807-af3e-7d842d0e0792",
   "metadata": {},
   "outputs": [],
   "source": [
    "'''Import the data on the three concerned seasons'''\n",
    "\n",
    "df_2018=pd.read_csv(\"ift6758/data/2016-2024_processed/2018-2019_events.csv\")\n",
    "df_2019=pd.read_csv(\"ift6758/data/2016-2024_processed/2019-2020_events.csv\")\n",
    "df_2020=pd.read_csv(\"ift6758/data/2016-2024_processed/2020-2021_events.csv\")"
   ]
  },
  {
   "cell_type": "code",
   "execution_count": 24,
   "id": "6179d99d-af74-45fd-a383-3f57b10f5b58",
   "metadata": {},
   "outputs": [
    {
     "data": {
      "text/html": [
       "<div>\n",
       "<style scoped>\n",
       "    .dataframe tbody tr th:only-of-type {\n",
       "        vertical-align: middle;\n",
       "    }\n",
       "\n",
       "    .dataframe tbody tr th {\n",
       "        vertical-align: top;\n",
       "    }\n",
       "\n",
       "    .dataframe thead th {\n",
       "        text-align: right;\n",
       "    }\n",
       "</style>\n",
       "<table border=\"1\" class=\"dataframe\">\n",
       "  <thead>\n",
       "    <tr style=\"text-align: right;\">\n",
       "      <th></th>\n",
       "      <th>game_id</th>\n",
       "      <th>season</th>\n",
       "      <th>game_type</th>\n",
       "      <th>event_type</th>\n",
       "      <th>period</th>\n",
       "      <th>period_time</th>\n",
       "      <th>x_coord</th>\n",
       "      <th>y_coord</th>\n",
       "      <th>shot_type</th>\n",
       "      <th>team_id</th>\n",
       "      <th>team_name</th>\n",
       "      <th>player_name</th>\n",
       "      <th>goalie_name</th>\n",
       "    </tr>\n",
       "  </thead>\n",
       "  <tbody>\n",
       "    <tr>\n",
       "      <th>0</th>\n",
       "      <td>2018020001</td>\n",
       "      <td>2018</td>\n",
       "      <td>regular</td>\n",
       "      <td>SHOT_ON_GOAL</td>\n",
       "      <td>1</td>\n",
       "      <td>00:29</td>\n",
       "      <td>78.0</td>\n",
       "      <td>-19.0</td>\n",
       "      <td>backhand</td>\n",
       "      <td>8</td>\n",
       "      <td>Montréal Canadiens</td>\n",
       "      <td>Artturi Lehkonen</td>\n",
       "      <td>Frederik Andersen</td>\n",
       "    </tr>\n",
       "    <tr>\n",
       "      <th>1</th>\n",
       "      <td>2018020001</td>\n",
       "      <td>2018</td>\n",
       "      <td>regular</td>\n",
       "      <td>SHOT_ON_GOAL</td>\n",
       "      <td>1</td>\n",
       "      <td>00:49</td>\n",
       "      <td>-37.0</td>\n",
       "      <td>-10.0</td>\n",
       "      <td>snap</td>\n",
       "      <td>10</td>\n",
       "      <td>Toronto Maple Leafs</td>\n",
       "      <td>Morgan Rielly</td>\n",
       "      <td>Carey Price</td>\n",
       "    </tr>\n",
       "    <tr>\n",
       "      <th>2</th>\n",
       "      <td>2018020001</td>\n",
       "      <td>2018</td>\n",
       "      <td>regular</td>\n",
       "      <td>SHOT_ON_GOAL</td>\n",
       "      <td>1</td>\n",
       "      <td>01:00</td>\n",
       "      <td>47.0</td>\n",
       "      <td>-23.0</td>\n",
       "      <td>wrist</td>\n",
       "      <td>8</td>\n",
       "      <td>Montréal Canadiens</td>\n",
       "      <td>Brendan Gallagher</td>\n",
       "      <td>Frederik Andersen</td>\n",
       "    </tr>\n",
       "    <tr>\n",
       "      <th>3</th>\n",
       "      <td>2018020001</td>\n",
       "      <td>2018</td>\n",
       "      <td>regular</td>\n",
       "      <td>SHOT_ON_GOAL</td>\n",
       "      <td>1</td>\n",
       "      <td>03:54</td>\n",
       "      <td>53.0</td>\n",
       "      <td>14.0</td>\n",
       "      <td>snap</td>\n",
       "      <td>8</td>\n",
       "      <td>Montréal Canadiens</td>\n",
       "      <td>Brendan Gallagher</td>\n",
       "      <td>Frederik Andersen</td>\n",
       "    </tr>\n",
       "    <tr>\n",
       "      <th>4</th>\n",
       "      <td>2018020001</td>\n",
       "      <td>2018</td>\n",
       "      <td>regular</td>\n",
       "      <td>SHOT_ON_GOAL</td>\n",
       "      <td>1</td>\n",
       "      <td>04:06</td>\n",
       "      <td>77.0</td>\n",
       "      <td>-2.0</td>\n",
       "      <td>snap</td>\n",
       "      <td>8</td>\n",
       "      <td>Montréal Canadiens</td>\n",
       "      <td>Mike Reilly</td>\n",
       "      <td>Frederik Andersen</td>\n",
       "    </tr>\n",
       "  </tbody>\n",
       "</table>\n",
       "</div>"
      ],
      "text/plain": [
       "      game_id  season game_type    event_type  period period_time  x_coord  \\\n",
       "0  2018020001    2018   regular  SHOT_ON_GOAL       1       00:29     78.0   \n",
       "1  2018020001    2018   regular  SHOT_ON_GOAL       1       00:49    -37.0   \n",
       "2  2018020001    2018   regular  SHOT_ON_GOAL       1       01:00     47.0   \n",
       "3  2018020001    2018   regular  SHOT_ON_GOAL       1       03:54     53.0   \n",
       "4  2018020001    2018   regular  SHOT_ON_GOAL       1       04:06     77.0   \n",
       "\n",
       "   y_coord shot_type  team_id            team_name        player_name  \\\n",
       "0    -19.0  backhand        8   Montréal Canadiens   Artturi Lehkonen   \n",
       "1    -10.0      snap       10  Toronto Maple Leafs      Morgan Rielly   \n",
       "2    -23.0     wrist        8   Montréal Canadiens  Brendan Gallagher   \n",
       "3     14.0      snap        8   Montréal Canadiens  Brendan Gallagher   \n",
       "4     -2.0      snap        8   Montréal Canadiens        Mike Reilly   \n",
       "\n",
       "         goalie_name  \n",
       "0  Frederik Andersen  \n",
       "1        Carey Price  \n",
       "2  Frederik Andersen  \n",
       "3  Frederik Andersen  \n",
       "4  Frederik Andersen  "
      ]
     },
     "execution_count": 24,
     "metadata": {},
     "output_type": "execute_result"
    }
   ],
   "source": [
    "df_2018.head()"
   ]
  },
  {
   "cell_type": "code",
   "execution_count": 25,
   "id": "cabe92c8-e030-4d31-a9d8-dadcd4c1774f",
   "metadata": {},
   "outputs": [],
   "source": [
    "\"\"\"Write a function to calculate the distance from coordinates\"\"\"\n",
    "\n",
    "def calculate_distance(df):\n",
    "    df['x_shot'] = df['x_coord']\n",
    "    df['y_shot'] = df['y_coord']\n",
    "\n",
    "    # If x < 0, mirror the rink\n",
    "    df.loc[df['x_coord'] < 0, 'x_shot'] = -df.loc[df['x_coord'] < 0, 'x_coord']\n",
    "    df.loc[df['x_coord'] < 0, 'y_shot'] = -df.loc[df['x_coord'] < 0, 'y_coord']\n",
    "    valid_coords = df['x_shot'].notna() & df['y_shot'].notna()\n",
    "\n",
    "    df.loc[valid_coords, 'distance_from_net'] = (\n",
    "    ((89 - df.loc[valid_coords, 'x_shot'])**2 + (df.loc[valid_coords, 'y_shot'])**2) ** 0.5)\n",
    "\n",
    "    df.loc[valid_coords, 'shot_angle'] = np.degrees(\n",
    "    np.arctan2(np.abs(df.loc[valid_coords, 'y_shot']), 89 - df.loc[valid_coords, 'x_shot'])\n",
    "    )\n",
    "    return df"
   ]
  },
  {
   "cell_type": "code",
   "execution_count": 26,
   "id": "f530c2e3-364b-4fc5-9cef-97c09e3cc437",
   "metadata": {},
   "outputs": [],
   "source": [
    "df_2018=calculate_distance(df_2018)\n",
    "df_2019=calculate_distance(df_2019)\n",
    "df_2020=calculate_distance(df_2020)"
   ]
  },
  {
   "cell_type": "markdown",
   "id": "e39073e7-e844-4561-9f69-146d551445fa",
   "metadata": {},
   "source": [
    "### Second Figure_tests"
   ]
  },
  {
   "cell_type": "code",
   "execution_count": 27,
   "id": "f48e87d2-8cf8-4929-a6eb-2b2691e60878",
   "metadata": {},
   "outputs": [
    {
     "data": {
      "image/png": "[encoded data removed]",
      "text/plain": [
       "<Figure size 800x600 with 1 Axes>"
      ]
     },
     "metadata": {},
     "output_type": "display_data"
    }
   ],
   "source": [
    "\"\"\"Visualize the distribution of the distances to see that it all looks corrrect\"\"\"\n",
    "\n",
    "temp_all=df_2018[\"distance_from_net\"]\n",
    "temp_goal=df_2018.loc[df_2018[\"event_type\"] == \"GOAL\", \"distance_from_net\"]\n",
    "\n",
    "plt.figure(figsize=(8,6))\n",
    "\n",
    "sns.histplot(temp_all, color=\"skyblue\", label=\"All\", kde=False, bins=200, alpha=0.5)\n",
    "sns.histplot(temp_goal, color=\"orange\", label=\"GOALs\", kde=False, bins=200, alpha=0.7)\n",
    "\n",
    "plt.title(\"Distribution\")\n",
    "plt.xlabel(\"Distance from net (ft)\")\n",
    "plt.ylabel(\"Number of Shots\")\n",
    "plt.legend()\n",
    "plt.show()"
   ]
  },
  {
   "cell_type": "code",
   "execution_count": 28,
   "id": "1ba14049-48ed-495d-9f3f-32d93a4f55ef",
   "metadata": {},
   "outputs": [],
   "source": [
    "'''Write a function to caclulate the metrics needed for the figure'''\n",
    "bin_size = 5\n",
    "\n",
    "def calculate_metrics(df):\n",
    "\n",
    "    df['distance_bin'] = (df['distance_from_net'].dropna() // bin_size * bin_size).astype(int)\n",
    "\n",
    "    shots_per_bin = df.groupby('distance_bin').size()\n",
    "\n",
    "    goals_per_bin = df.loc[df['event_type'] == \"GOAL\"].groupby('distance_bin').size()\n",
    "\n",
    "    shots_per_sum = (shots_per_bin / shots_per_bin.sum()*100).round(2)\n",
    "    \n",
    "    # 4. Compute goal rate (goals / shots)\n",
    "    rate_per_bin = ((goals_per_bin / shots_per_bin).fillna(0)*100).round(2)\n",
    "\n",
    "    return shots_per_bin, rate_per_bin, shots_per_sum"
   ]
  },
  {
   "cell_type": "code",
   "execution_count": 29,
   "id": "c8e338ad-9385-4886-8f28-5acd0de610c9",
   "metadata": {},
   "outputs": [
    {
     "data": {
      "application/vnd.plotly.v1+json": {
       "config": {
        "plotlyServerURL": "https://plot.ly"
       },
       "data": [
        {
         "marker": {
          "color": "orange"
         },
         "name": "Total shots",
         "opacity": 0.6,
         "type": "bar",
         "x": {
          "bdata": "AAAAAAAABEAAAAAAAAAeQAAAAAAAAClAAAAAAACAMUAAAAAAAIA2QAAAAAAAgDtAAAAAAABAQEAAAAAAAMBCQAAAAAAAQEVAAAAAAADAR0AAAAAAAEBKQAAAAAAAwExAAAAAAABAT0AAAAAAAOBQQAAAAAAAIFJAAAAAAABgU0AAAAAAAKBUQAAAAAAA4FVAAAAAAAAgV0AAAAAAAGBYQA==",
          "dtype": "f8"
         },
         "y": {
          "bdata": "BAFDHnQpsRwDGk4bYhsCHOcZCRd8FysY7wwYBWgCYAJiAloCOAE0AA==",
          "dtype": "i2"
         },
         "yaxis": "y"
        },
        {
         "marker": {
          "color": "red"
         },
         "mode": "markers+lines",
         "name": "Goal rate (%)",
         "type": "scatter",
         "x": {
          "bdata": "AAAAAAAABEAAAAAAAAAeQAAAAAAAAClAAAAAAACAMUAAAAAAAIA2QAAAAAAAgDtAAAAAAABAQEAAAAAAAMBCQAAAAAAAQEVAAAAAAADAR0AAAAAAAEBKQAAAAAAAwExAAAAAAABAT0AAAAAAAOBQQAAAAAAAIFJAAAAAAABgU0AAAAAAAKBUQAAAAAAA4FVAAAAAAAAgV0AAAAAAAGBYQA==",
          "dtype": "f8"
         },
         "y": {
          "bdata": "SOF6FK4nQEBmZmZmZqYyQD0K16NwvTBAKVyPwvWoLkD2KFyPwvUoQIXrUbgehSZAH4XrUbgeIUAAAAAAAAAZQMP1KFyPwhJAw/UoXI/CD0BSuB6F61EKQPYoXI/C9QhAAAAAAAAABkBmZmZmZmYCQBSuR+F6FAZA9ihcj8L1DEA9CtejcD0KQOxRuB6F6wdAhetRuB6FFEAAAAAAAAAAAA==",
          "dtype": "f8"
         },
         "yaxis": "y2"
        }
       ],
       "layout": {
        "barmode": "group",
        "legend": {
         "bgcolor": "rgba(255,255,255,0.5)",
         "font": {
          "color": "black",
          "family": "Times New Roman",
          "size": 11
         },
         "x": 0.99,
         "xanchor": "right",
         "y": 1.01,
         "yanchor": "top"
        },
        "margin": {
         "t": 40
        },
        "paper_bgcolor": "white",
        "plot_bgcolor": "white",
        "template": {
         "data": {
          "bar": [
           {
            "error_x": {
             "color": "#2a3f5f"
            },
            "error_y": {
             "color": "#2a3f5f"
            },
            "marker": {
             "line": {
              "color": "#E5ECF6",
              "width": 0.5
             },
             "pattern": {
              "fillmode": "overlay",
              "size": 10,
              "solidity": 0.2
             }
            },
            "type": "bar"
           }
          ],
          "barpolar": [
           {
            "marker": {
             "line": {
              "color": "#E5ECF6",
              "width": 0.5
             },
             "pattern": {
              "fillmode": "overlay",
              "size": 10,
              "solidity": 0.2
             }
            },
            "type": "barpolar"
           }
          ],
          "carpet": [
           {
            "aaxis": {
             "endlinecolor": "#2a3f5f",
             "gridcolor": "white",
             "linecolor": "white",
             "minorgridcolor": "white",
             "startlinecolor": "#2a3f5f"
            },
            "baxis": {
             "endlinecolor": "#2a3f5f",
             "gridcolor": "white",
             "linecolor": "white",
             "minorgridcolor": "white",
             "startlinecolor": "#2a3f5f"
            },
            "type": "carpet"
           }
          ],
          "choropleth": [
           {
            "colorbar": {
             "outlinewidth": 0,
             "ticks": ""
            },
            "type": "choropleth"
           }
          ],
          "contour": [
           {
            "colorbar": {
             "outlinewidth": 0,
             "ticks": ""
            },
            "colorscale": [
             [
              0,
              "#0d0887"
             ],
             [
              0.1111111111111111,
              "#46039f"
             ],
             [
              0.2222222222222222,
              "#7201a8"
             ],
             [
              0.3333333333333333,
              "#9c179e"
             ],
             [
              0.4444444444444444,
              "#bd3786"
             ],
             [
              0.5555555555555556,
              "#d8576b"
             ],
             [
              0.6666666666666666,
              "#ed7953"
             ],
             [
              0.7777777777777778,
              "#fb9f3a"
             ],
             [
              0.8888888888888888,
              "#fdca26"
             ],
             [
              1,
              "#f0f921"
             ]
            ],
            "type": "contour"
           }
          ],
          "contourcarpet": [
           {
            "colorbar": {
             "outlinewidth": 0,
             "ticks": ""
            },
            "type": "contourcarpet"
           }
          ],
          "heatmap": [
           {
            "colorbar": {
             "outlinewidth": 0,
             "ticks": ""
            },
            "colorscale": [
             [
              0,
              "#0d0887"
             ],
             [
              0.1111111111111111,
              "#46039f"
             ],
             [
              0.2222222222222222,
              "#7201a8"
             ],
             [
              0.3333333333333333,
              "#9c179e"
             ],
             [
              0.4444444444444444,
              "#bd3786"
             ],
             [
              0.5555555555555556,
              "#d8576b"
             ],
             [
              0.6666666666666666,
              "#ed7953"
             ],
             [
              0.7777777777777778,
              "#fb9f3a"
             ],
             [
              0.8888888888888888,
              "#fdca26"
             ],
             [
              1,
              "#f0f921"
             ]
            ],
            "type": "heatmap"
           }
          ],
          "histogram": [
           {
            "marker": {
             "pattern": {
              "fillmode": "overlay",
              "size": 10,
              "solidity": 0.2
             }
            },
            "type": "histogram"
           }
          ],
          "histogram2d": [
           {
            "colorbar": {
             "outlinewidth": 0,
             "ticks": ""
            },
            "colorscale": [
             [
              0,
              "#0d0887"
             ],
             [
              0.1111111111111111,
              "#46039f"
             ],
             [
              0.2222222222222222,
              "#7201a8"
             ],
             [
              0.3333333333333333,
              "#9c179e"
             ],
             [
              0.4444444444444444,
              "#bd3786"
             ],
             [
              0.5555555555555556,
              "#d8576b"
             ],
             [
              0.6666666666666666,
              "#ed7953"
             ],
             [
              0.7777777777777778,
              "#fb9f3a"
             ],
             [
              0.8888888888888888,
              "#fdca26"
             ],
             [
              1,
              "#f0f921"
             ]
            ],
            "type": "histogram2d"
           }
          ],
          "histogram2dcontour": [
           {
            "colorbar": {
             "outlinewidth": 0,
             "ticks": ""
            },
            "colorscale": [
             [
              0,
              "#0d0887"
             ],
             [
              0.1111111111111111,
              "#46039f"
             ],
             [
              0.2222222222222222,
              "#7201a8"
             ],
             [
              0.3333333333333333,
              "#9c179e"
             ],
             [
              0.4444444444444444,
              "#bd3786"
             ],
             [
              0.5555555555555556,
              "#d8576b"
             ],
             [
              0.6666666666666666,
              "#ed7953"
             ],
             [
              0.7777777777777778,
              "#fb9f3a"
             ],
             [
              0.8888888888888888,
              "#fdca26"
             ],
             [
              1,
              "#f0f921"
             ]
            ],
            "type": "histogram2dcontour"
           }
          ],
          "mesh3d": [
           {
            "colorbar": {
             "outlinewidth": 0,
             "ticks": ""
            },
            "type": "mesh3d"
           }
          ],
          "parcoords": [
           {
            "line": {
             "colorbar": {
              "outlinewidth": 0,
              "ticks": ""
             }
            },
            "type": "parcoords"
           }
          ],
          "pie": [
           {
            "automargin": true,
            "type": "pie"
           }
          ],
          "scatter": [
           {
            "fillpattern": {
             "fillmode": "overlay",
             "size": 10,
             "solidity": 0.2
            },
            "type": "scatter"
           }
          ],
          "scatter3d": [
           {
            "line": {
             "colorbar": {
              "outlinewidth": 0,
              "ticks": ""
             }
            },
            "marker": {
             "colorbar": {
              "outlinewidth": 0,
              "ticks": ""
             }
            },
            "type": "scatter3d"
           }
          ],
          "scattercarpet": [
           {
            "marker": {
             "colorbar": {
              "outlinewidth": 0,
              "ticks": ""
             }
            },
            "type": "scattercarpet"
           }
          ],
          "scattergeo": [
           {
            "marker": {
             "colorbar": {
              "outlinewidth": 0,
              "ticks": ""
             }
            },
            "type": "scattergeo"
           }
          ],
          "scattergl": [
           {
            "marker": {
             "colorbar": {
              "outlinewidth": 0,
              "ticks": ""
             }
            },
            "type": "scattergl"
           }
          ],
          "scattermap": [
           {
            "marker": {
             "colorbar": {
              "outlinewidth": 0,
              "ticks": ""
             }
            },
            "type": "scattermap"
           }
          ],
          "scattermapbox": [
           {
            "marker": {
             "colorbar": {
              "outlinewidth": 0,
              "ticks": ""
             }
            },
            "type": "scattermapbox"
           }
          ],
          "scatterpolar": [
           {
            "marker": {
             "colorbar": {
              "outlinewidth": 0,
              "ticks": ""
             }
            },
            "type": "scatterpolar"
           }
          ],
          "scatterpolargl": [
           {
            "marker": {
             "colorbar": {
              "outlinewidth": 0,
              "ticks": ""
             }
            },
            "type": "scatterpolargl"
           }
          ],
          "scatterternary": [
           {
            "marker": {
             "colorbar": {
              "outlinewidth": 0,
              "ticks": ""
             }
            },
            "type": "scatterternary"
           }
          ],
          "surface": [
           {
            "colorbar": {
             "outlinewidth": 0,
             "ticks": ""
            },
            "colorscale": [
             [
              0,
              "#0d0887"
             ],
             [
              0.1111111111111111,
              "#46039f"
             ],
             [
              0.2222222222222222,
              "#7201a8"
             ],
             [
              0.3333333333333333,
              "#9c179e"
             ],
             [
              0.4444444444444444,
              "#bd3786"
             ],
             [
              0.5555555555555556,
              "#d8576b"
             ],
             [
              0.6666666666666666,
              "#ed7953"
             ],
             [
              0.7777777777777778,
              "#fb9f3a"
             ],
             [
              0.8888888888888888,
              "#fdca26"
             ],
             [
              1,
              "#f0f921"
             ]
            ],
            "type": "surface"
           }
          ],
          "table": [
           {
            "cells": {
             "fill": {
              "color": "#EBF0F8"
             },
             "line": {
              "color": "white"
             }
            },
            "header": {
             "fill": {
              "color": "#C8D4E3"
             },
             "line": {
              "color": "white"
             }
            },
            "type": "table"
           }
          ]
         },
         "layout": {
          "annotationdefaults": {
           "arrowcolor": "#2a3f5f",
           "arrowhead": 0,
           "arrowwidth": 1
          },
          "autotypenumbers": "strict",
          "coloraxis": {
           "colorbar": {
            "outlinewidth": 0,
            "ticks": ""
           }
          },
          "colorscale": {
           "diverging": [
            [
             0,
             "#8e0152"
            ],
            [
             0.1,
             "#c51b7d"
            ],
            [
             0.2,
             "#de77ae"
            ],
            [
             0.3,
             "#f1b6da"
            ],
            [
             0.4,
             "#fde0ef"
            ],
            [
             0.5,
             "#f7f7f7"
            ],
            [
             0.6,
             "#e6f5d0"
            ],
            [
             0.7,
             "#b8e186"
            ],
            [
             0.8,
             "#7fbc41"
            ],
            [
             0.9,
             "#4d9221"
            ],
            [
             1,
             "#276419"
            ]
           ],
           "sequential": [
            [
             0,
             "#0d0887"
            ],
            [
             0.1111111111111111,
             "#46039f"
            ],
            [
             0.2222222222222222,
             "#7201a8"
            ],
            [
             0.3333333333333333,
             "#9c179e"
            ],
            [
             0.4444444444444444,
             "#bd3786"
            ],
            [
             0.5555555555555556,
             "#d8576b"
            ],
            [
             0.6666666666666666,
             "#ed7953"
            ],
            [
             0.7777777777777778,
             "#fb9f3a"
            ],
            [
             0.8888888888888888,
             "#fdca26"
            ],
            [
             1,
             "#f0f921"
            ]
           ],
           "sequentialminus": [
            [
             0,
             "#0d0887"
            ],
            [
             0.1111111111111111,
             "#46039f"
            ],
            [
             0.2222222222222222,
             "#7201a8"
            ],
            [
             0.3333333333333333,
             "#9c179e"
            ],
            [
             0.4444444444444444,
             "#bd3786"
            ],
            [
             0.5555555555555556,
             "#d8576b"
            ],
            [
             0.6666666666666666,
             "#ed7953"
            ],
            [
             0.7777777777777778,
             "#fb9f3a"
            ],
            [
             0.8888888888888888,
             "#fdca26"
            ],
            [
             1,
             "#f0f921"
            ]
           ]
          },
          "colorway": [
           "#636efa",
           "#EF553B",
           "#00cc96",
           "#ab63fa",
           "#FFA15A",
           "#19d3f3",
           "#FF6692",
           "#B6E880",
           "#FF97FF",
           "#FECB52"
          ],
          "font": {
           "color": "#2a3f5f"
          },
          "geo": {
           "bgcolor": "white",
           "lakecolor": "white",
           "landcolor": "#E5ECF6",
           "showlakes": true,
           "showland": true,
           "subunitcolor": "white"
          },
          "hoverlabel": {
           "align": "left"
          },
          "hovermode": "closest",
          "mapbox": {
           "style": "light"
          },
          "paper_bgcolor": "white",
          "plot_bgcolor": "#E5ECF6",
          "polar": {
           "angularaxis": {
            "gridcolor": "white",
            "linecolor": "white",
            "ticks": ""
           },
           "bgcolor": "#E5ECF6",
           "radialaxis": {
            "gridcolor": "white",
            "linecolor": "white",
            "ticks": ""
           }
          },
          "scene": {
           "xaxis": {
            "backgroundcolor": "#E5ECF6",
            "gridcolor": "white",
            "gridwidth": 2,
            "linecolor": "white",
            "showbackground": true,
            "ticks": "",
            "zerolinecolor": "white"
           },
           "yaxis": {
            "backgroundcolor": "#E5ECF6",
            "gridcolor": "white",
            "gridwidth": 2,
            "linecolor": "white",
            "showbackground": true,
            "ticks": "",
            "zerolinecolor": "white"
           },
           "zaxis": {
            "backgroundcolor": "#E5ECF6",
            "gridcolor": "white",
            "gridwidth": 2,
            "linecolor": "white",
            "showbackground": true,
            "ticks": "",
            "zerolinecolor": "white"
           }
          },
          "shapedefaults": {
           "line": {
            "color": "#2a3f5f"
           }
          },
          "ternary": {
           "aaxis": {
            "gridcolor": "white",
            "linecolor": "white",
            "ticks": ""
           },
           "baxis": {
            "gridcolor": "white",
            "linecolor": "white",
            "ticks": ""
           },
           "bgcolor": "#E5ECF6",
           "caxis": {
            "gridcolor": "white",
            "linecolor": "white",
            "ticks": ""
           }
          },
          "title": {
           "x": 0.05
          },
          "xaxis": {
           "automargin": true,
           "gridcolor": "white",
           "linecolor": "white",
           "ticks": "",
           "title": {
            "standoff": 15
           },
           "zerolinecolor": "white",
           "zerolinewidth": 2
          },
          "yaxis": {
           "automargin": true,
           "gridcolor": "white",
           "linecolor": "white",
           "ticks": "",
           "title": {
            "standoff": 15
           },
           "zerolinecolor": "white",
           "zerolinewidth": 2
          }
         }
        },
        "title": {
         "font": {
          "color": "black",
          "family": "Times New Roman",
          "size": 17
         },
         "pad": {
          "t": 1
         },
         "text": "Goal Rate per Distance (2018-2019)",
         "x": 0.5
        },
        "xaxis": {
         "dtick": 10,
         "linecolor": "black",
         "linewidth": 1,
         "showgrid": false,
         "showline": true,
         "tick0": 0,
         "tickfont": {
          "color": "black",
          "family": "Times New Roman",
          "size": 12
         },
         "tickmode": "linear",
         "title": {
          "font": {
           "color": "black",
           "family": "Times New Roman",
           "size": 14
          },
          "text": "Distance (ft)"
         },
         "zeroline": false
        },
        "yaxis": {
         "linecolor": "black",
         "linewidth": 1,
         "showgrid": false,
         "showline": true,
         "tickfont": {
          "color": "black",
          "family": "Times New Roman",
          "size": 12
         },
         "title": {
          "font": {
           "color": "black",
           "family": "Times New Roman",
           "size": 14
          },
          "text": "Total Shots"
         },
         "zeroline": false
        },
        "yaxis2": {
         "dtick": 5,
         "linecolor": "black",
         "linewidth": 1,
         "overlaying": "y",
         "showgrid": false,
         "showline": true,
         "side": "right",
         "tick0": 0,
         "tickfont": {
          "color": "black",
          "family": "Times New Roman",
          "size": 12
         },
         "title": {
          "font": {
           "color": "black",
           "family": "Times New Roman",
           "size": 14
          },
          "text": "Goal Rate (%)"
         },
         "zeroline": false
        }
       }
      },
      "image/png": "[encoded data removed]"
     },
     "metadata": {},
     "output_type": "display_data"
    }
   ],
   "source": [
    "'''test for one season'''\n",
    "\n",
    "shots_per_bin, rate_per_bin, shots_per_sum=calculate_metrics(df_2018)\n",
    "\n",
    "fig = go.Figure()\n",
    "\n",
    "\n",
    "fig.add_trace(go.Bar(\n",
    "    x=(shots_per_bin.index.astype(int) + bin_size/2),  # bin midpoints\n",
    "    y=shots_per_bin.values,\n",
    "    name=\"Total shots\",\n",
    "    marker_color=\"orange\",\n",
    "    opacity=0.6,\n",
    "    yaxis=\"y1\"\n",
    "))\n",
    "\n",
    "fig.add_trace(go.Scatter(\n",
    "    x=(rate_per_bin.index.astype(int) + bin_size/2),\n",
    "    y=rate_per_bin.values,\n",
    "    name=\"Goal rate (%)\",\n",
    "    mode=\"markers+lines\",\n",
    "    marker=dict(color=\"red\"),\n",
    "    yaxis=\"y2\"\n",
    "))\n",
    "\n",
    "\n",
    "family_titles=\"Times New Roman\"\n",
    "fig.update_layout(\n",
    "    plot_bgcolor=\"white\",\n",
    "    paper_bgcolor=\"white\",\n",
    "    title=dict(\n",
    "    text=\"Goal Rate per Distance (2018-2019)\",\n",
    "    font=dict(size=17, family=family_titles, color=\"black\"),  # title font\n",
    "    x=0.5,\n",
    "    pad=dict(t=1)\n",
    "\n",
    "    ),\n",
    "    xaxis=dict(\n",
    "        title=dict(\n",
    "            text=\"Distance (ft)\",\n",
    "            font=dict(size=14, family=family_titles, color=\"black\")\n",
    "        ),\n",
    "        tickfont=dict(size=12, family=family_titles, color=\"black\"),\n",
    "        showgrid=False,\n",
    "        zeroline=False,      \n",
    "        showline=True,       \n",
    "        linecolor=\"black\",   \n",
    "        linewidth=1        \n",
    "    ),\n",
    "    yaxis=dict(\n",
    "        title=dict(\n",
    "            text=\"Total Shots\",\n",
    "            font=dict(size=14, family=family_titles, color=\"black\")\n",
    "        ),\n",
    "        tickfont=dict(size=12, family=family_titles, color=\"black\"),\n",
    "        showgrid=False,\n",
    "        zeroline=False,      \n",
    "        showline=True,       \n",
    "        linecolor=\"black\",   \n",
    "        linewidth=1        \n",
    "    ),\n",
    "    yaxis2=dict(\n",
    "        title=dict(\n",
    "            text=\"Goal Rate (%)\",\n",
    "            font=dict(size=14, family=family_titles, color=\"black\")\n",
    "        ),\n",
    "        tick0=0,\n",
    "        dtick=5,  \n",
    "        tickfont=dict(size=12, family=family_titles, color=\"black\"),\n",
    "        overlaying=\"y\",\n",
    "        side=\"right\",\n",
    "        showgrid=False,\n",
    "        zeroline=False,      \n",
    "        showline=True,       \n",
    "        linecolor=\"black\",   \n",
    "        linewidth=1        \n",
    "    ),\n",
    "    legend=dict(\n",
    "        x=0.99, y=1.01,              \n",
    "        xanchor=\"right\", yanchor=\"top\",\n",
    "        font=dict(size=11, family=family_titles, color=\"black\"),\n",
    "        bgcolor=\"rgba(255,255,255,0.5)\"  # optional background\n",
    "    ),\n",
    "    barmode=\"group\",\n",
    "    margin=dict(t=40)\n",
    "    )\n",
    "\n",
    "fig.update_xaxes(\n",
    "    tick0=0,   # where ticks start\n",
    "    dtick=10,  # step size\n",
    "    tickmode=\"linear\"\n",
    ")\n",
    "\n",
    "#fig.add_annotation(\n",
    "#    text=caption,\n",
    "#    xref=\"paper\", yref=\"paper\",\n",
    "#    x=1.1, y=-0.4,\n",
    "#    showarrow=False,\n",
    "#    font=dict(size=12, family=family_titles, color=\"black\"),\n",
    "#    align=\"left\"\n",
    "#)\n",
    "\n",
    "#fig.write_image(\"shot_types.svg\")   # SVG\n",
    "#fig.write_image(\"distance2018.png\", scale=5)\n",
    "fig.show()"
   ]
  },
  {
   "cell_type": "code",
   "execution_count": 30,
   "id": "664a9d8a-1ed4-401e-8a47-946d402d7e5f",
   "metadata": {},
   "outputs": [
    {
     "data": {
      "application/vnd.plotly.v1+json": {
       "config": {
        "plotlyServerURL": "https://plot.ly"
       },
       "data": [
        {
         "marker": {
          "color": "orange"
         },
         "name": "Total shots",
         "opacity": 0.6,
         "type": "bar",
         "x": {
          "bdata": "AAAAAAAABEAAAAAAAAAeQAAAAAAAAClAAAAAAACAMUAAAAAAAIA2QAAAAAAAgDtAAAAAAABAQEAAAAAAAMBCQAAAAAAAQEVAAAAAAADAR0AAAAAAAEBKQAAAAAAAwExAAAAAAABAT0AAAAAAAOBQQAAAAAAAIFJAAAAAAABgU0AAAAAAAKBUQAAAAAAA4FVAAAAAAAAgV0AAAAAAAGBYQA==",
          "dtype": "f8"
         },
         "y": {
          "bdata": "eAEUHM0heBm1FkcYlBgnF/sWnRM6FtMWHw0YBRICHAI7AgsCOQE6AA==",
          "dtype": "i2"
         },
         "yaxis": "y"
        },
        {
         "marker": {
          "color": "red"
         },
         "mode": "markers+lines",
         "name": "Goal rate (%)",
         "type": "scatter",
         "x": {
          "bdata": "AAAAAAAABEAAAAAAAAAeQAAAAAAAAClAAAAAAACAMUAAAAAAAIA2QAAAAAAAgDtAAAAAAABAQEAAAAAAAMBCQAAAAAAAQEVAAAAAAADAR0AAAAAAAEBKQAAAAAAAwExAAAAAAABAT0AAAAAAAOBQQAAAAAAAIFJAAAAAAABgU0AAAAAAAKBUQAAAAAAA4FVAAAAAAAAgV0AAAAAAAGBYQA==",
          "dtype": "f8"
         },
         "y": {
          "bdata": "KVyPwvXoP0DNzMzMzIw0QHsUrkfhOjFA7FG4HoXrLkDsUbgehWsqQD0K16NwPSRAH4XrUbieIEBcj8L1KFwYQPYoXI/C9RJASOF6FK5HDUDD9Shcj8IHQOxRuB6F6wVASOF6FK5HA0C4HoXrUbgGQKRwPQrXowBArkfhehSuB0CamZmZmZkDQHsUrkfheghA4XoUrkfhEUCuR+F6FK4UQA==",
          "dtype": "f8"
         },
         "yaxis": "y2"
        }
       ],
       "layout": {
        "barmode": "group",
        "legend": {
         "bgcolor": "rgba(255,255,255,0.5)",
         "font": {
          "color": "black",
          "family": "Times New Roman",
          "size": 11
         },
         "x": 0.99,
         "xanchor": "right",
         "y": 1.01,
         "yanchor": "top"
        },
        "margin": {
         "t": 40
        },
        "paper_bgcolor": "white",
        "plot_bgcolor": "white",
        "template": {
         "data": {
          "bar": [
           {
            "error_x": {
             "color": "#2a3f5f"
            },
            "error_y": {
             "color": "#2a3f5f"
            },
            "marker": {
             "line": {
              "color": "#E5ECF6",
              "width": 0.5
             },
             "pattern": {
              "fillmode": "overlay",
              "size": 10,
              "solidity": 0.2
             }
            },
            "type": "bar"
           }
          ],
          "barpolar": [
           {
            "marker": {
             "line": {
              "color": "#E5ECF6",
              "width": 0.5
             },
             "pattern": {
              "fillmode": "overlay",
              "size": 10,
              "solidity": 0.2
             }
            },
            "type": "barpolar"
           }
          ],
          "carpet": [
           {
            "aaxis": {
             "endlinecolor": "#2a3f5f",
             "gridcolor": "white",
             "linecolor": "white",
             "minorgridcolor": "white",
             "startlinecolor": "#2a3f5f"
            },
            "baxis": {
             "endlinecolor": "#2a3f5f",
             "gridcolor": "white",
             "linecolor": "white",
             "minorgridcolor": "white",
             "startlinecolor": "#2a3f5f"
            },
            "type": "carpet"
           }
          ],
          "choropleth": [
           {
            "colorbar": {
             "outlinewidth": 0,
             "ticks": ""
            },
            "type": "choropleth"
           }
          ],
          "contour": [
           {
            "colorbar": {
             "outlinewidth": 0,
             "ticks": ""
            },
            "colorscale": [
             [
              0,
              "#0d0887"
             ],
             [
              0.1111111111111111,
              "#46039f"
             ],
             [
              0.2222222222222222,
              "#7201a8"
             ],
             [
              0.3333333333333333,
              "#9c179e"
             ],
             [
              0.4444444444444444,
              "#bd3786"
             ],
             [
              0.5555555555555556,
              "#d8576b"
             ],
             [
              0.6666666666666666,
              "#ed7953"
             ],
             [
              0.7777777777777778,
              "#fb9f3a"
             ],
             [
              0.8888888888888888,
              "#fdca26"
             ],
             [
              1,
              "#f0f921"
             ]
            ],
            "type": "contour"
           }
          ],
          "contourcarpet": [
           {
            "colorbar": {
             "outlinewidth": 0,
             "ticks": ""
            },
            "type": "contourcarpet"
           }
          ],
          "heatmap": [
           {
            "colorbar": {
             "outlinewidth": 0,
             "ticks": ""
            },
            "colorscale": [
             [
              0,
              "#0d0887"
             ],
             [
              0.1111111111111111,
              "#46039f"
             ],
             [
              0.2222222222222222,
              "#7201a8"
             ],
             [
              0.3333333333333333,
              "#9c179e"
             ],
             [
              0.4444444444444444,
              "#bd3786"
             ],
             [
              0.5555555555555556,
              "#d8576b"
             ],
             [
              0.6666666666666666,
              "#ed7953"
             ],
             [
              0.7777777777777778,
              "#fb9f3a"
             ],
             [
              0.8888888888888888,
              "#fdca26"
             ],
             [
              1,
              "#f0f921"
             ]
            ],
            "type": "heatmap"
           }
          ],
          "histogram": [
           {
            "marker": {
             "pattern": {
              "fillmode": "overlay",
              "size": 10,
              "solidity": 0.2
             }
            },
            "type": "histogram"
           }
          ],
          "histogram2d": [
           {
            "colorbar": {
             "outlinewidth": 0,
             "ticks": ""
            },
            "colorscale": [
             [
              0,
              "#0d0887"
             ],
             [
              0.1111111111111111,
              "#46039f"
             ],
             [
              0.2222222222222222,
              "#7201a8"
             ],
             [
              0.3333333333333333,
              "#9c179e"
             ],
             [
              0.4444444444444444,
              "#bd3786"
             ],
             [
              0.5555555555555556,
              "#d8576b"
             ],
             [
              0.6666666666666666,
              "#ed7953"
             ],
             [
              0.7777777777777778,
              "#fb9f3a"
             ],
             [
              0.8888888888888888,
              "#fdca26"
             ],
             [
              1,
              "#f0f921"
             ]
            ],
            "type": "histogram2d"
           }
          ],
          "histogram2dcontour": [
           {
            "colorbar": {
             "outlinewidth": 0,
             "ticks": ""
            },
            "colorscale": [
             [
              0,
              "#0d0887"
             ],
             [
              0.1111111111111111,
              "#46039f"
             ],
             [
              0.2222222222222222,
              "#7201a8"
             ],
             [
              0.3333333333333333,
              "#9c179e"
             ],
             [
              0.4444444444444444,
              "#bd3786"
             ],
             [
              0.5555555555555556,
              "#d8576b"
             ],
             [
              0.6666666666666666,
              "#ed7953"
             ],
             [
              0.7777777777777778,
              "#fb9f3a"
             ],
             [
              0.8888888888888888,
              "#fdca26"
             ],
             [
              1,
              "#f0f921"
             ]
            ],
            "type": "histogram2dcontour"
           }
          ],
          "mesh3d": [
           {
            "colorbar": {
             "outlinewidth": 0,
             "ticks": ""
            },
            "type": "mesh3d"
           }
          ],
          "parcoords": [
           {
            "line": {
             "colorbar": {
              "outlinewidth": 0,
              "ticks": ""
             }
            },
            "type": "parcoords"
           }
          ],
          "pie": [
           {
            "automargin": true,
            "type": "pie"
           }
          ],
          "scatter": [
           {
            "fillpattern": {
             "fillmode": "overlay",
             "size": 10,
             "solidity": 0.2
            },
            "type": "scatter"
           }
          ],
          "scatter3d": [
           {
            "line": {
             "colorbar": {
              "outlinewidth": 0,
              "ticks": ""
             }
            },
            "marker": {
             "colorbar": {
              "outlinewidth": 0,
              "ticks": ""
             }
            },
            "type": "scatter3d"
           }
          ],
          "scattercarpet": [
           {
            "marker": {
             "colorbar": {
              "outlinewidth": 0,
              "ticks": ""
             }
            },
            "type": "scattercarpet"
           }
          ],
          "scattergeo": [
           {
            "marker": {
             "colorbar": {
              "outlinewidth": 0,
              "ticks": ""
             }
            },
            "type": "scattergeo"
           }
          ],
          "scattergl": [
           {
            "marker": {
             "colorbar": {
              "outlinewidth": 0,
              "ticks": ""
             }
            },
            "type": "scattergl"
           }
          ],
          "scattermap": [
           {
            "marker": {
             "colorbar": {
              "outlinewidth": 0,
              "ticks": ""
             }
            },
            "type": "scattermap"
           }
          ],
          "scattermapbox": [
           {
            "marker": {
             "colorbar": {
              "outlinewidth": 0,
              "ticks": ""
             }
            },
            "type": "scattermapbox"
           }
          ],
          "scatterpolar": [
           {
            "marker": {
             "colorbar": {
              "outlinewidth": 0,
              "ticks": ""
             }
            },
            "type": "scatterpolar"
           }
          ],
          "scatterpolargl": [
           {
            "marker": {
             "colorbar": {
              "outlinewidth": 0,
              "ticks": ""
             }
            },
            "type": "scatterpolargl"
           }
          ],
          "scatterternary": [
           {
            "marker": {
             "colorbar": {
              "outlinewidth": 0,
              "ticks": ""
             }
            },
            "type": "scatterternary"
           }
          ],
          "surface": [
           {
            "colorbar": {
             "outlinewidth": 0,
             "ticks": ""
            },
            "colorscale": [
             [
              0,
              "#0d0887"
             ],
             [
              0.1111111111111111,
              "#46039f"
             ],
             [
              0.2222222222222222,
              "#7201a8"
             ],
             [
              0.3333333333333333,
              "#9c179e"
             ],
             [
              0.4444444444444444,
              "#bd3786"
             ],
             [
              0.5555555555555556,
              "#d8576b"
             ],
             [
              0.6666666666666666,
              "#ed7953"
             ],
             [
              0.7777777777777778,
              "#fb9f3a"
             ],
             [
              0.8888888888888888,
              "#fdca26"
             ],
             [
              1,
              "#f0f921"
             ]
            ],
            "type": "surface"
           }
          ],
          "table": [
           {
            "cells": {
             "fill": {
              "color": "#EBF0F8"
             },
             "line": {
              "color": "white"
             }
            },
            "header": {
             "fill": {
              "color": "#C8D4E3"
             },
             "line": {
              "color": "white"
             }
            },
            "type": "table"
           }
          ]
         },
         "layout": {
          "annotationdefaults": {
           "arrowcolor": "#2a3f5f",
           "arrowhead": 0,
           "arrowwidth": 1
          },
          "autotypenumbers": "strict",
          "coloraxis": {
           "colorbar": {
            "outlinewidth": 0,
            "ticks": ""
           }
          },
          "colorscale": {
           "diverging": [
            [
             0,
             "#8e0152"
            ],
            [
             0.1,
             "#c51b7d"
            ],
            [
             0.2,
             "#de77ae"
            ],
            [
             0.3,
             "#f1b6da"
            ],
            [
             0.4,
             "#fde0ef"
            ],
            [
             0.5,
             "#f7f7f7"
            ],
            [
             0.6,
             "#e6f5d0"
            ],
            [
             0.7,
             "#b8e186"
            ],
            [
             0.8,
             "#7fbc41"
            ],
            [
             0.9,
             "#4d9221"
            ],
            [
             1,
             "#276419"
            ]
           ],
           "sequential": [
            [
             0,
             "#0d0887"
            ],
            [
             0.1111111111111111,
             "#46039f"
            ],
            [
             0.2222222222222222,
             "#7201a8"
            ],
            [
             0.3333333333333333,
             "#9c179e"
            ],
            [
             0.4444444444444444,
             "#bd3786"
            ],
            [
             0.5555555555555556,
             "#d8576b"
            ],
            [
             0.6666666666666666,
             "#ed7953"
            ],
            [
             0.7777777777777778,
             "#fb9f3a"
            ],
            [
             0.8888888888888888,
             "#fdca26"
            ],
            [
             1,
             "#f0f921"
            ]
           ],
           "sequentialminus": [
            [
             0,
             "#0d0887"
            ],
            [
             0.1111111111111111,
             "#46039f"
            ],
            [
             0.2222222222222222,
             "#7201a8"
            ],
            [
             0.3333333333333333,
             "#9c179e"
            ],
            [
             0.4444444444444444,
             "#bd3786"
            ],
            [
             0.5555555555555556,
             "#d8576b"
            ],
            [
             0.6666666666666666,
             "#ed7953"
            ],
            [
             0.7777777777777778,
             "#fb9f3a"
            ],
            [
             0.8888888888888888,
             "#fdca26"
            ],
            [
             1,
             "#f0f921"
            ]
           ]
          },
          "colorway": [
           "#636efa",
           "#EF553B",
           "#00cc96",
           "#ab63fa",
           "#FFA15A",
           "#19d3f3",
           "#FF6692",
           "#B6E880",
           "#FF97FF",
           "#FECB52"
          ],
          "font": {
           "color": "#2a3f5f"
          },
          "geo": {
           "bgcolor": "white",
           "lakecolor": "white",
           "landcolor": "#E5ECF6",
           "showlakes": true,
           "showland": true,
           "subunitcolor": "white"
          },
          "hoverlabel": {
           "align": "left"
          },
          "hovermode": "closest",
          "mapbox": {
           "style": "light"
          },
          "paper_bgcolor": "white",
          "plot_bgcolor": "#E5ECF6",
          "polar": {
           "angularaxis": {
            "gridcolor": "white",
            "linecolor": "white",
            "ticks": ""
           },
           "bgcolor": "#E5ECF6",
           "radialaxis": {
            "gridcolor": "white",
            "linecolor": "white",
            "ticks": ""
           }
          },
          "scene": {
           "xaxis": {
            "backgroundcolor": "#E5ECF6",
            "gridcolor": "white",
            "gridwidth": 2,
            "linecolor": "white",
            "showbackground": true,
            "ticks": "",
            "zerolinecolor": "white"
           },
           "yaxis": {
            "backgroundcolor": "#E5ECF6",
            "gridcolor": "white",
            "gridwidth": 2,
            "linecolor": "white",
            "showbackground": true,
            "ticks": "",
            "zerolinecolor": "white"
           },
           "zaxis": {
            "backgroundcolor": "#E5ECF6",
            "gridcolor": "white",
            "gridwidth": 2,
            "linecolor": "white",
            "showbackground": true,
            "ticks": "",
            "zerolinecolor": "white"
           }
          },
          "shapedefaults": {
           "line": {
            "color": "#2a3f5f"
           }
          },
          "ternary": {
           "aaxis": {
            "gridcolor": "white",
            "linecolor": "white",
            "ticks": ""
           },
           "baxis": {
            "gridcolor": "white",
            "linecolor": "white",
            "ticks": ""
           },
           "bgcolor": "#E5ECF6",
           "caxis": {
            "gridcolor": "white",
            "linecolor": "white",
            "ticks": ""
           }
          },
          "title": {
           "x": 0.05
          },
          "xaxis": {
           "automargin": true,
           "gridcolor": "white",
           "linecolor": "white",
           "ticks": "",
           "title": {
            "standoff": 15
           },
           "zerolinecolor": "white",
           "zerolinewidth": 2
          },
          "yaxis": {
           "automargin": true,
           "gridcolor": "white",
           "linecolor": "white",
           "ticks": "",
           "title": {
            "standoff": 15
           },
           "zerolinecolor": "white",
           "zerolinewidth": 2
          }
         }
        },
        "title": {
         "font": {
          "color": "black",
          "family": "Times New Roman",
          "size": 17
         },
         "pad": {
          "t": 1
         },
         "text": "Goal Rate per Distance (2019-2020)",
         "x": 0.5
        },
        "xaxis": {
         "dtick": 10,
         "linecolor": "black",
         "linewidth": 1,
         "showgrid": false,
         "showline": true,
         "tick0": 0,
         "tickfont": {
          "color": "black",
          "family": "Times New Roman",
          "size": 12
         },
         "tickmode": "linear",
         "title": {
          "font": {
           "color": "black",
           "family": "Times New Roman",
           "size": 14
          },
          "text": "Distance (ft)"
         },
         "zeroline": false
        },
        "yaxis": {
         "linecolor": "black",
         "linewidth": 1,
         "showgrid": false,
         "showline": true,
         "tickfont": {
          "color": "black",
          "family": "Times New Roman",
          "size": 12
         },
         "title": {
          "font": {
           "color": "black",
           "family": "Times New Roman",
           "size": 14
          },
          "text": "Total Shots"
         },
         "zeroline": false
        },
        "yaxis2": {
         "linecolor": "black",
         "linewidth": 1,
         "overlaying": "y",
         "showgrid": false,
         "showline": true,
         "side": "right",
         "tickfont": {
          "color": "black",
          "family": "Times New Roman",
          "size": 12
         },
         "title": {
          "font": {
           "color": "black",
           "family": "Times New Roman",
           "size": 14
          },
          "text": "Goal Rate (%)"
         },
         "zeroline": false
        }
       }
      },
      "image/png": "[encoded data removed]"
     },
     "metadata": {},
     "output_type": "display_data"
    }
   ],
   "source": [
    "shots, rate, rate_of_shots = calculate_metrics(df_2019)\n",
    "\n",
    "fig = go.Figure()\n",
    "\n",
    "fig.add_trace(go.Bar(\n",
    "    x=(shots.index.astype(int) + bin_size/2),  # bin midpoints\n",
    "    y=shots.values,\n",
    "    name=\"Total shots\",\n",
    "    marker_color=\"orange\",\n",
    "    opacity=0.6,\n",
    "    yaxis=\"y1\"\n",
    "))\n",
    "\n",
    "fig.add_trace(go.Scatter(\n",
    "    x=(rate.index.astype(int) + bin_size/2),\n",
    "    y=rate.values,\n",
    "    name=\"Goal rate (%)\",\n",
    "    mode=\"markers+lines\",\n",
    "    marker=dict(color=\"red\"),\n",
    "    yaxis=\"y2\"\n",
    "))\n",
    "\n",
    "\n",
    "family_titles=\"Times New Roman\"\n",
    "fig.update_layout(\n",
    "    plot_bgcolor=\"white\",\n",
    "    paper_bgcolor=\"white\",\n",
    "    title=dict(\n",
    "    text=\"Goal Rate per Distance (2019-2020)\",\n",
    "    font=dict(size=17, family=family_titles, color=\"black\"),  # title font\n",
    "    x=0.5,\n",
    "    pad=dict(t=1)\n",
    "\n",
    "    ),\n",
    "    xaxis=dict(\n",
    "        title=dict(\n",
    "            text=\"Distance (ft)\",\n",
    "            font=dict(size=14, family=family_titles, color=\"black\")\n",
    "        ),\n",
    "        tickfont=dict(size=12, family=family_titles, color=\"black\"),\n",
    "        showgrid=False,\n",
    "        zeroline=False,      \n",
    "        showline=True,       \n",
    "        linecolor=\"black\",   \n",
    "        linewidth=1        \n",
    "    ),\n",
    "    yaxis=dict(\n",
    "        title=dict(\n",
    "            text=\"Total Shots\",\n",
    "            font=dict(size=14, family=family_titles, color=\"black\")\n",
    "        ),\n",
    "        tickfont=dict(size=12, family=family_titles, color=\"black\"),\n",
    "        showgrid=False,\n",
    "        zeroline=False,      \n",
    "        showline=True,       \n",
    "        linecolor=\"black\",   \n",
    "        linewidth=1        \n",
    "    ),\n",
    "    yaxis2=dict(\n",
    "        title=dict(\n",
    "            text=\"Goal Rate (%)\",\n",
    "            font=dict(size=14, family=family_titles, color=\"black\")\n",
    "        ),\n",
    "        tickfont=dict(size=12, family=family_titles, color=\"black\"),\n",
    "        overlaying=\"y\",\n",
    "        side=\"right\",\n",
    "        showgrid=False,\n",
    "        zeroline=False,      \n",
    "        showline=True,       \n",
    "        linecolor=\"black\",   \n",
    "        linewidth=1        \n",
    "    ),\n",
    "    legend=dict(\n",
    "        x=0.99, y=1.01,              \n",
    "        xanchor=\"right\", yanchor=\"top\",\n",
    "        font=dict(size=11, family=family_titles, color=\"black\"),\n",
    "        bgcolor=\"rgba(255,255,255,0.5)\"  # optional background\n",
    "    ),\n",
    "    barmode=\"group\",\n",
    "    margin=dict(t=40)\n",
    "    )\n",
    "\n",
    "fig.update_xaxes(\n",
    "    tick0=0,   # where ticks start\n",
    "    dtick=10,  # step size\n",
    "    tickmode=\"linear\"\n",
    ")\n",
    "\n",
    "#fig.add_annotation(\n",
    "#    text=caption,\n",
    "#    xref=\"paper\", yref=\"paper\",\n",
    "#    x=1.1, y=-0.4,\n",
    "#    showarrow=False,\n",
    "#    font=dict(size=12, family=family_titles, color=\"black\"),\n",
    "#    align=\"left\"\n",
    "#)\n",
    "\n",
    "\n",
    "#fig.write_image(\"distance2019.png\", scale=5)\n",
    "fig.show()"
   ]
  },
  {
   "cell_type": "code",
   "execution_count": 31,
   "id": "871ee2f1-8953-4a64-8260-5d5480bfb751",
   "metadata": {},
   "outputs": [
    {
     "data": {
      "application/vnd.plotly.v1+json": {
       "config": {
        "plotlyServerURL": "https://plot.ly"
       },
       "data": [
        {
         "marker": {
          "color": "orange"
         },
         "name": "Total shots",
         "opacity": 0.6,
         "type": "bar",
         "x": {
          "bdata": "AAAAAAAABEAAAAAAAAAeQAAAAAAAAClAAAAAAACAMUAAAAAAAIA2QAAAAAAAgDtAAAAAAABAQEAAAAAAAMBCQAAAAAAAQEVAAAAAAADAR0AAAAAAAEBKQAAAAAAAwExAAAAAAABAT0AAAAAAAOBQQAAAAAAAIFJAAAAAAABgU0AAAAAAAKBUQAAAAAAA4FVAAAAAAAAgV0AAAAAAAGBYQA==",
          "dtype": "f8"
         },
         "y": {
          "bdata": "7AC4Fo0ZuxLnET8SPBOgET0QaQ9yEYkQRwk2A2MBUgF+AWsBugAiAA==",
          "dtype": "i2"
         },
         "yaxis": "y"
        },
        {
         "marker": {
          "color": "red"
         },
         "mode": "markers+lines",
         "name": "Goal rate (%)",
         "type": "scatter",
         "x": {
          "bdata": "AAAAAAAABEAAAAAAAAAeQAAAAAAAAClAAAAAAACAMUAAAAAAAIA2QAAAAAAAgDtAAAAAAABAQEAAAAAAAMBCQAAAAAAAQEVAAAAAAADAR0AAAAAAAEBKQAAAAAAAwExAAAAAAABAT0AAAAAAAOBQQAAAAAAAIFJAAAAAAABgU0AAAAAAAKBUQAAAAAAA4FVAAAAAAAAgV0AAAAAAAGBYQA==",
          "dtype": "f8"
         },
         "y": {
          "bdata": "KVyPwvWoPUCPwvUoXI80QOxRuB6FKzBApHA9CtcjMEDNzMzMzMwpQIXrUbgeBSVAUrgehevRIECF61G4HoUaQJqZmZmZmRFAmpmZmZmZDUBxPQrXo3AHQFyPwvUoXAlAhetRuB6FA0BxPQrXo3AFQAAAAAAAAAJAH4XrUbgeFED2KFyPwvUEQNejcD0K1x5A16NwPQrXCUAAAAAAAAAAAA==",
          "dtype": "f8"
         },
         "yaxis": "y2"
        }
       ],
       "layout": {
        "barmode": "group",
        "legend": {
         "bgcolor": "rgba(255,255,255,0.5)",
         "font": {
          "color": "black",
          "family": "Times New Roman",
          "size": 11
         },
         "x": 0.99,
         "xanchor": "right",
         "y": 1.01,
         "yanchor": "top"
        },
        "margin": {
         "t": 40
        },
        "paper_bgcolor": "white",
        "plot_bgcolor": "white",
        "template": {
         "data": {
          "bar": [
           {
            "error_x": {
             "color": "#2a3f5f"
            },
            "error_y": {
             "color": "#2a3f5f"
            },
            "marker": {
             "line": {
              "color": "#E5ECF6",
              "width": 0.5
             },
             "pattern": {
              "fillmode": "overlay",
              "size": 10,
              "solidity": 0.2
             }
            },
            "type": "bar"
           }
          ],
          "barpolar": [
           {
            "marker": {
             "line": {
              "color": "#E5ECF6",
              "width": 0.5
             },
             "pattern": {
              "fillmode": "overlay",
              "size": 10,
              "solidity": 0.2
             }
            },
            "type": "barpolar"
           }
          ],
          "carpet": [
           {
            "aaxis": {
             "endlinecolor": "#2a3f5f",
             "gridcolor": "white",
             "linecolor": "white",
             "minorgridcolor": "white",
             "startlinecolor": "#2a3f5f"
            },
            "baxis": {
             "endlinecolor": "#2a3f5f",
             "gridcolor": "white",
             "linecolor": "white",
             "minorgridcolor": "white",
             "startlinecolor": "#2a3f5f"
            },
            "type": "carpet"
           }
          ],
          "choropleth": [
           {
            "colorbar": {
             "outlinewidth": 0,
             "ticks": ""
            },
            "type": "choropleth"
           }
          ],
          "contour": [
           {
            "colorbar": {
             "outlinewidth": 0,
             "ticks": ""
            },
            "colorscale": [
             [
              0,
              "#0d0887"
             ],
             [
              0.1111111111111111,
              "#46039f"
             ],
             [
              0.2222222222222222,
              "#7201a8"
             ],
             [
              0.3333333333333333,
              "#9c179e"
             ],
             [
              0.4444444444444444,
              "#bd3786"
             ],
             [
              0.5555555555555556,
              "#d8576b"
             ],
             [
              0.6666666666666666,
              "#ed7953"
             ],
             [
              0.7777777777777778,
              "#fb9f3a"
             ],
             [
              0.8888888888888888,
              "#fdca26"
             ],
             [
              1,
              "#f0f921"
             ]
            ],
            "type": "contour"
           }
          ],
          "contourcarpet": [
           {
            "colorbar": {
             "outlinewidth": 0,
             "ticks": ""
            },
            "type": "contourcarpet"
           }
          ],
          "heatmap": [
           {
            "colorbar": {
             "outlinewidth": 0,
             "ticks": ""
            },
            "colorscale": [
             [
              0,
              "#0d0887"
             ],
             [
              0.1111111111111111,
              "#46039f"
             ],
             [
              0.2222222222222222,
              "#7201a8"
             ],
             [
              0.3333333333333333,
              "#9c179e"
             ],
             [
              0.4444444444444444,
              "#bd3786"
             ],
             [
              0.5555555555555556,
              "#d8576b"
             ],
             [
              0.6666666666666666,
              "#ed7953"
             ],
             [
              0.7777777777777778,
              "#fb9f3a"
             ],
             [
              0.8888888888888888,
              "#fdca26"
             ],
             [
              1,
              "#f0f921"
             ]
            ],
            "type": "heatmap"
           }
          ],
          "histogram": [
           {
            "marker": {
             "pattern": {
              "fillmode": "overlay",
              "size": 10,
              "solidity": 0.2
             }
            },
            "type": "histogram"
           }
          ],
          "histogram2d": [
           {
            "colorbar": {
             "outlinewidth": 0,
             "ticks": ""
            },
            "colorscale": [
             [
              0,
              "#0d0887"
             ],
             [
              0.1111111111111111,
              "#46039f"
             ],
             [
              0.2222222222222222,
              "#7201a8"
             ],
             [
              0.3333333333333333,
              "#9c179e"
             ],
             [
              0.4444444444444444,
              "#bd3786"
             ],
             [
              0.5555555555555556,
              "#d8576b"
             ],
             [
              0.6666666666666666,
              "#ed7953"
             ],
             [
              0.7777777777777778,
              "#fb9f3a"
             ],
             [
              0.8888888888888888,
              "#fdca26"
             ],
             [
              1,
              "#f0f921"
             ]
            ],
            "type": "histogram2d"
           }
          ],
          "histogram2dcontour": [
           {
            "colorbar": {
             "outlinewidth": 0,
             "ticks": ""
            },
            "colorscale": [
             [
              0,
              "#0d0887"
             ],
             [
              0.1111111111111111,
              "#46039f"
             ],
             [
              0.2222222222222222,
              "#7201a8"
             ],
             [
              0.3333333333333333,
              "#9c179e"
             ],
             [
              0.4444444444444444,
              "#bd3786"
             ],
             [
              0.5555555555555556,
              "#d8576b"
             ],
             [
              0.6666666666666666,
              "#ed7953"
             ],
             [
              0.7777777777777778,
              "#fb9f3a"
             ],
             [
              0.8888888888888888,
              "#fdca26"
             ],
             [
              1,
              "#f0f921"
             ]
            ],
            "type": "histogram2dcontour"
           }
          ],
          "mesh3d": [
           {
            "colorbar": {
             "outlinewidth": 0,
             "ticks": ""
            },
            "type": "mesh3d"
           }
          ],
          "parcoords": [
           {
            "line": {
             "colorbar": {
              "outlinewidth": 0,
              "ticks": ""
             }
            },
            "type": "parcoords"
           }
          ],
          "pie": [
           {
            "automargin": true,
            "type": "pie"
           }
          ],
          "scatter": [
           {
            "fillpattern": {
             "fillmode": "overlay",
             "size": 10,
             "solidity": 0.2
            },
            "type": "scatter"
           }
          ],
          "scatter3d": [
           {
            "line": {
             "colorbar": {
              "outlinewidth": 0,
              "ticks": ""
             }
            },
            "marker": {
             "colorbar": {
              "outlinewidth": 0,
              "ticks": ""
             }
            },
            "type": "scatter3d"
           }
          ],
          "scattercarpet": [
           {
            "marker": {
             "colorbar": {
              "outlinewidth": 0,
              "ticks": ""
             }
            },
            "type": "scattercarpet"
           }
          ],
          "scattergeo": [
           {
            "marker": {
             "colorbar": {
              "outlinewidth": 0,
              "ticks": ""
             }
            },
            "type": "scattergeo"
           }
          ],
          "scattergl": [
           {
            "marker": {
             "colorbar": {
              "outlinewidth": 0,
              "ticks": ""
             }
            },
            "type": "scattergl"
           }
          ],
          "scattermap": [
           {
            "marker": {
             "colorbar": {
              "outlinewidth": 0,
              "ticks": ""
             }
            },
            "type": "scattermap"
           }
          ],
          "scattermapbox": [
           {
            "marker": {
             "colorbar": {
              "outlinewidth": 0,
              "ticks": ""
             }
            },
            "type": "scattermapbox"
           }
          ],
          "scatterpolar": [
           {
            "marker": {
             "colorbar": {
              "outlinewidth": 0,
              "ticks": ""
             }
            },
            "type": "scatterpolar"
           }
          ],
          "scatterpolargl": [
           {
            "marker": {
             "colorbar": {
              "outlinewidth": 0,
              "ticks": ""
             }
            },
            "type": "scatterpolargl"
           }
          ],
          "scatterternary": [
           {
            "marker": {
             "colorbar": {
              "outlinewidth": 0,
              "ticks": ""
             }
            },
            "type": "scatterternary"
           }
          ],
          "surface": [
           {
            "colorbar": {
             "outlinewidth": 0,
             "ticks": ""
            },
            "colorscale": [
             [
              0,
              "#0d0887"
             ],
             [
              0.1111111111111111,
              "#46039f"
             ],
             [
              0.2222222222222222,
              "#7201a8"
             ],
             [
              0.3333333333333333,
              "#9c179e"
             ],
             [
              0.4444444444444444,
              "#bd3786"
             ],
             [
              0.5555555555555556,
              "#d8576b"
             ],
             [
              0.6666666666666666,
              "#ed7953"
             ],
             [
              0.7777777777777778,
              "#fb9f3a"
             ],
             [
              0.8888888888888888,
              "#fdca26"
             ],
             [
              1,
              "#f0f921"
             ]
            ],
            "type": "surface"
           }
          ],
          "table": [
           {
            "cells": {
             "fill": {
              "color": "#EBF0F8"
             },
             "line": {
              "color": "white"
             }
            },
            "header": {
             "fill": {
              "color": "#C8D4E3"
             },
             "line": {
              "color": "white"
             }
            },
            "type": "table"
           }
          ]
         },
         "layout": {
          "annotationdefaults": {
           "arrowcolor": "#2a3f5f",
           "arrowhead": 0,
           "arrowwidth": 1
          },
          "autotypenumbers": "strict",
          "coloraxis": {
           "colorbar": {
            "outlinewidth": 0,
            "ticks": ""
           }
          },
          "colorscale": {
           "diverging": [
            [
             0,
             "#8e0152"
            ],
            [
             0.1,
             "#c51b7d"
            ],
            [
             0.2,
             "#de77ae"
            ],
            [
             0.3,
             "#f1b6da"
            ],
            [
             0.4,
             "#fde0ef"
            ],
            [
             0.5,
             "#f7f7f7"
            ],
            [
             0.6,
             "#e6f5d0"
            ],
            [
             0.7,
             "#b8e186"
            ],
            [
             0.8,
             "#7fbc41"
            ],
            [
             0.9,
             "#4d9221"
            ],
            [
             1,
             "#276419"
            ]
           ],
           "sequential": [
            [
             0,
             "#0d0887"
            ],
            [
             0.1111111111111111,
             "#46039f"
            ],
            [
             0.2222222222222222,
             "#7201a8"
            ],
            [
             0.3333333333333333,
             "#9c179e"
            ],
            [
             0.4444444444444444,
             "#bd3786"
            ],
            [
             0.5555555555555556,
             "#d8576b"
            ],
            [
             0.6666666666666666,
             "#ed7953"
            ],
            [
             0.7777777777777778,
             "#fb9f3a"
            ],
            [
             0.8888888888888888,
             "#fdca26"
            ],
            [
             1,
             "#f0f921"
            ]
           ],
           "sequentialminus": [
            [
             0,
             "#0d0887"
            ],
            [
             0.1111111111111111,
             "#46039f"
            ],
            [
             0.2222222222222222,
             "#7201a8"
            ],
            [
             0.3333333333333333,
             "#9c179e"
            ],
            [
             0.4444444444444444,
             "#bd3786"
            ],
            [
             0.5555555555555556,
             "#d8576b"
            ],
            [
             0.6666666666666666,
             "#ed7953"
            ],
            [
             0.7777777777777778,
             "#fb9f3a"
            ],
            [
             0.8888888888888888,
             "#fdca26"
            ],
            [
             1,
             "#f0f921"
            ]
           ]
          },
          "colorway": [
           "#636efa",
           "#EF553B",
           "#00cc96",
           "#ab63fa",
           "#FFA15A",
           "#19d3f3",
           "#FF6692",
           "#B6E880",
           "#FF97FF",
           "#FECB52"
          ],
          "font": {
           "color": "#2a3f5f"
          },
          "geo": {
           "bgcolor": "white",
           "lakecolor": "white",
           "landcolor": "#E5ECF6",
           "showlakes": true,
           "showland": true,
           "subunitcolor": "white"
          },
          "hoverlabel": {
           "align": "left"
          },
          "hovermode": "closest",
          "mapbox": {
           "style": "light"
          },
          "paper_bgcolor": "white",
          "plot_bgcolor": "#E5ECF6",
          "polar": {
           "angularaxis": {
            "gridcolor": "white",
            "linecolor": "white",
            "ticks": ""
           },
           "bgcolor": "#E5ECF6",
           "radialaxis": {
            "gridcolor": "white",
            "linecolor": "white",
            "ticks": ""
           }
          },
          "scene": {
           "xaxis": {
            "backgroundcolor": "#E5ECF6",
            "gridcolor": "white",
            "gridwidth": 2,
            "linecolor": "white",
            "showbackground": true,
            "ticks": "",
            "zerolinecolor": "white"
           },
           "yaxis": {
            "backgroundcolor": "#E5ECF6",
            "gridcolor": "white",
            "gridwidth": 2,
            "linecolor": "white",
            "showbackground": true,
            "ticks": "",
            "zerolinecolor": "white"
           },
           "zaxis": {
            "backgroundcolor": "#E5ECF6",
            "gridcolor": "white",
            "gridwidth": 2,
            "linecolor": "white",
            "showbackground": true,
            "ticks": "",
            "zerolinecolor": "white"
           }
          },
          "shapedefaults": {
           "line": {
            "color": "#2a3f5f"
           }
          },
          "ternary": {
           "aaxis": {
            "gridcolor": "white",
            "linecolor": "white",
            "ticks": ""
           },
           "baxis": {
            "gridcolor": "white",
            "linecolor": "white",
            "ticks": ""
           },
           "bgcolor": "#E5ECF6",
           "caxis": {
            "gridcolor": "white",
            "linecolor": "white",
            "ticks": ""
           }
          },
          "title": {
           "x": 0.05
          },
          "xaxis": {
           "automargin": true,
           "gridcolor": "white",
           "linecolor": "white",
           "ticks": "",
           "title": {
            "standoff": 15
           },
           "zerolinecolor": "white",
           "zerolinewidth": 2
          },
          "yaxis": {
           "automargin": true,
           "gridcolor": "white",
           "linecolor": "white",
           "ticks": "",
           "title": {
            "standoff": 15
           },
           "zerolinecolor": "white",
           "zerolinewidth": 2
          }
         }
        },
        "title": {
         "font": {
          "color": "black",
          "family": "Times New Roman",
          "size": 17
         },
         "pad": {
          "t": 1
         },
         "text": "Goal Rate per Distance (2020-2021)",
         "x": 0.5
        },
        "xaxis": {
         "dtick": 10,
         "linecolor": "black",
         "linewidth": 1,
         "showgrid": false,
         "showline": true,
         "tick0": 0,
         "tickfont": {
          "color": "black",
          "family": "Times New Roman",
          "size": 12
         },
         "tickmode": "linear",
         "title": {
          "font": {
           "color": "black",
           "family": "Times New Roman",
           "size": 14
          },
          "text": "Distance (ft)"
         },
         "zeroline": false
        },
        "yaxis": {
         "linecolor": "black",
         "linewidth": 1,
         "showgrid": false,
         "showline": true,
         "tickfont": {
          "color": "black",
          "family": "Times New Roman",
          "size": 12
         },
         "title": {
          "font": {
           "color": "black",
           "family": "Times New Roman",
           "size": 14
          },
          "text": "Total Shots"
         },
         "zeroline": false
        },
        "yaxis2": {
         "linecolor": "black",
         "linewidth": 1,
         "overlaying": "y",
         "showgrid": false,
         "showline": true,
         "side": "right",
         "tickfont": {
          "color": "black",
          "family": "Times New Roman",
          "size": 12
         },
         "title": {
          "font": {
           "color": "black",
           "family": "Times New Roman",
           "size": 14
          },
          "text": "Goal Rate (%)"
         },
         "zeroline": false
        }
       }
      },
      "image/png": "[encoded data removed]"
     },
     "metadata": {},
     "output_type": "display_data"
    }
   ],
   "source": [
    "shots, rate, rate_of_shots = calculate_metrics(df_2020)\n",
    "\n",
    "fig = go.Figure()\n",
    "\n",
    "fig.add_trace(go.Bar(\n",
    "    x=(shots.index.astype(int) + bin_size/2),  # bin midpoints\n",
    "    y=shots.values,\n",
    "    name=\"Total shots\",\n",
    "    marker_color=\"orange\",\n",
    "    opacity=0.6,\n",
    "    yaxis=\"y1\"\n",
    "))\n",
    "\n",
    "fig.add_trace(go.Scatter(\n",
    "    x=(rate.index.astype(int) + bin_size/2),\n",
    "    y=rate.values,\n",
    "    name=\"Goal rate (%)\",\n",
    "    mode=\"markers+lines\",\n",
    "    marker=dict(color=\"red\"),\n",
    "    yaxis=\"y2\"\n",
    "))\n",
    "\n",
    "\n",
    "family_titles=\"Times New Roman\"\n",
    "fig.update_layout(\n",
    "    plot_bgcolor=\"white\",\n",
    "    paper_bgcolor=\"white\",\n",
    "    title=dict(\n",
    "    text=\"Goal Rate per Distance (2020-2021)\",\n",
    "    font=dict(size=17, family=family_titles, color=\"black\"),  # title font\n",
    "    x=0.5,\n",
    "    pad=dict(t=1)\n",
    "\n",
    "    ),\n",
    "    xaxis=dict(\n",
    "        title=dict(\n",
    "            text=\"Distance (ft)\",\n",
    "            font=dict(size=14, family=family_titles, color=\"black\")\n",
    "        ),\n",
    "        tickfont=dict(size=12, family=family_titles, color=\"black\"),\n",
    "        showgrid=False,\n",
    "        zeroline=False,      \n",
    "        showline=True,       \n",
    "        linecolor=\"black\",   \n",
    "        linewidth=1        \n",
    "    ),\n",
    "    yaxis=dict(\n",
    "        title=dict(\n",
    "            text=\"Total Shots\",\n",
    "            font=dict(size=14, family=family_titles, color=\"black\")\n",
    "        ),\n",
    "        tickfont=dict(size=12, family=family_titles, color=\"black\"),\n",
    "        showgrid=False,\n",
    "        zeroline=False,      \n",
    "        showline=True,       \n",
    "        linecolor=\"black\",   \n",
    "        linewidth=1        \n",
    "    ),\n",
    "    yaxis2=dict(\n",
    "        title=dict(\n",
    "            text=\"Goal Rate (%)\",\n",
    "            font=dict(size=14, family=family_titles, color=\"black\")\n",
    "        ),\n",
    "        tickfont=dict(size=12, family=family_titles, color=\"black\"),\n",
    "        overlaying=\"y\",\n",
    "        side=\"right\",\n",
    "        showgrid=False,\n",
    "        zeroline=False,      \n",
    "        showline=True,       \n",
    "        linecolor=\"black\",   \n",
    "        linewidth=1        \n",
    "    ),\n",
    "    legend=dict(\n",
    "        x=0.99, y=1.01,              \n",
    "        xanchor=\"right\", yanchor=\"top\",\n",
    "        font=dict(size=11, family=family_titles, color=\"black\"),\n",
    "        bgcolor=\"rgba(255,255,255,0.5)\"  # optional background\n",
    "    ),\n",
    "    barmode=\"group\",\n",
    "    margin=dict(t=40)\n",
    "    )\n",
    "\n",
    "fig.update_xaxes(\n",
    "    tick0=0,   # where ticks start\n",
    "    dtick=10,  # step size\n",
    "    tickmode=\"linear\"\n",
    ")\n",
    "\n",
    "#fig.add_annotation(\n",
    "#    text=caption,\n",
    "#    xref=\"paper\", yref=\"paper\",\n",
    "#    x=1.1, y=-0.4,\n",
    "#    showarrow=False,\n",
    "#    font=dict(size=12, family=family_titles, color=\"black\"),\n",
    "#    align=\"left\"\n",
    "#)\n",
    "\n",
    "#fig.write_image(\"shot_types.svg\")   # SVG\n",
    "#fig.write_image(\"distance2020.png\", scale=5)\n",
    "fig.show()"
   ]
  },
  {
   "cell_type": "code",
   "execution_count": 32,
   "id": "ee68e973-4f02-44e0-8eda-2b2187595deb",
   "metadata": {},
   "outputs": [
    {
     "data": {
      "application/vnd.plotly.v1+json": {
       "config": {
        "plotlyServerURL": "https://plot.ly"
       },
       "data": [
        {
         "marker": {
          "color": "red"
         },
         "mode": "lines",
         "name": "2018-2019",
         "type": "scatter",
         "x": {
          "bdata": "AAAAAAAABEAAAAAAAAAeQAAAAAAAAClAAAAAAACAMUAAAAAAAIA2QAAAAAAAgDtAAAAAAABAQEAAAAAAAMBCQAAAAAAAQEVAAAAAAADAR0AAAAAAAEBKQAAAAAAAwExAAAAAAABAT0AAAAAAAOBQQAAAAAAAIFJAAAAAAABgU0AAAAAAAKBUQAAAAAAA4FVAAAAAAAAgV0AAAAAAAGBYQA==",
          "dtype": "f8"
         },
         "y": {
          "bdata": "SOF6FK4nQEBmZmZmZqYyQD0K16NwvTBAKVyPwvWoLkD2KFyPwvUoQIXrUbgehSZAH4XrUbgeIUAAAAAAAAAZQMP1KFyPwhJAw/UoXI/CD0BSuB6F61EKQPYoXI/C9QhAAAAAAAAABkBmZmZmZmYCQBSuR+F6FAZA9ihcj8L1DEA9CtejcD0KQOxRuB6F6wdAhetRuB6FFEAAAAAAAAAAAA==",
          "dtype": "f8"
         },
         "yaxis": "y2"
        },
        {
         "marker": {
          "color": "yellow"
         },
         "mode": "lines",
         "name": "2019-2020",
         "type": "scatter",
         "x": {
          "bdata": "AAAAAAAABEAAAAAAAAAeQAAAAAAAAClAAAAAAACAMUAAAAAAAIA2QAAAAAAAgDtAAAAAAABAQEAAAAAAAMBCQAAAAAAAQEVAAAAAAADAR0AAAAAAAEBKQAAAAAAAwExAAAAAAABAT0AAAAAAAOBQQAAAAAAAIFJAAAAAAABgU0AAAAAAAKBUQAAAAAAA4FVAAAAAAAAgV0AAAAAAAGBYQA==",
          "dtype": "f8"
         },
         "y": {
          "bdata": "KVyPwvXoP0DNzMzMzIw0QHsUrkfhOjFA7FG4HoXrLkDsUbgehWsqQD0K16NwPSRAH4XrUbieIEBcj8L1KFwYQPYoXI/C9RJASOF6FK5HDUDD9Shcj8IHQOxRuB6F6wVASOF6FK5HA0C4HoXrUbgGQKRwPQrXowBArkfhehSuB0CamZmZmZkDQHsUrkfheghA4XoUrkfhEUCuR+F6FK4UQA==",
          "dtype": "f8"
         },
         "yaxis": "y2"
        },
        {
         "marker": {
          "color": "orange"
         },
         "mode": "lines",
         "name": "2020-2021",
         "type": "scatter",
         "x": {
          "bdata": "AAAAAAAABEAAAAAAAAAeQAAAAAAAAClAAAAAAACAMUAAAAAAAIA2QAAAAAAAgDtAAAAAAABAQEAAAAAAAMBCQAAAAAAAQEVAAAAAAADAR0AAAAAAAEBKQAAAAAAAwExAAAAAAABAT0AAAAAAAOBQQAAAAAAAIFJAAAAAAABgU0AAAAAAAKBUQAAAAAAA4FVAAAAAAAAgV0AAAAAAAGBYQA==",
          "dtype": "f8"
         },
         "y": {
          "bdata": "KVyPwvWoPUCPwvUoXI80QOxRuB6FKzBApHA9CtcjMEDNzMzMzMwpQIXrUbgeBSVAUrgehevRIECF61G4HoUaQJqZmZmZmRFAmpmZmZmZDUBxPQrXo3AHQFyPwvUoXAlAhetRuB6FA0BxPQrXo3AFQAAAAAAAAAJAH4XrUbgeFED2KFyPwvUEQNejcD0K1x5A16NwPQrXCUAAAAAAAAAAAA==",
          "dtype": "f8"
         },
         "yaxis": "y2"
        }
       ],
       "layout": {
        "barmode": "group",
        "legend": {
         "bgcolor": "rgba(255,255,255,0.5)",
         "font": {
          "color": "black",
          "family": "Times New Roman",
          "size": 11
         },
         "x": 0.99,
         "xanchor": "right",
         "y": 1.01,
         "yanchor": "top"
        },
        "margin": {
         "t": 40
        },
        "paper_bgcolor": "white",
        "plot_bgcolor": "white",
        "template": {
         "data": {
          "bar": [
           {
            "error_x": {
             "color": "#2a3f5f"
            },
            "error_y": {
             "color": "#2a3f5f"
            },
            "marker": {
             "line": {
              "color": "#E5ECF6",
              "width": 0.5
             },
             "pattern": {
              "fillmode": "overlay",
              "size": 10,
              "solidity": 0.2
             }
            },
            "type": "bar"
           }
          ],
          "barpolar": [
           {
            "marker": {
             "line": {
              "color": "#E5ECF6",
              "width": 0.5
             },
             "pattern": {
              "fillmode": "overlay",
              "size": 10,
              "solidity": 0.2
             }
            },
            "type": "barpolar"
           }
          ],
          "carpet": [
           {
            "aaxis": {
             "endlinecolor": "#2a3f5f",
             "gridcolor": "white",
             "linecolor": "white",
             "minorgridcolor": "white",
             "startlinecolor": "#2a3f5f"
            },
            "baxis": {
             "endlinecolor": "#2a3f5f",
             "gridcolor": "white",
             "linecolor": "white",
             "minorgridcolor": "white",
             "startlinecolor": "#2a3f5f"
            },
            "type": "carpet"
           }
          ],
          "choropleth": [
           {
            "colorbar": {
             "outlinewidth": 0,
             "ticks": ""
            },
            "type": "choropleth"
           }
          ],
          "contour": [
           {
            "colorbar": {
             "outlinewidth": 0,
             "ticks": ""
            },
            "colorscale": [
             [
              0,
              "#0d0887"
             ],
             [
              0.1111111111111111,
              "#46039f"
             ],
             [
              0.2222222222222222,
              "#7201a8"
             ],
             [
              0.3333333333333333,
              "#9c179e"
             ],
             [
              0.4444444444444444,
              "#bd3786"
             ],
             [
              0.5555555555555556,
              "#d8576b"
             ],
             [
              0.6666666666666666,
              "#ed7953"
             ],
             [
              0.7777777777777778,
              "#fb9f3a"
             ],
             [
              0.8888888888888888,
              "#fdca26"
             ],
             [
              1,
              "#f0f921"
             ]
            ],
            "type": "contour"
           }
          ],
          "contourcarpet": [
           {
            "colorbar": {
             "outlinewidth": 0,
             "ticks": ""
            },
            "type": "contourcarpet"
           }
          ],
          "heatmap": [
           {
            "colorbar": {
             "outlinewidth": 0,
             "ticks": ""
            },
            "colorscale": [
             [
              0,
              "#0d0887"
             ],
             [
              0.1111111111111111,
              "#46039f"
             ],
             [
              0.2222222222222222,
              "#7201a8"
             ],
             [
              0.3333333333333333,
              "#9c179e"
             ],
             [
              0.4444444444444444,
              "#bd3786"
             ],
             [
              0.5555555555555556,
              "#d8576b"
             ],
             [
              0.6666666666666666,
              "#ed7953"
             ],
             [
              0.7777777777777778,
              "#fb9f3a"
             ],
             [
              0.8888888888888888,
              "#fdca26"
             ],
             [
              1,
              "#f0f921"
             ]
            ],
            "type": "heatmap"
           }
          ],
          "histogram": [
           {
            "marker": {
             "pattern": {
              "fillmode": "overlay",
              "size": 10,
              "solidity": 0.2
             }
            },
            "type": "histogram"
           }
          ],
          "histogram2d": [
           {
            "colorbar": {
             "outlinewidth": 0,
             "ticks": ""
            },
            "colorscale": [
             [
              0,
              "#0d0887"
             ],
             [
              0.1111111111111111,
              "#46039f"
             ],
             [
              0.2222222222222222,
              "#7201a8"
             ],
             [
              0.3333333333333333,
              "#9c179e"
             ],
             [
              0.4444444444444444,
              "#bd3786"
             ],
             [
              0.5555555555555556,
              "#d8576b"
             ],
             [
              0.6666666666666666,
              "#ed7953"
             ],
             [
              0.7777777777777778,
              "#fb9f3a"
             ],
             [
              0.8888888888888888,
              "#fdca26"
             ],
             [
              1,
              "#f0f921"
             ]
            ],
            "type": "histogram2d"
           }
          ],
          "histogram2dcontour": [
           {
            "colorbar": {
             "outlinewidth": 0,
             "ticks": ""
            },
            "colorscale": [
             [
              0,
              "#0d0887"
             ],
             [
              0.1111111111111111,
              "#46039f"
             ],
             [
              0.2222222222222222,
              "#7201a8"
             ],
             [
              0.3333333333333333,
              "#9c179e"
             ],
             [
              0.4444444444444444,
              "#bd3786"
             ],
             [
              0.5555555555555556,
              "#d8576b"
             ],
             [
              0.6666666666666666,
              "#ed7953"
             ],
             [
              0.7777777777777778,
              "#fb9f3a"
             ],
             [
              0.8888888888888888,
              "#fdca26"
             ],
             [
              1,
              "#f0f921"
             ]
            ],
            "type": "histogram2dcontour"
           }
          ],
          "mesh3d": [
           {
            "colorbar": {
             "outlinewidth": 0,
             "ticks": ""
            },
            "type": "mesh3d"
           }
          ],
          "parcoords": [
           {
            "line": {
             "colorbar": {
              "outlinewidth": 0,
              "ticks": ""
             }
            },
            "type": "parcoords"
           }
          ],
          "pie": [
           {
            "automargin": true,
            "type": "pie"
           }
          ],
          "scatter": [
           {
            "fillpattern": {
             "fillmode": "overlay",
             "size": 10,
             "solidity": 0.2
            },
            "type": "scatter"
           }
          ],
          "scatter3d": [
           {
            "line": {
             "colorbar": {
              "outlinewidth": 0,
              "ticks": ""
             }
            },
            "marker": {
             "colorbar": {
              "outlinewidth": 0,
              "ticks": ""
             }
            },
            "type": "scatter3d"
           }
          ],
          "scattercarpet": [
           {
            "marker": {
             "colorbar": {
              "outlinewidth": 0,
              "ticks": ""
             }
            },
            "type": "scattercarpet"
           }
          ],
          "scattergeo": [
           {
            "marker": {
             "colorbar": {
              "outlinewidth": 0,
              "ticks": ""
             }
            },
            "type": "scattergeo"
           }
          ],
          "scattergl": [
           {
            "marker": {
             "colorbar": {
              "outlinewidth": 0,
              "ticks": ""
             }
            },
            "type": "scattergl"
           }
          ],
          "scattermap": [
           {
            "marker": {
             "colorbar": {
              "outlinewidth": 0,
              "ticks": ""
             }
            },
            "type": "scattermap"
           }
          ],
          "scattermapbox": [
           {
            "marker": {
             "colorbar": {
              "outlinewidth": 0,
              "ticks": ""
             }
            },
            "type": "scattermapbox"
           }
          ],
          "scatterpolar": [
           {
            "marker": {
             "colorbar": {
              "outlinewidth": 0,
              "ticks": ""
             }
            },
            "type": "scatterpolar"
           }
          ],
          "scatterpolargl": [
           {
            "marker": {
             "colorbar": {
              "outlinewidth": 0,
              "ticks": ""
             }
            },
            "type": "scatterpolargl"
           }
          ],
          "scatterternary": [
           {
            "marker": {
             "colorbar": {
              "outlinewidth": 0,
              "ticks": ""
             }
            },
            "type": "scatterternary"
           }
          ],
          "surface": [
           {
            "colorbar": {
             "outlinewidth": 0,
             "ticks": ""
            },
            "colorscale": [
             [
              0,
              "#0d0887"
             ],
             [
              0.1111111111111111,
              "#46039f"
             ],
             [
              0.2222222222222222,
              "#7201a8"
             ],
             [
              0.3333333333333333,
              "#9c179e"
             ],
             [
              0.4444444444444444,
              "#bd3786"
             ],
             [
              0.5555555555555556,
              "#d8576b"
             ],
             [
              0.6666666666666666,
              "#ed7953"
             ],
             [
              0.7777777777777778,
              "#fb9f3a"
             ],
             [
              0.8888888888888888,
              "#fdca26"
             ],
             [
              1,
              "#f0f921"
             ]
            ],
            "type": "surface"
           }
          ],
          "table": [
           {
            "cells": {
             "fill": {
              "color": "#EBF0F8"
             },
             "line": {
              "color": "white"
             }
            },
            "header": {
             "fill": {
              "color": "#C8D4E3"
             },
             "line": {
              "color": "white"
             }
            },
            "type": "table"
           }
          ]
         },
         "layout": {
          "annotationdefaults": {
           "arrowcolor": "#2a3f5f",
           "arrowhead": 0,
           "arrowwidth": 1
          },
          "autotypenumbers": "strict",
          "coloraxis": {
           "colorbar": {
            "outlinewidth": 0,
            "ticks": ""
           }
          },
          "colorscale": {
           "diverging": [
            [
             0,
             "#8e0152"
            ],
            [
             0.1,
             "#c51b7d"
            ],
            [
             0.2,
             "#de77ae"
            ],
            [
             0.3,
             "#f1b6da"
            ],
            [
             0.4,
             "#fde0ef"
            ],
            [
             0.5,
             "#f7f7f7"
            ],
            [
             0.6,
             "#e6f5d0"
            ],
            [
             0.7,
             "#b8e186"
            ],
            [
             0.8,
             "#7fbc41"
            ],
            [
             0.9,
             "#4d9221"
            ],
            [
             1,
             "#276419"
            ]
           ],
           "sequential": [
            [
             0,
             "#0d0887"
            ],
            [
             0.1111111111111111,
             "#46039f"
            ],
            [
             0.2222222222222222,
             "#7201a8"
            ],
            [
             0.3333333333333333,
             "#9c179e"
            ],
            [
             0.4444444444444444,
             "#bd3786"
            ],
            [
             0.5555555555555556,
             "#d8576b"
            ],
            [
             0.6666666666666666,
             "#ed7953"
            ],
            [
             0.7777777777777778,
             "#fb9f3a"
            ],
            [
             0.8888888888888888,
             "#fdca26"
            ],
            [
             1,
             "#f0f921"
            ]
           ],
           "sequentialminus": [
            [
             0,
             "#0d0887"
            ],
            [
             0.1111111111111111,
             "#46039f"
            ],
            [
             0.2222222222222222,
             "#7201a8"
            ],
            [
             0.3333333333333333,
             "#9c179e"
            ],
            [
             0.4444444444444444,
             "#bd3786"
            ],
            [
             0.5555555555555556,
             "#d8576b"
            ],
            [
             0.6666666666666666,
             "#ed7953"
            ],
            [
             0.7777777777777778,
             "#fb9f3a"
            ],
            [
             0.8888888888888888,
             "#fdca26"
            ],
            [
             1,
             "#f0f921"
            ]
           ]
          },
          "colorway": [
           "#636efa",
           "#EF553B",
           "#00cc96",
           "#ab63fa",
           "#FFA15A",
           "#19d3f3",
           "#FF6692",
           "#B6E880",
           "#FF97FF",
           "#FECB52"
          ],
          "font": {
           "color": "#2a3f5f"
          },
          "geo": {
           "bgcolor": "white",
           "lakecolor": "white",
           "landcolor": "#E5ECF6",
           "showlakes": true,
           "showland": true,
           "subunitcolor": "white"
          },
          "hoverlabel": {
           "align": "left"
          },
          "hovermode": "closest",
          "mapbox": {
           "style": "light"
          },
          "paper_bgcolor": "white",
          "plot_bgcolor": "#E5ECF6",
          "polar": {
           "angularaxis": {
            "gridcolor": "white",
            "linecolor": "white",
            "ticks": ""
           },
           "bgcolor": "#E5ECF6",
           "radialaxis": {
            "gridcolor": "white",
            "linecolor": "white",
            "ticks": ""
           }
          },
          "scene": {
           "xaxis": {
            "backgroundcolor": "#E5ECF6",
            "gridcolor": "white",
            "gridwidth": 2,
            "linecolor": "white",
            "showbackground": true,
            "ticks": "",
            "zerolinecolor": "white"
           },
           "yaxis": {
            "backgroundcolor": "#E5ECF6",
            "gridcolor": "white",
            "gridwidth": 2,
            "linecolor": "white",
            "showbackground": true,
            "ticks": "",
            "zerolinecolor": "white"
           },
           "zaxis": {
            "backgroundcolor": "#E5ECF6",
            "gridcolor": "white",
            "gridwidth": 2,
            "linecolor": "white",
            "showbackground": true,
            "ticks": "",
            "zerolinecolor": "white"
           }
          },
          "shapedefaults": {
           "line": {
            "color": "#2a3f5f"
           }
          },
          "ternary": {
           "aaxis": {
            "gridcolor": "white",
            "linecolor": "white",
            "ticks": ""
           },
           "baxis": {
            "gridcolor": "white",
            "linecolor": "white",
            "ticks": ""
           },
           "bgcolor": "#E5ECF6",
           "caxis": {
            "gridcolor": "white",
            "linecolor": "white",
            "ticks": ""
           }
          },
          "title": {
           "x": 0.05
          },
          "xaxis": {
           "automargin": true,
           "gridcolor": "white",
           "linecolor": "white",
           "ticks": "",
           "title": {
            "standoff": 15
           },
           "zerolinecolor": "white",
           "zerolinewidth": 2
          },
          "yaxis": {
           "automargin": true,
           "gridcolor": "white",
           "linecolor": "white",
           "ticks": "",
           "title": {
            "standoff": 15
           },
           "zerolinecolor": "white",
           "zerolinewidth": 2
          }
         }
        },
        "title": {
         "font": {
          "color": "black",
          "family": "Times New Roman",
          "size": 17
         },
         "pad": {
          "t": 1
         },
         "text": "Goal Rate per Distance (2018-2021)",
         "x": 0.5
        },
        "xaxis": {
         "dtick": 10,
         "linecolor": "black",
         "linewidth": 1,
         "showgrid": false,
         "showline": true,
         "tick0": 0,
         "tickfont": {
          "color": "black",
          "family": "Times New Roman",
          "size": 12
         },
         "tickmode": "linear",
         "title": {
          "font": {
           "color": "black",
           "family": "Times New Roman",
           "size": 14
          },
          "text": "Distance (ft)"
         },
         "zeroline": false
        },
        "yaxis": {
         "linecolor": "black",
         "linewidth": 1,
         "showgrid": false,
         "showline": true,
         "tickfont": {
          "color": "black",
          "family": "Times New Roman",
          "size": 12
         },
         "title": {
          "font": {
           "color": "black",
           "family": "Times New Roman",
           "size": 14
          },
          "text": "Total Shots"
         },
         "zeroline": false
        },
        "yaxis2": {
         "linecolor": "black",
         "linewidth": 1,
         "overlaying": "y",
         "showgrid": false,
         "showline": true,
         "side": "right",
         "tickfont": {
          "color": "black",
          "family": "Times New Roman",
          "size": 12
         },
         "title": {
          "font": {
           "color": "black",
           "family": "Times New Roman",
           "size": 14
          },
          "text": "Goal Rate (%)"
         },
         "zeroline": false
        }
       }
      },
      "image/png": "[encoded data removed]"
     },
     "metadata": {},
     "output_type": "display_data"
    }
   ],
   "source": [
    "''' Create a single figure for all seasons'''\n",
    "\n",
    "shots1, rate1, rate_of_shots1 = calculate_metrics(df_2018)\n",
    "shots2, rate2, rate_of_shots2 = calculate_metrics(df_2019)\n",
    "shots3, rate3, rate_of_shots3 = calculate_metrics(df_2020)\n",
    "\n",
    "\n",
    "fig = go.Figure()\n",
    "\n",
    "fig.add_trace(go.Scatter(\n",
    "    x=(rate1.index.astype(int) + bin_size/2),\n",
    "    y=rate1.values,\n",
    "    name=\"2018-2019\",\n",
    "    mode=\"lines\",\n",
    "    marker=dict(color=\"red\"),\n",
    "    yaxis=\"y2\"\n",
    "))\n",
    "\n",
    "fig.add_trace(go.Scatter(\n",
    "    x=(rate2.index.astype(int) + bin_size/2),\n",
    "    y=rate2.values,\n",
    "    name=\"2019-2020\",\n",
    "    mode=\"lines\",\n",
    "    marker=dict(color=\"yellow\"),\n",
    "    yaxis=\"y2\"\n",
    "))\n",
    "\n",
    "fig.add_trace(go.Scatter(\n",
    "    x=(rate3.index.astype(int) + bin_size/2),\n",
    "    y=rate3.values,\n",
    "    name=\"2020-2021\",\n",
    "    mode=\"lines\",\n",
    "    marker=dict(color=\"orange\"),\n",
    "    yaxis=\"y2\"\n",
    "))\n",
    "\n",
    "\n",
    "\n",
    "family_titles=\"Times New Roman\"\n",
    "fig.update_layout(\n",
    "    plot_bgcolor=\"white\",\n",
    "    paper_bgcolor=\"white\",\n",
    "    title=dict(\n",
    "    text=\"Goal Rate per Distance (2018-2021)\",\n",
    "    font=dict(size=17, family=family_titles, color=\"black\"),  # title font\n",
    "    x=0.5,\n",
    "    pad=dict(t=1)\n",
    "\n",
    "    ),\n",
    "    xaxis=dict(\n",
    "        title=dict(\n",
    "            text=\"Distance (ft)\",\n",
    "            font=dict(size=14, family=family_titles, color=\"black\")\n",
    "        ),\n",
    "        tickfont=dict(size=12, family=family_titles, color=\"black\"),\n",
    "        showgrid=False,\n",
    "        zeroline=False,      \n",
    "        showline=True,       \n",
    "        linecolor=\"black\",   \n",
    "        linewidth=1        \n",
    "    ),\n",
    "    yaxis=dict(\n",
    "        title=dict(\n",
    "            text=\"Total Shots\",\n",
    "            font=dict(size=14, family=family_titles, color=\"black\")\n",
    "        ),\n",
    "        tickfont=dict(size=12, family=family_titles, color=\"black\"),\n",
    "        showgrid=False,\n",
    "        zeroline=False,      \n",
    "        showline=True,       \n",
    "        linecolor=\"black\",   \n",
    "        linewidth=1        \n",
    "    ),\n",
    "    yaxis2=dict(\n",
    "        title=dict(\n",
    "            text=\"Goal Rate (%)\",\n",
    "            font=dict(size=14, family=family_titles, color=\"black\")\n",
    "        ),\n",
    "        tickfont=dict(size=12, family=family_titles, color=\"black\"),\n",
    "        overlaying=\"y\",\n",
    "        side=\"right\",\n",
    "        showgrid=False,\n",
    "        zeroline=False,      \n",
    "        showline=True,       \n",
    "        linecolor=\"black\",   \n",
    "        linewidth=1        \n",
    "    ),\n",
    "    legend=dict(\n",
    "        x=0.99, y=1.01,              \n",
    "        xanchor=\"right\", yanchor=\"top\",\n",
    "        font=dict(size=11, family=family_titles, color=\"black\"),\n",
    "        bgcolor=\"rgba(255,255,255,0.5)\"  # optional background\n",
    "    ),\n",
    "    barmode=\"group\",\n",
    "    margin=dict(t=40)\n",
    "    )\n",
    "\n",
    "fig.update_xaxes(\n",
    "    tick0=0,   # where ticks start\n",
    "    dtick=10,  # step size\n",
    "    tickmode=\"linear\"\n",
    ")\n",
    "\n",
    "#fig.write_image(\"distance_all.png\", scale=5)\n",
    "fig.show()\n"
   ]
  },
  {
   "cell_type": "markdown",
   "id": "70f634cb-af46-4268-bd01-cf4fa3d2b00e",
   "metadata": {},
   "source": [
    "### Second Figure_choice"
   ]
  },
  {
   "cell_type": "code",
   "execution_count": 33,
   "id": "838fca18-d8dc-4bbd-8cc6-09fb8b919513",
   "metadata": {},
   "outputs": [
    {
     "data": {
      "application/vnd.plotly.v1+json": {
       "config": {
        "plotlyServerURL": "https://plot.ly"
       },
       "data": [
        {
         "line": {
          "color": "green",
          "dash": "solid",
          "width": 2
         },
         "marker": {
          "color": "red"
         },
         "mode": "lines",
         "name": "2018-2019",
         "showlegend": false,
         "type": "scatter",
         "x": {
          "bdata": "AAAAAAAABEAAAAAAAAAeQAAAAAAAAClAAAAAAACAMUAAAAAAAIA2QAAAAAAAgDtAAAAAAABAQEAAAAAAAMBCQAAAAAAAQEVAAAAAAADAR0AAAAAAAEBKQAAAAAAAwExAAAAAAABAT0AAAAAAAOBQQAAAAAAAIFJAAAAAAABgU0AAAAAAAKBUQAAAAAAA4FVAAAAAAAAgV0AAAAAAAGBYQA==",
          "dtype": "f8"
         },
         "y": {
          "bdata": "SOF6FK4nQEBmZmZmZqYyQD0K16NwvTBAKVyPwvWoLkD2KFyPwvUoQIXrUbgehSZAH4XrUbgeIUAAAAAAAAAZQMP1KFyPwhJAw/UoXI/CD0BSuB6F61EKQPYoXI/C9QhAAAAAAAAABkBmZmZmZmYCQBSuR+F6FAZA9ihcj8L1DEA9CtejcD0KQOxRuB6F6wdAhetRuB6FFEAAAAAAAAAAAA==",
          "dtype": "f8"
         },
         "yaxis": "y2"
        },
        {
         "line": {
          "color": "green",
          "dash": "dash",
          "width": 2
         },
         "marker": {
          "color": "yellow"
         },
         "mode": "lines",
         "name": "2019-2020",
         "showlegend": false,
         "type": "scatter",
         "x": {
          "bdata": "AAAAAAAABEAAAAAAAAAeQAAAAAAAAClAAAAAAACAMUAAAAAAAIA2QAAAAAAAgDtAAAAAAABAQEAAAAAAAMBCQAAAAAAAQEVAAAAAAADAR0AAAAAAAEBKQAAAAAAAwExAAAAAAABAT0AAAAAAAOBQQAAAAAAAIFJAAAAAAABgU0AAAAAAAKBUQAAAAAAA4FVAAAAAAAAgV0AAAAAAAGBYQA==",
          "dtype": "f8"
         },
         "y": {
          "bdata": "KVyPwvXoP0DNzMzMzIw0QHsUrkfhOjFA7FG4HoXrLkDsUbgehWsqQD0K16NwPSRAH4XrUbieIEBcj8L1KFwYQPYoXI/C9RJASOF6FK5HDUDD9Shcj8IHQOxRuB6F6wVASOF6FK5HA0C4HoXrUbgGQKRwPQrXowBArkfhehSuB0CamZmZmZkDQHsUrkfheghA4XoUrkfhEUCuR+F6FK4UQA==",
          "dtype": "f8"
         },
         "yaxis": "y2"
        },
        {
         "line": {
          "color": "green",
          "dash": "dot",
          "width": 2
         },
         "marker": {
          "color": "orange"
         },
         "mode": "lines",
         "name": "2020-2021",
         "showlegend": false,
         "type": "scatter",
         "x": {
          "bdata": "AAAAAAAABEAAAAAAAAAeQAAAAAAAAClAAAAAAACAMUAAAAAAAIA2QAAAAAAAgDtAAAAAAABAQEAAAAAAAMBCQAAAAAAAQEVAAAAAAADAR0AAAAAAAEBKQAAAAAAAwExAAAAAAABAT0AAAAAAAOBQQAAAAAAAIFJAAAAAAABgU0AAAAAAAKBUQAAAAAAA4FVAAAAAAAAgV0AAAAAAAGBYQA==",
          "dtype": "f8"
         },
         "y": {
          "bdata": "KVyPwvWoPUCPwvUoXI80QOxRuB6FKzBApHA9CtcjMEDNzMzMzMwpQIXrUbgeBSVAUrgehevRIECF61G4HoUaQJqZmZmZmRFAmpmZmZmZDUBxPQrXo3AHQFyPwvUoXAlAhetRuB6FA0BxPQrXo3AFQAAAAAAAAAJAH4XrUbgeFED2KFyPwvUEQNejcD0K1x5A16NwPQrXCUAAAAAAAAAAAA==",
          "dtype": "f8"
         },
         "yaxis": "y2"
        },
        {
         "line": {
          "color": "blue",
          "dash": "solid",
          "width": 2
         },
         "marker": {
          "color": "red"
         },
         "mode": "lines",
         "name": "2018-2019",
         "showlegend": false,
         "type": "scatter",
         "x": {
          "bdata": "AAAAAAAABEAAAAAAAAAeQAAAAAAAAClAAAAAAACAMUAAAAAAAIA2QAAAAAAAgDtAAAAAAABAQEAAAAAAAMBCQAAAAAAAQEVAAAAAAADAR0AAAAAAAEBKQAAAAAAAwExAAAAAAABAT0AAAAAAAOBQQAAAAAAAIFJAAAAAAABgU0AAAAAAAKBUQAAAAAAA4FVAAAAAAAAgV0AAAAAAAGBYQA==",
          "dtype": "f8"
         },
         "y": {
          "bdata": "MzMzMzMz0z+F61G4HgUiQDMzMzMzsyhAmpmZmZkZIUAAAAAAAAAfQMP1KFyPQiBAUrgehetRIECuR+F6FK4gQOF6FK5H4R5AcT0K16NwG0AAAAAAAAAcQM3MzMzMzBxAzczMzMzMDkBSuB6F61H4PwrXo3A9Cuc/uB6F61G45j+4HoXrUbjmP2ZmZmZmZuY/CtejcD0K1z+4HoXrUbiuPw==",
          "dtype": "f8"
         },
         "yaxis": "y"
        },
        {
         "line": {
          "color": "blue",
          "dash": "dash",
          "width": 2
         },
         "marker": {
          "color": "yellow"
         },
         "mode": "lines",
         "name": "2019-2020",
         "showlegend": false,
         "type": "scatter",
         "x": {
          "bdata": "AAAAAAAABEAAAAAAAAAeQAAAAAAAAClAAAAAAACAMUAAAAAAAIA2QAAAAAAAgDtAAAAAAABAQEAAAAAAAMBCQAAAAAAAQEVAAAAAAADAR0AAAAAAAEBKQAAAAAAAwExAAAAAAABAT0AAAAAAAOBQQAAAAAAAIFJAAAAAAABgU0AAAAAAAKBUQAAAAAAA4FVAAAAAAAAgV0AAAAAAAGBYQA==",
          "dtype": "f8"
         },
         "y": {
          "bdata": "XI/C9Shc3z/D9Shcj8IiQBSuR+F6lCZAhetRuB4FIUBcj8L1KFweQLgehetROCBA7FG4HoVrIED2KFyPwvUeQLgehetRuB5AMzMzMzMzGkC4HoXrUbgdQIXrUbgehR5AhetRuB6FEUAzMzMzMzP7PxSuR+F6FOY/ZmZmZmZm5j8AAAAAAADoP8P1KFyPwuU/PQrXo3A92j97FK5H4Xq0Pw==",
          "dtype": "f8"
         },
         "yaxis": "y"
        },
        {
         "line": {
          "color": "blue",
          "dash": "dot",
          "width": 2
         },
         "marker": {
          "color": "orange"
         },
         "mode": "lines",
         "name": "2020-2021",
         "showlegend": false,
         "type": "scatter",
         "x": {
          "bdata": "AAAAAAAABEAAAAAAAAAeQAAAAAAAAClAAAAAAACAMUAAAAAAAIA2QAAAAAAAgDtAAAAAAABAQEAAAAAAAMBCQAAAAAAAQEVAAAAAAADAR0AAAAAAAEBKQAAAAAAAwExAAAAAAABAT0AAAAAAAOBQQAAAAAAAIFJAAAAAAABgU0AAAAAAAKBUQAAAAAAA4FVAAAAAAAAgV0AAAAAAAGBYQA==",
          "dtype": "f8"
         },
         "y": {
          "bdata": "PQrXo3A92j+kcD0K1yMkQClcj8L1qCZAH4XrUbieIEDD9Shcj8IfQK5H4XoULiBAj8L1KFwPIUBI4XoUrkcfQM3MzMzMzBxAUrgehetRG0D2KFyPwvUeQFK4HoXrUR1AcT0K16NwEEC4HoXrUbj2P4XrUbgeheM/4XoUrkfh4j8fhetRuB7lPylcj8L1KOQ/exSuR+F61D+4HoXrUbiuPw==",
          "dtype": "f8"
         },
         "yaxis": "y"
        },
        {
         "hoverinfo": "skip",
         "line": {
          "color": "black",
          "dash": "solid",
          "width": 2
         },
         "mode": "lines",
         "name": "2018–2019",
         "type": "scatter",
         "x": [
          null
         ],
         "y": [
          null
         ]
        },
        {
         "hoverinfo": "skip",
         "line": {
          "color": "black",
          "dash": "dash",
          "width": 2
         },
         "mode": "lines",
         "name": "2018–2019",
         "type": "scatter",
         "x": [
          null
         ],
         "y": [
          null
         ]
        },
        {
         "hoverinfo": "skip",
         "line": {
          "color": "black",
          "dash": "dot",
          "width": 2
         },
         "mode": "lines",
         "name": "2018–2019",
         "type": "scatter",
         "x": [
          null
         ],
         "y": [
          null
         ]
        }
       ],
       "layout": {
        "barmode": "group",
        "height": 400,
        "legend": {
         "bgcolor": "rgba(255,255,255,0.5)",
         "font": {
          "color": "black",
          "family": "Times New Roman",
          "size": 11
         },
         "x": 0.99,
         "xanchor": "right",
         "y": 1.01,
         "yanchor": "top"
        },
        "margin": {
         "t": 40
        },
        "paper_bgcolor": "white",
        "plot_bgcolor": "white",
        "template": {
         "data": {
          "bar": [
           {
            "error_x": {
             "color": "#2a3f5f"
            },
            "error_y": {
             "color": "#2a3f5f"
            },
            "marker": {
             "line": {
              "color": "#E5ECF6",
              "width": 0.5
             },
             "pattern": {
              "fillmode": "overlay",
              "size": 10,
              "solidity": 0.2
             }
            },
            "type": "bar"
           }
          ],
          "barpolar": [
           {
            "marker": {
             "line": {
              "color": "#E5ECF6",
              "width": 0.5
             },
             "pattern": {
              "fillmode": "overlay",
              "size": 10,
              "solidity": 0.2
             }
            },
            "type": "barpolar"
           }
          ],
          "carpet": [
           {
            "aaxis": {
             "endlinecolor": "#2a3f5f",
             "gridcolor": "white",
             "linecolor": "white",
             "minorgridcolor": "white",
             "startlinecolor": "#2a3f5f"
            },
            "baxis": {
             "endlinecolor": "#2a3f5f",
             "gridcolor": "white",
             "linecolor": "white",
             "minorgridcolor": "white",
             "startlinecolor": "#2a3f5f"
            },
            "type": "carpet"
           }
          ],
          "choropleth": [
           {
            "colorbar": {
             "outlinewidth": 0,
             "ticks": ""
            },
            "type": "choropleth"
           }
          ],
          "contour": [
           {
            "colorbar": {
             "outlinewidth": 0,
             "ticks": ""
            },
            "colorscale": [
             [
              0,
              "#0d0887"
             ],
             [
              0.1111111111111111,
              "#46039f"
             ],
             [
              0.2222222222222222,
              "#7201a8"
             ],
             [
              0.3333333333333333,
              "#9c179e"
             ],
             [
              0.4444444444444444,
              "#bd3786"
             ],
             [
              0.5555555555555556,
              "#d8576b"
             ],
             [
              0.6666666666666666,
              "#ed7953"
             ],
             [
              0.7777777777777778,
              "#fb9f3a"
             ],
             [
              0.8888888888888888,
              "#fdca26"
             ],
             [
              1,
              "#f0f921"
             ]
            ],
            "type": "contour"
           }
          ],
          "contourcarpet": [
           {
            "colorbar": {
             "outlinewidth": 0,
             "ticks": ""
            },
            "type": "contourcarpet"
           }
          ],
          "heatmap": [
           {
            "colorbar": {
             "outlinewidth": 0,
             "ticks": ""
            },
            "colorscale": [
             [
              0,
              "#0d0887"
             ],
             [
              0.1111111111111111,
              "#46039f"
             ],
             [
              0.2222222222222222,
              "#7201a8"
             ],
             [
              0.3333333333333333,
              "#9c179e"
             ],
             [
              0.4444444444444444,
              "#bd3786"
             ],
             [
              0.5555555555555556,
              "#d8576b"
             ],
             [
              0.6666666666666666,
              "#ed7953"
             ],
             [
              0.7777777777777778,
              "#fb9f3a"
             ],
             [
              0.8888888888888888,
              "#fdca26"
             ],
             [
              1,
              "#f0f921"
             ]
            ],
            "type": "heatmap"
           }
          ],
          "histogram": [
           {
            "marker": {
             "pattern": {
              "fillmode": "overlay",
              "size": 10,
              "solidity": 0.2
             }
            },
            "type": "histogram"
           }
          ],
          "histogram2d": [
           {
            "colorbar": {
             "outlinewidth": 0,
             "ticks": ""
            },
            "colorscale": [
             [
              0,
              "#0d0887"
             ],
             [
              0.1111111111111111,
              "#46039f"
             ],
             [
              0.2222222222222222,
              "#7201a8"
             ],
             [
              0.3333333333333333,
              "#9c179e"
             ],
             [
              0.4444444444444444,
              "#bd3786"
             ],
             [
              0.5555555555555556,
              "#d8576b"
             ],
             [
              0.6666666666666666,
              "#ed7953"
             ],
             [
              0.7777777777777778,
              "#fb9f3a"
             ],
             [
              0.8888888888888888,
              "#fdca26"
             ],
             [
              1,
              "#f0f921"
             ]
            ],
            "type": "histogram2d"
           }
          ],
          "histogram2dcontour": [
           {
            "colorbar": {
             "outlinewidth": 0,
             "ticks": ""
            },
            "colorscale": [
             [
              0,
              "#0d0887"
             ],
             [
              0.1111111111111111,
              "#46039f"
             ],
             [
              0.2222222222222222,
              "#7201a8"
             ],
             [
              0.3333333333333333,
              "#9c179e"
             ],
             [
              0.4444444444444444,
              "#bd3786"
             ],
             [
              0.5555555555555556,
              "#d8576b"
             ],
             [
              0.6666666666666666,
              "#ed7953"
             ],
             [
              0.7777777777777778,
              "#fb9f3a"
             ],
             [
              0.8888888888888888,
              "#fdca26"
             ],
             [
              1,
              "#f0f921"
             ]
            ],
            "type": "histogram2dcontour"
           }
          ],
          "mesh3d": [
           {
            "colorbar": {
             "outlinewidth": 0,
             "ticks": ""
            },
            "type": "mesh3d"
           }
          ],
          "parcoords": [
           {
            "line": {
             "colorbar": {
              "outlinewidth": 0,
              "ticks": ""
             }
            },
            "type": "parcoords"
           }
          ],
          "pie": [
           {
            "automargin": true,
            "type": "pie"
           }
          ],
          "scatter": [
           {
            "fillpattern": {
             "fillmode": "overlay",
             "size": 10,
             "solidity": 0.2
            },
            "type": "scatter"
           }
          ],
          "scatter3d": [
           {
            "line": {
             "colorbar": {
              "outlinewidth": 0,
              "ticks": ""
             }
            },
            "marker": {
             "colorbar": {
              "outlinewidth": 0,
              "ticks": ""
             }
            },
            "type": "scatter3d"
           }
          ],
          "scattercarpet": [
           {
            "marker": {
             "colorbar": {
              "outlinewidth": 0,
              "ticks": ""
             }
            },
            "type": "scattercarpet"
           }
          ],
          "scattergeo": [
           {
            "marker": {
             "colorbar": {
              "outlinewidth": 0,
              "ticks": ""
             }
            },
            "type": "scattergeo"
           }
          ],
          "scattergl": [
           {
            "marker": {
             "colorbar": {
              "outlinewidth": 0,
              "ticks": ""
             }
            },
            "type": "scattergl"
           }
          ],
          "scattermap": [
           {
            "marker": {
             "colorbar": {
              "outlinewidth": 0,
              "ticks": ""
             }
            },
            "type": "scattermap"
           }
          ],
          "scattermapbox": [
           {
            "marker": {
             "colorbar": {
              "outlinewidth": 0,
              "ticks": ""
             }
            },
            "type": "scattermapbox"
           }
          ],
          "scatterpolar": [
           {
            "marker": {
             "colorbar": {
              "outlinewidth": 0,
              "ticks": ""
             }
            },
            "type": "scatterpolar"
           }
          ],
          "scatterpolargl": [
           {
            "marker": {
             "colorbar": {
              "outlinewidth": 0,
              "ticks": ""
             }
            },
            "type": "scatterpolargl"
           }
          ],
          "scatterternary": [
           {
            "marker": {
             "colorbar": {
              "outlinewidth": 0,
              "ticks": ""
             }
            },
            "type": "scatterternary"
           }
          ],
          "surface": [
           {
            "colorbar": {
             "outlinewidth": 0,
             "ticks": ""
            },
            "colorscale": [
             [
              0,
              "#0d0887"
             ],
             [
              0.1111111111111111,
              "#46039f"
             ],
             [
              0.2222222222222222,
              "#7201a8"
             ],
             [
              0.3333333333333333,
              "#9c179e"
             ],
             [
              0.4444444444444444,
              "#bd3786"
             ],
             [
              0.5555555555555556,
              "#d8576b"
             ],
             [
              0.6666666666666666,
              "#ed7953"
             ],
             [
              0.7777777777777778,
              "#fb9f3a"
             ],
             [
              0.8888888888888888,
              "#fdca26"
             ],
             [
              1,
              "#f0f921"
             ]
            ],
            "type": "surface"
           }
          ],
          "table": [
           {
            "cells": {
             "fill": {
              "color": "#EBF0F8"
             },
             "line": {
              "color": "white"
             }
            },
            "header": {
             "fill": {
              "color": "#C8D4E3"
             },
             "line": {
              "color": "white"
             }
            },
            "type": "table"
           }
          ]
         },
         "layout": {
          "annotationdefaults": {
           "arrowcolor": "#2a3f5f",
           "arrowhead": 0,
           "arrowwidth": 1
          },
          "autotypenumbers": "strict",
          "coloraxis": {
           "colorbar": {
            "outlinewidth": 0,
            "ticks": ""
           }
          },
          "colorscale": {
           "diverging": [
            [
             0,
             "#8e0152"
            ],
            [
             0.1,
             "#c51b7d"
            ],
            [
             0.2,
             "#de77ae"
            ],
            [
             0.3,
             "#f1b6da"
            ],
            [
             0.4,
             "#fde0ef"
            ],
            [
             0.5,
             "#f7f7f7"
            ],
            [
             0.6,
             "#e6f5d0"
            ],
            [
             0.7,
             "#b8e186"
            ],
            [
             0.8,
             "#7fbc41"
            ],
            [
             0.9,
             "#4d9221"
            ],
            [
             1,
             "#276419"
            ]
           ],
           "sequential": [
            [
             0,
             "#0d0887"
            ],
            [
             0.1111111111111111,
             "#46039f"
            ],
            [
             0.2222222222222222,
             "#7201a8"
            ],
            [
             0.3333333333333333,
             "#9c179e"
            ],
            [
             0.4444444444444444,
             "#bd3786"
            ],
            [
             0.5555555555555556,
             "#d8576b"
            ],
            [
             0.6666666666666666,
             "#ed7953"
            ],
            [
             0.7777777777777778,
             "#fb9f3a"
            ],
            [
             0.8888888888888888,
             "#fdca26"
            ],
            [
             1,
             "#f0f921"
            ]
           ],
           "sequentialminus": [
            [
             0,
             "#0d0887"
            ],
            [
             0.1111111111111111,
             "#46039f"
            ],
            [
             0.2222222222222222,
             "#7201a8"
            ],
            [
             0.3333333333333333,
             "#9c179e"
            ],
            [
             0.4444444444444444,
             "#bd3786"
            ],
            [
             0.5555555555555556,
             "#d8576b"
            ],
            [
             0.6666666666666666,
             "#ed7953"
            ],
            [
             0.7777777777777778,
             "#fb9f3a"
            ],
            [
             0.8888888888888888,
             "#fdca26"
            ],
            [
             1,
             "#f0f921"
            ]
           ]
          },
          "colorway": [
           "#636efa",
           "#EF553B",
           "#00cc96",
           "#ab63fa",
           "#FFA15A",
           "#19d3f3",
           "#FF6692",
           "#B6E880",
           "#FF97FF",
           "#FECB52"
          ],
          "font": {
           "color": "#2a3f5f"
          },
          "geo": {
           "bgcolor": "white",
           "lakecolor": "white",
           "landcolor": "#E5ECF6",
           "showlakes": true,
           "showland": true,
           "subunitcolor": "white"
          },
          "hoverlabel": {
           "align": "left"
          },
          "hovermode": "closest",
          "mapbox": {
           "style": "light"
          },
          "paper_bgcolor": "white",
          "plot_bgcolor": "#E5ECF6",
          "polar": {
           "angularaxis": {
            "gridcolor": "white",
            "linecolor": "white",
            "ticks": ""
           },
           "bgcolor": "#E5ECF6",
           "radialaxis": {
            "gridcolor": "white",
            "linecolor": "white",
            "ticks": ""
           }
          },
          "scene": {
           "xaxis": {
            "backgroundcolor": "#E5ECF6",
            "gridcolor": "white",
            "gridwidth": 2,
            "linecolor": "white",
            "showbackground": true,
            "ticks": "",
            "zerolinecolor": "white"
           },
           "yaxis": {
            "backgroundcolor": "#E5ECF6",
            "gridcolor": "white",
            "gridwidth": 2,
            "linecolor": "white",
            "showbackground": true,
            "ticks": "",
            "zerolinecolor": "white"
           },
           "zaxis": {
            "backgroundcolor": "#E5ECF6",
            "gridcolor": "white",
            "gridwidth": 2,
            "linecolor": "white",
            "showbackground": true,
            "ticks": "",
            "zerolinecolor": "white"
           }
          },
          "shapedefaults": {
           "line": {
            "color": "#2a3f5f"
           }
          },
          "ternary": {
           "aaxis": {
            "gridcolor": "white",
            "linecolor": "white",
            "ticks": ""
           },
           "baxis": {
            "gridcolor": "white",
            "linecolor": "white",
            "ticks": ""
           },
           "bgcolor": "#E5ECF6",
           "caxis": {
            "gridcolor": "white",
            "linecolor": "white",
            "ticks": ""
           }
          },
          "title": {
           "x": 0.05
          },
          "xaxis": {
           "automargin": true,
           "gridcolor": "white",
           "linecolor": "white",
           "ticks": "",
           "title": {
            "standoff": 15
           },
           "zerolinecolor": "white",
           "zerolinewidth": 2
          },
          "yaxis": {
           "automargin": true,
           "gridcolor": "white",
           "linecolor": "white",
           "ticks": "",
           "title": {
            "standoff": 15
           },
           "zerolinecolor": "white",
           "zerolinewidth": 2
          }
         }
        },
        "title": {
         "font": {
          "color": "black",
          "family": "Times New Roman",
          "size": 17
         },
         "pad": {
          "t": 1
         },
         "text": "Goal Rate per Distance (2018-2021)",
         "x": 0.5
        },
        "width": 800,
        "xaxis": {
         "dtick": 10,
         "linecolor": "black",
         "linewidth": 1,
         "showgrid": false,
         "showline": true,
         "tick0": 0,
         "tickfont": {
          "color": "black",
          "family": "Times New Roman",
          "size": 12
         },
         "tickmode": "linear",
         "title": {
          "font": {
           "color": "black",
           "family": "Times New Roman",
           "size": 14
          },
          "text": "Distance (ft)"
         },
         "zeroline": false
        },
        "yaxis": {
         "linecolor": "black",
         "linewidth": 1,
         "showgrid": false,
         "showline": true,
         "tickfont": {
          "color": "black",
          "family": "Times New Roman",
          "size": 12
         },
         "title": {
          "font": {
           "color": "black",
           "family": "Times New Roman",
           "size": 14
          },
          "text": "Rate of Shots (%)"
         },
         "zeroline": false
        },
        "yaxis2": {
         "linecolor": "black",
         "linewidth": 1,
         "overlaying": "y",
         "showgrid": false,
         "showline": true,
         "side": "right",
         "tickfont": {
          "color": "black",
          "family": "Times New Roman",
          "size": 12
         },
         "title": {
          "font": {
           "color": "black",
           "family": "Times New Roman",
           "size": 14
          },
          "text": "Rate of Goals (%)"
         },
         "zeroline": false
        }
       }
      },
      "image/png": "[encoded data removed]"
     },
     "metadata": {},
     "output_type": "display_data"
    }
   ],
   "source": [
    "''' Create a single figure for all seasons'''\n",
    "'''Display shots rate instead of total goals to improve lisibility'''\n",
    "\n",
    "shots1, rate1, rate_of_shots1 = calculate_metrics(df_2018)\n",
    "shots2, rate2, rate_of_shots2 = calculate_metrics(df_2019)\n",
    "shots3, rate3, rate_of_shots3 = calculate_metrics(df_2020)\n",
    "\n",
    "\n",
    "fig = go.Figure()\n",
    "\n",
    "fig.add_trace(go.Scatter(\n",
    "    x=(rate1.index.astype(int) + bin_size/2),\n",
    "    y=rate1.values,\n",
    "    name=\"2018-2019\",\n",
    "    mode=\"lines\",\n",
    "    marker=dict(color=\"red\"),\n",
    "    line=dict(color=\"green\", dash=\"solid\", width=2),\n",
    "    yaxis=\"y2\",\n",
    "    showlegend=False\n",
    "\n",
    "))\n",
    "\n",
    "fig.add_trace(go.Scatter(\n",
    "    x=(rate2.index.astype(int) + bin_size/2),\n",
    "    y=rate2.values,\n",
    "    name=\"2019-2020\",\n",
    "    mode=\"lines\",\n",
    "    marker=dict(color=\"yellow\"),\n",
    "    line=dict(color=\"green\", dash=\"dash\", width=2),\n",
    "    yaxis=\"y2\",\n",
    "    showlegend=False\n",
    "\n",
    "))\n",
    "\n",
    "fig.add_trace(go.Scatter(\n",
    "    x=(rate3.index.astype(int) + bin_size/2),\n",
    "    y=rate3.values,\n",
    "    name=\"2020-2021\",\n",
    "    mode=\"lines\",\n",
    "    marker=dict(color=\"orange\"),\n",
    "    line=dict(color=\"green\", dash=\"dot\", width=2),\n",
    "    yaxis=\"y2\",\n",
    "    showlegend=False\n",
    "\n",
    "))\n",
    "\n",
    "fig.add_trace(go.Scatter(\n",
    "    x=(rate1.index.astype(int) + bin_size/2),\n",
    "    y=rate_of_shots1.values,\n",
    "    name=\"2018-2019\",\n",
    "    mode=\"lines\",\n",
    "    marker=dict(color=\"red\"),\n",
    "    line=dict(color=\"blue\", dash=\"solid\", width=2),\n",
    "    yaxis=\"y1\",\n",
    "    showlegend=False\n",
    "))\n",
    "\n",
    "fig.add_trace(go.Scatter(\n",
    "    x=(rate2.index.astype(int) + bin_size/2),\n",
    "    y=rate_of_shots2.values,\n",
    "    name=\"2019-2020\",\n",
    "    mode=\"lines\",\n",
    "    marker=dict(color=\"yellow\"),\n",
    "    line=dict(color=\"blue\", dash=\"dash\", width=2),\n",
    "    yaxis=\"y1\",\n",
    "    showlegend=False\n",
    "))\n",
    "\n",
    "fig.add_trace(go.Scatter(\n",
    "    x=(rate3.index.astype(int) + bin_size/2),\n",
    "    y=rate_of_shots3.values,\n",
    "    name=\"2020-2021\",\n",
    "    mode=\"lines\",\n",
    "    marker=dict(color=\"orange\"),\n",
    "    line=dict(color=\"blue\", dash=\"dot\", width=2),\n",
    "    yaxis=\"y1\",\n",
    "    showlegend=False\n",
    "))\n",
    "\n",
    "'''Here we add one dummy set of lines only to be displayed as the legend'''\n",
    "fig.add_trace(go.Scatter(\n",
    "    x=[None], y=[None],         \n",
    "    mode=\"lines\",\n",
    "    line=dict(color=\"black\", dash=\"solid\", width=2),\n",
    "    name=\"2018–2019\",             \n",
    "    hoverinfo=\"skip\"             \n",
    "))\n",
    "fig.add_trace(go.Scatter(\n",
    "    x=[None], y=[None],          \n",
    "    mode=\"lines\",\n",
    "    line=dict(color=\"black\", dash=\"dash\", width=2),\n",
    "    name=\"2018–2019\",             \n",
    "    hoverinfo=\"skip\"              \n",
    "))\n",
    "fig.add_trace(go.Scatter(\n",
    "    x=[None], y=[None],           \n",
    "    mode=\"lines\",\n",
    "    line=dict(color=\"black\", dash=\"dot\", width=2),\n",
    "    name=\"2018–2019\",             \n",
    "    hoverinfo=\"skip\"              \n",
    "))\n",
    "\n",
    "\n",
    "\n",
    "family_titles=\"Times New Roman\"\n",
    "fig.update_layout(\n",
    "    plot_bgcolor=\"white\",\n",
    "    paper_bgcolor=\"white\",\n",
    "    title=dict(\n",
    "    text=\"Goal Rate per Distance (2018-2021)\",\n",
    "    font=dict(size=17, family=family_titles, color=\"black\"),  # title font\n",
    "    x=0.5,\n",
    "    pad=dict(t=1)\n",
    "\n",
    "    ),\n",
    "    xaxis=dict(\n",
    "        title=dict(\n",
    "            text=\"Distance (ft)\",\n",
    "            font=dict(size=14, family=family_titles, color=\"black\")\n",
    "        ),\n",
    "        tickfont=dict(size=12, family=family_titles, color=\"black\"),\n",
    "        showgrid=False,\n",
    "        zeroline=False,      \n",
    "        showline=True,       \n",
    "        linecolor=\"black\",   \n",
    "        linewidth=1        \n",
    "    ),\n",
    "    yaxis=dict(\n",
    "        title=dict(\n",
    "            text=\"Rate of Shots (%)\",\n",
    "            font=dict(size=14, family=family_titles, color=\"black\")\n",
    "        ),\n",
    "        tickfont=dict(size=12, family=family_titles, color=\"black\"),\n",
    "        showgrid=False,\n",
    "        zeroline=False,      \n",
    "        showline=True,       \n",
    "        linecolor=\"black\",   \n",
    "        linewidth=1        \n",
    "    ),\n",
    "    yaxis2=dict(\n",
    "        title=dict(\n",
    "            text=\"Rate of Goals (%)\",\n",
    "            font=dict(size=14, family=family_titles, color=\"black\")\n",
    "        ),\n",
    "        tickfont=dict(size=12, family=family_titles, color=\"black\"),\n",
    "        overlaying=\"y\",\n",
    "        side=\"right\",\n",
    "        showgrid=False,\n",
    "        zeroline=False,      \n",
    "        showline=True,       \n",
    "        linecolor=\"black\",   \n",
    "        linewidth=1        \n",
    "    ),\n",
    "    legend=dict(\n",
    "        x=0.99, y=1.01,              \n",
    "        xanchor=\"right\", yanchor=\"top\",\n",
    "        font=dict(size=11, family=family_titles, color=\"black\"),\n",
    "        bgcolor=\"rgba(255,255,255,0.5)\"\n",
    "    ),\n",
    "    barmode=\"group\",\n",
    "    margin=dict(t=40)\n",
    "    )\n",
    "\n",
    "fig.update_xaxes(\n",
    "    tick0=0,   # where ticks start\n",
    "    dtick=10,  # step size\n",
    "    tickmode=\"linear\"\n",
    ")\n",
    "fig.update_layout(width=800, height=400)\n",
    "fig.write_image(OUT_PATH_VIS+\"Goal Rate per Distance (All Seasons).png\", scale=5)\n",
    "fig.write_image(OUT_PATH_VIS+\"Goal Rate per Distance (All Seasons).svg\")\n",
    "fig.show()"
   ]
  },
  {
   "cell_type": "code",
   "execution_count": 34,
   "id": "b984e992-bddb-4bc3-9bd6-66fea4ad25b9",
   "metadata": {},
   "outputs": [
    {
     "name": "stdout",
     "output_type": "stream",
     "text": [
      "The figure shows the rate of goals according to distance from the net (right), compared to the rate of shots per distanceTo compute the lines, the distances were groupped in 5ft bins, e.g. 0-5, 5-10, etc. We observe that both the behaviour of the players (rate of shots) and the successful rate of goals remainsconsistent throughout the seasons. We also observe that the closest the shot is to the net, the higher its chances to be a goal. However, shots from a distance less than 6 feet are very rare.Most successful shots come from a distance between 6 and 18 ft (approximately), i.e. the most dangerous zones where there are both a lot of shots and a lot of goals\n"
     ]
    }
   ],
   "source": [
    "caption=(\"The figure shows the rate of goals according to distance from the net (right), compared to the rate of shots per distance\"\n",
    "         \"To compute the lines, the distances were groupped in 5ft bins, e.g. 0-5, 5-10, etc. We observe that both the behaviour of the players (rate of shots) and the successful rate of goals remains\"\n",
    "         \"consistent throughout the seasons. We also observe that the closest the shot is to the net, the higher its chances to be a goal. However, shots from a distance less than 6 feet are very rare.\"\n",
    "         \"Most successful shots come from a distance between 6 and 18 ft (approximately), i.e. the most dangerous zones where there are both a lot of shots and a lot of goals\")\n",
    "print(caption)"
   ]
  },
  {
   "cell_type": "markdown",
   "id": "fa4313be-29e9-4fa9-befc-e72b5195c63d",
   "metadata": {},
   "source": [
    "## Third Figure"
   ]
  },
  {
   "cell_type": "markdown",
   "id": "cad16c66-7091-4318-b0e1-a0868005ab88",
   "metadata": {},
   "source": [
    "Instruction : Combine the information from the previous sections to produce a figure that\n",
    "shows the goal percentage (# goals / # shots) as a function of both distance\n",
    "from the net, and the category of shot types (you can pick a single season of\n",
    "your choice). Briefly discuss your findings; e.g. what might be the most\n",
    "dangerous types of shots?"
   ]
  },
  {
   "cell_type": "markdown",
   "id": "7f15073b-d48d-457d-bb17-01416a5795e6",
   "metadata": {},
   "source": [
    "### Third Figure_prep"
   ]
  },
  {
   "cell_type": "code",
   "execution_count": 34,
   "id": "a64e9fcc-d3eb-4c1f-bcb8-520272694a3c",
   "metadata": {},
   "outputs": [
    {
     "data": {
      "text/html": [
       "<div>\n",
       "<style scoped>\n",
       "    .dataframe tbody tr th:only-of-type {\n",
       "        vertical-align: middle;\n",
       "    }\n",
       "\n",
       "    .dataframe tbody tr th {\n",
       "        vertical-align: top;\n",
       "    }\n",
       "\n",
       "    .dataframe thead th {\n",
       "        text-align: right;\n",
       "    }\n",
       "</style>\n",
       "<table border=\"1\" class=\"dataframe\">\n",
       "  <thead>\n",
       "    <tr style=\"text-align: right;\">\n",
       "      <th></th>\n",
       "      <th>game_id</th>\n",
       "      <th>season</th>\n",
       "      <th>game_type</th>\n",
       "      <th>event_type</th>\n",
       "      <th>period</th>\n",
       "      <th>period_time</th>\n",
       "      <th>x_coord</th>\n",
       "      <th>y_coord</th>\n",
       "      <th>shot_type</th>\n",
       "      <th>team_id</th>\n",
       "      <th>team_name</th>\n",
       "      <th>player_name</th>\n",
       "      <th>goalie_name</th>\n",
       "    </tr>\n",
       "  </thead>\n",
       "  <tbody>\n",
       "    <tr>\n",
       "      <th>0</th>\n",
       "      <td>2021020001</td>\n",
       "      <td>2021</td>\n",
       "      <td>regular</td>\n",
       "      <td>SHOT_ON_GOAL</td>\n",
       "      <td>1</td>\n",
       "      <td>01:03</td>\n",
       "      <td>61</td>\n",
       "      <td>-32</td>\n",
       "      <td>wrist</td>\n",
       "      <td>14</td>\n",
       "      <td>Tampa Bay Lightning</td>\n",
       "      <td>Steven Stamkos</td>\n",
       "      <td>Tristan Jarry</td>\n",
       "    </tr>\n",
       "    <tr>\n",
       "      <th>1</th>\n",
       "      <td>2021020001</td>\n",
       "      <td>2021</td>\n",
       "      <td>regular</td>\n",
       "      <td>SHOT_ON_GOAL</td>\n",
       "      <td>1</td>\n",
       "      <td>01:44</td>\n",
       "      <td>-65</td>\n",
       "      <td>19</td>\n",
       "      <td>wrist</td>\n",
       "      <td>5</td>\n",
       "      <td>Pittsburgh Penguins</td>\n",
       "      <td>Brock McGinn</td>\n",
       "      <td>Andrei Vasilevskiy</td>\n",
       "    </tr>\n",
       "    <tr>\n",
       "      <th>2</th>\n",
       "      <td>2021020001</td>\n",
       "      <td>2021</td>\n",
       "      <td>regular</td>\n",
       "      <td>SHOT_ON_GOAL</td>\n",
       "      <td>1</td>\n",
       "      <td>02:01</td>\n",
       "      <td>-8</td>\n",
       "      <td>-27</td>\n",
       "      <td>wrist</td>\n",
       "      <td>14</td>\n",
       "      <td>Tampa Bay Lightning</td>\n",
       "      <td>Jan Rutta</td>\n",
       "      <td>Tristan Jarry</td>\n",
       "    </tr>\n",
       "    <tr>\n",
       "      <th>3</th>\n",
       "      <td>2021020001</td>\n",
       "      <td>2021</td>\n",
       "      <td>regular</td>\n",
       "      <td>SHOT_ON_GOAL</td>\n",
       "      <td>1</td>\n",
       "      <td>02:47</td>\n",
       "      <td>-60</td>\n",
       "      <td>-4</td>\n",
       "      <td>wrist</td>\n",
       "      <td>5</td>\n",
       "      <td>Pittsburgh Penguins</td>\n",
       "      <td>Danton Heinen</td>\n",
       "      <td>Andrei Vasilevskiy</td>\n",
       "    </tr>\n",
       "    <tr>\n",
       "      <th>4</th>\n",
       "      <td>2021020001</td>\n",
       "      <td>2021</td>\n",
       "      <td>regular</td>\n",
       "      <td>SHOT_ON_GOAL</td>\n",
       "      <td>1</td>\n",
       "      <td>03:07</td>\n",
       "      <td>63</td>\n",
       "      <td>4</td>\n",
       "      <td>wrist</td>\n",
       "      <td>14</td>\n",
       "      <td>Tampa Bay Lightning</td>\n",
       "      <td>Ondrej Palat</td>\n",
       "      <td>Tristan Jarry</td>\n",
       "    </tr>\n",
       "  </tbody>\n",
       "</table>\n",
       "</div>"
      ],
      "text/plain": [
       "      game_id  season game_type    event_type  period period_time  x_coord  \\\n",
       "0  2021020001    2021   regular  SHOT_ON_GOAL       1       01:03       61   \n",
       "1  2021020001    2021   regular  SHOT_ON_GOAL       1       01:44      -65   \n",
       "2  2021020001    2021   regular  SHOT_ON_GOAL       1       02:01       -8   \n",
       "3  2021020001    2021   regular  SHOT_ON_GOAL       1       02:47      -60   \n",
       "4  2021020001    2021   regular  SHOT_ON_GOAL       1       03:07       63   \n",
       "\n",
       "   y_coord shot_type  team_id            team_name     player_name  \\\n",
       "0      -32     wrist       14  Tampa Bay Lightning  Steven Stamkos   \n",
       "1       19     wrist        5  Pittsburgh Penguins    Brock McGinn   \n",
       "2      -27     wrist       14  Tampa Bay Lightning       Jan Rutta   \n",
       "3       -4     wrist        5  Pittsburgh Penguins   Danton Heinen   \n",
       "4        4     wrist       14  Tampa Bay Lightning    Ondrej Palat   \n",
       "\n",
       "          goalie_name  \n",
       "0       Tristan Jarry  \n",
       "1  Andrei Vasilevskiy  \n",
       "2       Tristan Jarry  \n",
       "3  Andrei Vasilevskiy  \n",
       "4       Tristan Jarry  "
      ]
     },
     "execution_count": 34,
     "metadata": {},
     "output_type": "execute_result"
    }
   ],
   "source": [
    "'''We work with the same season as before (2021-2022)'''\n",
    "\n",
    "path=\"ift6758/data/2016-2024_processed/2021-2022_events.csv\"\n",
    "df_2021=pd.read_csv(path)\n",
    "df_2021.head(5)"
   ]
  },
  {
   "cell_type": "code",
   "execution_count": 35,
   "id": "a8968eed-2b3a-4c48-95e4-c126e99aa1f3",
   "metadata": {},
   "outputs": [],
   "source": [
    "df_2021=calculate_distance(df_2021)"
   ]
  },
  {
   "cell_type": "code",
   "execution_count": 36,
   "id": "cb59937e-f7e1-4a92-84a9-7470e18a70c5",
   "metadata": {},
   "outputs": [],
   "source": [
    "df_2021['distance_bin'] = (df_2021['distance_from_net'].dropna() // bin_size * bin_size).astype(int)"
   ]
  },
  {
   "cell_type": "code",
   "execution_count": 37,
   "id": "bc2faaec-025c-432c-ad37-5c171fdb3266",
   "metadata": {
    "scrolled": true
   },
   "outputs": [
    {
     "name": "stdout",
     "output_type": "stream",
     "text": [
      "  shot_type bin_label  shots\n",
      "   backhand       0-5     68\n",
      "   backhand      5-10   2065\n",
      "   backhand     10-15   2085\n",
      "   backhand     15-20   1023\n",
      "   backhand     20-25    586\n",
      "   backhand     25-30    370\n",
      "   backhand     30-35    210\n",
      "   backhand     35-40    169\n",
      "   backhand     40-45     95\n",
      "   backhand     45-50     85\n",
      "   backhand     50-55     64\n",
      "   backhand     55-60     47\n",
      "   backhand     60-65     34\n",
      "   backhand     65-70     45\n",
      "   backhand     70-75     35\n",
      "   backhand     75-80     37\n",
      "   backhand     80-85     46\n",
      "   backhand     85-90     45\n",
      "   backhand     90-95     33\n",
      "   backhand    95-100      7\n",
      "  deflected       0-5      7\n",
      "  deflected      5-10    506\n",
      "  deflected     10-15    472\n",
      "  deflected     15-20    248\n",
      "  deflected     20-25    152\n",
      "  deflected     25-30     80\n",
      "  deflected     30-35     34\n",
      "  deflected     35-40     28\n",
      "  deflected     40-45     17\n",
      "  deflected     45-50     24\n",
      "  deflected     50-55     18\n",
      "  deflected     55-60     18\n",
      "  deflected     60-65     20\n",
      "  deflected     65-70     26\n",
      "  deflected     70-75     28\n",
      "  deflected     75-80     19\n",
      "  deflected     80-85     14\n",
      "  deflected     85-90     17\n",
      "  deflected     90-95     10\n",
      "  deflected    95-100      1\n",
      "       slap       0-5      3\n",
      "       slap      5-10     77\n",
      "       slap     10-15    105\n",
      "       slap     15-20    163\n",
      "       slap     20-25    336\n",
      "       slap     25-30    538\n",
      "       slap     30-35    877\n",
      "       slap     35-40   1054\n",
      "       slap     40-45   1296\n",
      "       slap     45-50   1544\n",
      "       slap     50-55   2102\n",
      "       slap     55-60   2021\n",
      "       slap     60-65    895\n",
      "       slap     65-70    204\n",
      "       slap     70-75     46\n",
      "       slap     75-80     64\n",
      "       slap     80-85     67\n",
      "       slap     85-90     59\n",
      "       slap     90-95     26\n",
      "       slap    95-100      4\n",
      "       snap       0-5     10\n",
      "       snap      5-10    396\n",
      "       snap     10-15    771\n",
      "       snap     15-20   1039\n",
      "       snap     20-25   1283\n",
      "       snap     25-30   1528\n",
      "       snap     30-35   1613\n",
      "       snap     35-40   1311\n",
      "       snap     40-45   1072\n",
      "       snap     45-50    817\n",
      "       snap     50-55    800\n",
      "       snap     55-60    634\n",
      "       snap     60-65    319\n",
      "       snap     65-70    125\n",
      "       snap     70-75     38\n",
      "       snap     75-80     34\n",
      "       snap     80-85     34\n",
      "       snap     85-90     35\n",
      "       snap     90-95     13\n",
      "       snap    95-100      3\n",
      "     tip-in       0-5     34\n",
      "     tip-in      5-10   1506\n",
      "     tip-in     10-15   1597\n",
      "     tip-in     15-20    731\n",
      "     tip-in     20-25    323\n",
      "     tip-in     25-30    144\n",
      "     tip-in     30-35     66\n",
      "     tip-in     35-40     28\n",
      "     tip-in     40-45      9\n",
      "     tip-in     45-50     14\n",
      "     tip-in     50-55     23\n",
      "     tip-in     55-60     26\n",
      "     tip-in     60-65     38\n",
      "     tip-in     65-70     54\n",
      "     tip-in     70-75     41\n",
      "     tip-in     75-80     39\n",
      "     tip-in     80-85     31\n",
      "     tip-in     85-90     32\n",
      "     tip-in     90-95     19\n",
      "     tip-in    95-100      1\n",
      "wrap-around       0-5     85\n",
      "wrap-around      5-10    617\n",
      "wrap-around     10-15     56\n",
      "wrap-around     15-20     10\n",
      "wrap-around     20-25      1\n",
      "wrap-around     25-30      1\n",
      "wrap-around     30-35      1\n",
      "wrap-around     45-50      2\n",
      "wrap-around     50-55      1\n",
      "wrap-around     55-60      2\n",
      "      wrist       0-5    174\n",
      "      wrist      5-10   4356\n",
      "      wrist     10-15   5120\n",
      "      wrist     15-20   4380\n",
      "      wrist     20-25   4645\n",
      "      wrist     25-30   5058\n",
      "      wrist     30-35   5171\n",
      "      wrist     35-40   4528\n",
      "      wrist     40-45   4168\n",
      "      wrist     45-50   3474\n",
      "      wrist     50-55   3494\n",
      "      wrist     55-60   3134\n",
      "      wrist     60-65   1711\n",
      "      wrist     65-70    697\n",
      "      wrist     70-75    335\n",
      "      wrist     75-80    368\n",
      "      wrist     80-85    409\n",
      "      wrist     85-90    371\n",
      "      wrist     90-95    168\n",
      "      wrist    95-100     45\n"
     ]
    }
   ],
   "source": [
    "grouped = (df_2021\n",
    "           .groupby(['shot_type', 'distance_bin'])\n",
    "           .size()\n",
    "           .rename('shots')\n",
    "           .reset_index()\n",
    "           .sort_values(['shot_type', 'distance_bin']))\n",
    "\n",
    "# optional: human-friendly bin labels like \"0-10\"\n",
    "grouped['bin_label'] = grouped['distance_bin'].map(lambda s: f\"{int(s)}-{int(s + bin_size)}\")\n",
    "\n",
    "'''Visualize the metrics to be sure it is correct'''\n",
    "print(grouped[['shot_type', 'bin_label', 'shots']].to_string(index=False))"
   ]
  },
  {
   "cell_type": "markdown",
   "id": "758d6aea-f22b-4bab-ae6f-b5bd72527113",
   "metadata": {},
   "source": [
    "### Third Figure_tests"
   ]
  },
  {
   "cell_type": "code",
   "execution_count": 38,
   "id": "3e7f6fa0-6e30-4ff3-adc1-5523b63e80ff",
   "metadata": {},
   "outputs": [
    {
     "data": {
      "application/vnd.plotly.v1+json": {
       "config": {
        "plotlyServerURL": "https://plot.ly"
       },
       "data": [
        {
         "colorbar": {
          "dtick": 10,
          "tick0": 0,
          "title": {
           "text": "Share of shots (%)"
          }
         },
         "colorscale": [
          [
           0,
           "rgb(255,255,255)"
          ],
          [
           0.125,
           "rgb(254,230,206)"
          ],
          [
           0.25,
           "rgb(253,208,162)"
          ],
          [
           0.5,
           "rgb(253,174,107)"
          ],
          [
           0.75,
           "rgb(230,85,13)"
          ],
          [
           1,
           "rgb(166,54,3)"
          ]
         ],
         "type": "heatmap",
         "x": [
          "0-5",
          "5-10",
          "10-15",
          "15-20",
          "20-25",
          "25-30",
          "30-35",
          "35-40",
          "40-45",
          "45-50",
          "50-55",
          "55-60",
          "60-65",
          "65-70",
          "70-75"
         ],
         "xgap": 1,
         "y": [
          "backhand",
          "deflected",
          "slap",
          "snap",
          "tip-in",
          "wrap-around",
          "wrist"
         ],
         "ygap": 1,
         "z": {
          "bdata": "BN30MhVw7j/b18TDmeI8QC5FxBM4Kj1AZpb4KpCeLEBG00S21mQgQBaa1R/DsxRAWN/PP/J/B0A1qz+GZ+kCQL101L//QvU/IgrZPw0G8z8h7l6ZuaXsP+G2oUy0CeU/BN30MhVw3j9vv9Z/hiTkP3XUv/9CVd8/0Cks/A3D2T9emD/w4Bg9QMMZ03JcJDtAtwl66aqFLEAWikI0N3shQLnUsdjAZhJAoOnH1kdI/z/QKSz8DcP5P6Dpx9ZHSO8/Q/9uaucU9j9yP9OPrY/wP3I/04+tj/A/udSx2MBm8j+JlE2z+uv3P9ApLPwNw/k/gpZyNdvBmj9jk97SJ3blP55UdcIHRO0/cfJfGT639j+yQ8TOn2kHQBrwcI93vhJAioQIUgmOHkCd9qxrW1wiQP6uGPWQkyZA9tm5WYjlKkBSPRJ++k4yQNp3afZdmjFAETRJdZQuH0Drv8no+G38P+h6OBNypNk/7ViBMNKOtT8M3myCiq0KQCA5oml0+BlAL8vFA7t/IUAjQGt7wZslQCkCtLYXvClAD5nsq5MqK0AUrkfhehQmQHq60jsDDiJAhetRuB6FG0Aor6G8hvIaQBi82QQVWxVApiT0IZN9BUB5DeU1lNfwP3sUrkfhetQ/2AtVkVng5j/OIWfNTqo/QDnyP8sQykBA6kdKW3i9LkAQ/pRcaiobQMZIlk7XOAhAYW20sho09j8MVZFZ4NbiP8ZIlk7XOMg/DFWRWeDW0j9wedwATPPePx0YUJxifuE/tYXXC1WR6T+UtvB6oSryPxphuacRlus/qcAXVz/oJUAXVz/oqOBTQCxPItOw3RxARKZhu1me9D/QUYEvrn7AP9BRgS+ufsA/0FGBL65+wD8AAAAAAAAAAAAAAAAAAAAA0FGBL65+0D/QUYEvrn7AP9BRgS+uftA/AAAAAAAAAAAAAAAAAAAAAAAAAAAAAAAAF2ALT95+1T8lUB22C9EgQJvlwN4bxCNAawSP18PoIEBNgNZIqu4hQDkpW4jVhiNAsITSJYP2I0B0McylCHshQE+hIrA+FyBA+l0V0rnSGkDF39IJQvoaQHy/fx6uMhhAHqYoQfFrCkDaRjFaxob1P13wMS1NseQ/",
          "dtype": "f8",
          "shape": "7, 15"
         },
         "zauto": false,
         "zmax": 80,
         "zmin": 0
        }
       ],
       "layout": {
        "template": {
         "data": {
          "bar": [
           {
            "error_x": {
             "color": "#2a3f5f"
            },
            "error_y": {
             "color": "#2a3f5f"
            },
            "marker": {
             "line": {
              "color": "#E5ECF6",
              "width": 0.5
             },
             "pattern": {
              "fillmode": "overlay",
              "size": 10,
              "solidity": 0.2
             }
            },
            "type": "bar"
           }
          ],
          "barpolar": [
           {
            "marker": {
             "line": {
              "color": "#E5ECF6",
              "width": 0.5
             },
             "pattern": {
              "fillmode": "overlay",
              "size": 10,
              "solidity": 0.2
             }
            },
            "type": "barpolar"
           }
          ],
          "carpet": [
           {
            "aaxis": {
             "endlinecolor": "#2a3f5f",
             "gridcolor": "white",
             "linecolor": "white",
             "minorgridcolor": "white",
             "startlinecolor": "#2a3f5f"
            },
            "baxis": {
             "endlinecolor": "#2a3f5f",
             "gridcolor": "white",
             "linecolor": "white",
             "minorgridcolor": "white",
             "startlinecolor": "#2a3f5f"
            },
            "type": "carpet"
           }
          ],
          "choropleth": [
           {
            "colorbar": {
             "outlinewidth": 0,
             "ticks": ""
            },
            "type": "choropleth"
           }
          ],
          "contour": [
           {
            "colorbar": {
             "outlinewidth": 0,
             "ticks": ""
            },
            "colorscale": [
             [
              0,
              "#0d0887"
             ],
             [
              0.1111111111111111,
              "#46039f"
             ],
             [
              0.2222222222222222,
              "#7201a8"
             ],
             [
              0.3333333333333333,
              "#9c179e"
             ],
             [
              0.4444444444444444,
              "#bd3786"
             ],
             [
              0.5555555555555556,
              "#d8576b"
             ],
             [
              0.6666666666666666,
              "#ed7953"
             ],
             [
              0.7777777777777778,
              "#fb9f3a"
             ],
             [
              0.8888888888888888,
              "#fdca26"
             ],
             [
              1,
              "#f0f921"
             ]
            ],
            "type": "contour"
           }
          ],
          "contourcarpet": [
           {
            "colorbar": {
             "outlinewidth": 0,
             "ticks": ""
            },
            "type": "contourcarpet"
           }
          ],
          "heatmap": [
           {
            "colorbar": {
             "outlinewidth": 0,
             "ticks": ""
            },
            "colorscale": [
             [
              0,
              "#0d0887"
             ],
             [
              0.1111111111111111,
              "#46039f"
             ],
             [
              0.2222222222222222,
              "#7201a8"
             ],
             [
              0.3333333333333333,
              "#9c179e"
             ],
             [
              0.4444444444444444,
              "#bd3786"
             ],
             [
              0.5555555555555556,
              "#d8576b"
             ],
             [
              0.6666666666666666,
              "#ed7953"
             ],
             [
              0.7777777777777778,
              "#fb9f3a"
             ],
             [
              0.8888888888888888,
              "#fdca26"
             ],
             [
              1,
              "#f0f921"
             ]
            ],
            "type": "heatmap"
           }
          ],
          "histogram": [
           {
            "marker": {
             "pattern": {
              "fillmode": "overlay",
              "size": 10,
              "solidity": 0.2
             }
            },
            "type": "histogram"
           }
          ],
          "histogram2d": [
           {
            "colorbar": {
             "outlinewidth": 0,
             "ticks": ""
            },
            "colorscale": [
             [
              0,
              "#0d0887"
             ],
             [
              0.1111111111111111,
              "#46039f"
             ],
             [
              0.2222222222222222,
              "#7201a8"
             ],
             [
              0.3333333333333333,
              "#9c179e"
             ],
             [
              0.4444444444444444,
              "#bd3786"
             ],
             [
              0.5555555555555556,
              "#d8576b"
             ],
             [
              0.6666666666666666,
              "#ed7953"
             ],
             [
              0.7777777777777778,
              "#fb9f3a"
             ],
             [
              0.8888888888888888,
              "#fdca26"
             ],
             [
              1,
              "#f0f921"
             ]
            ],
            "type": "histogram2d"
           }
          ],
          "histogram2dcontour": [
           {
            "colorbar": {
             "outlinewidth": 0,
             "ticks": ""
            },
            "colorscale": [
             [
              0,
              "#0d0887"
             ],
             [
              0.1111111111111111,
              "#46039f"
             ],
             [
              0.2222222222222222,
              "#7201a8"
             ],
             [
              0.3333333333333333,
              "#9c179e"
             ],
             [
              0.4444444444444444,
              "#bd3786"
             ],
             [
              0.5555555555555556,
              "#d8576b"
             ],
             [
              0.6666666666666666,
              "#ed7953"
             ],
             [
              0.7777777777777778,
              "#fb9f3a"
             ],
             [
              0.8888888888888888,
              "#fdca26"
             ],
             [
              1,
              "#f0f921"
             ]
            ],
            "type": "histogram2dcontour"
           }
          ],
          "mesh3d": [
           {
            "colorbar": {
             "outlinewidth": 0,
             "ticks": ""
            },
            "type": "mesh3d"
           }
          ],
          "parcoords": [
           {
            "line": {
             "colorbar": {
              "outlinewidth": 0,
              "ticks": ""
             }
            },
            "type": "parcoords"
           }
          ],
          "pie": [
           {
            "automargin": true,
            "type": "pie"
           }
          ],
          "scatter": [
           {
            "fillpattern": {
             "fillmode": "overlay",
             "size": 10,
             "solidity": 0.2
            },
            "type": "scatter"
           }
          ],
          "scatter3d": [
           {
            "line": {
             "colorbar": {
              "outlinewidth": 0,
              "ticks": ""
             }
            },
            "marker": {
             "colorbar": {
              "outlinewidth": 0,
              "ticks": ""
             }
            },
            "type": "scatter3d"
           }
          ],
          "scattercarpet": [
           {
            "marker": {
             "colorbar": {
              "outlinewidth": 0,
              "ticks": ""
             }
            },
            "type": "scattercarpet"
           }
          ],
          "scattergeo": [
           {
            "marker": {
             "colorbar": {
              "outlinewidth": 0,
              "ticks": ""
             }
            },
            "type": "scattergeo"
           }
          ],
          "scattergl": [
           {
            "marker": {
             "colorbar": {
              "outlinewidth": 0,
              "ticks": ""
             }
            },
            "type": "scattergl"
           }
          ],
          "scattermap": [
           {
            "marker": {
             "colorbar": {
              "outlinewidth": 0,
              "ticks": ""
             }
            },
            "type": "scattermap"
           }
          ],
          "scattermapbox": [
           {
            "marker": {
             "colorbar": {
              "outlinewidth": 0,
              "ticks": ""
             }
            },
            "type": "scattermapbox"
           }
          ],
          "scatterpolar": [
           {
            "marker": {
             "colorbar": {
              "outlinewidth": 0,
              "ticks": ""
             }
            },
            "type": "scatterpolar"
           }
          ],
          "scatterpolargl": [
           {
            "marker": {
             "colorbar": {
              "outlinewidth": 0,
              "ticks": ""
             }
            },
            "type": "scatterpolargl"
           }
          ],
          "scatterternary": [
           {
            "marker": {
             "colorbar": {
              "outlinewidth": 0,
              "ticks": ""
             }
            },
            "type": "scatterternary"
           }
          ],
          "surface": [
           {
            "colorbar": {
             "outlinewidth": 0,
             "ticks": ""
            },
            "colorscale": [
             [
              0,
              "#0d0887"
             ],
             [
              0.1111111111111111,
              "#46039f"
             ],
             [
              0.2222222222222222,
              "#7201a8"
             ],
             [
              0.3333333333333333,
              "#9c179e"
             ],
             [
              0.4444444444444444,
              "#bd3786"
             ],
             [
              0.5555555555555556,
              "#d8576b"
             ],
             [
              0.6666666666666666,
              "#ed7953"
             ],
             [
              0.7777777777777778,
              "#fb9f3a"
             ],
             [
              0.8888888888888888,
              "#fdca26"
             ],
             [
              1,
              "#f0f921"
             ]
            ],
            "type": "surface"
           }
          ],
          "table": [
           {
            "cells": {
             "fill": {
              "color": "#EBF0F8"
             },
             "line": {
              "color": "white"
             }
            },
            "header": {
             "fill": {
              "color": "#C8D4E3"
             },
             "line": {
              "color": "white"
             }
            },
            "type": "table"
           }
          ]
         },
         "layout": {
          "annotationdefaults": {
           "arrowcolor": "#2a3f5f",
           "arrowhead": 0,
           "arrowwidth": 1
          },
          "autotypenumbers": "strict",
          "coloraxis": {
           "colorbar": {
            "outlinewidth": 0,
            "ticks": ""
           }
          },
          "colorscale": {
           "diverging": [
            [
             0,
             "#8e0152"
            ],
            [
             0.1,
             "#c51b7d"
            ],
            [
             0.2,
             "#de77ae"
            ],
            [
             0.3,
             "#f1b6da"
            ],
            [
             0.4,
             "#fde0ef"
            ],
            [
             0.5,
             "#f7f7f7"
            ],
            [
             0.6,
             "#e6f5d0"
            ],
            [
             0.7,
             "#b8e186"
            ],
            [
             0.8,
             "#7fbc41"
            ],
            [
             0.9,
             "#4d9221"
            ],
            [
             1,
             "#276419"
            ]
           ],
           "sequential": [
            [
             0,
             "#0d0887"
            ],
            [
             0.1111111111111111,
             "#46039f"
            ],
            [
             0.2222222222222222,
             "#7201a8"
            ],
            [
             0.3333333333333333,
             "#9c179e"
            ],
            [
             0.4444444444444444,
             "#bd3786"
            ],
            [
             0.5555555555555556,
             "#d8576b"
            ],
            [
             0.6666666666666666,
             "#ed7953"
            ],
            [
             0.7777777777777778,
             "#fb9f3a"
            ],
            [
             0.8888888888888888,
             "#fdca26"
            ],
            [
             1,
             "#f0f921"
            ]
           ],
           "sequentialminus": [
            [
             0,
             "#0d0887"
            ],
            [
             0.1111111111111111,
             "#46039f"
            ],
            [
             0.2222222222222222,
             "#7201a8"
            ],
            [
             0.3333333333333333,
             "#9c179e"
            ],
            [
             0.4444444444444444,
             "#bd3786"
            ],
            [
             0.5555555555555556,
             "#d8576b"
            ],
            [
             0.6666666666666666,
             "#ed7953"
            ],
            [
             0.7777777777777778,
             "#fb9f3a"
            ],
            [
             0.8888888888888888,
             "#fdca26"
            ],
            [
             1,
             "#f0f921"
            ]
           ]
          },
          "colorway": [
           "#636efa",
           "#EF553B",
           "#00cc96",
           "#ab63fa",
           "#FFA15A",
           "#19d3f3",
           "#FF6692",
           "#B6E880",
           "#FF97FF",
           "#FECB52"
          ],
          "font": {
           "color": "#2a3f5f"
          },
          "geo": {
           "bgcolor": "white",
           "lakecolor": "white",
           "landcolor": "#E5ECF6",
           "showlakes": true,
           "showland": true,
           "subunitcolor": "white"
          },
          "hoverlabel": {
           "align": "left"
          },
          "hovermode": "closest",
          "mapbox": {
           "style": "light"
          },
          "paper_bgcolor": "white",
          "plot_bgcolor": "#E5ECF6",
          "polar": {
           "angularaxis": {
            "gridcolor": "white",
            "linecolor": "white",
            "ticks": ""
           },
           "bgcolor": "#E5ECF6",
           "radialaxis": {
            "gridcolor": "white",
            "linecolor": "white",
            "ticks": ""
           }
          },
          "scene": {
           "xaxis": {
            "backgroundcolor": "#E5ECF6",
            "gridcolor": "white",
            "gridwidth": 2,
            "linecolor": "white",
            "showbackground": true,
            "ticks": "",
            "zerolinecolor": "white"
           },
           "yaxis": {
            "backgroundcolor": "#E5ECF6",
            "gridcolor": "white",
            "gridwidth": 2,
            "linecolor": "white",
            "showbackground": true,
            "ticks": "",
            "zerolinecolor": "white"
           },
           "zaxis": {
            "backgroundcolor": "#E5ECF6",
            "gridcolor": "white",
            "gridwidth": 2,
            "linecolor": "white",
            "showbackground": true,
            "ticks": "",
            "zerolinecolor": "white"
           }
          },
          "shapedefaults": {
           "line": {
            "color": "#2a3f5f"
           }
          },
          "ternary": {
           "aaxis": {
            "gridcolor": "white",
            "linecolor": "white",
            "ticks": ""
           },
           "baxis": {
            "gridcolor": "white",
            "linecolor": "white",
            "ticks": ""
           },
           "bgcolor": "#E5ECF6",
           "caxis": {
            "gridcolor": "white",
            "linecolor": "white",
            "ticks": ""
           }
          },
          "title": {
           "x": 0.05
          },
          "xaxis": {
           "automargin": true,
           "gridcolor": "white",
           "linecolor": "white",
           "ticks": "",
           "title": {
            "standoff": 15
           },
           "zerolinecolor": "white",
           "zerolinewidth": 2
          },
          "yaxis": {
           "automargin": true,
           "gridcolor": "white",
           "linecolor": "white",
           "ticks": "",
           "title": {
            "standoff": 15
           },
           "zerolinecolor": "white",
           "zerolinewidth": 2
          }
         }
        },
        "title": {
         "text": "Shot distribution by distance (row-normalized)"
        },
        "xaxis": {
         "categoryarray": [
          "0-5",
          "5-10",
          "10-15",
          "15-20",
          "20-25",
          "25-30",
          "30-35",
          "35-40",
          "40-45",
          "45-50",
          "50-55",
          "55-60",
          "60-65",
          "65-70",
          "70-75"
         ],
         "categoryorder": "array",
         "tickangle": 90
        },
        "yaxis": {
         "autorange": "reversed"
        }
       }
      },
      "image/png": "[encoded data removed]"
     },
     "metadata": {},
     "output_type": "display_data"
    }
   ],
   "source": [
    "matrix_to_plot = grouped.pivot(index=\"shot_type\", columns=\"distance_bin\", values=\"shots\").fillna(0)\n",
    "\n",
    "row_pct = matrix_to_plot.div(matrix_to_plot.sum(axis=1).replace(0, np.nan), axis=0) * 100\n",
    "\n",
    "# build ordered x labels from numeric bins\n",
    "bins = row_pct.columns.to_numpy()\n",
    "bin_size = 5\n",
    "\n",
    "max_bin_start = 70\n",
    "keep = bins <= max_bin_start\n",
    "bins = bins[keep]\n",
    "row_pct = row_pct.loc[:, bins]\n",
    "\n",
    "x_labels = [f\"{int(b)}-{int(b + bin_size)}\" for b in bins]\n",
    "\n",
    "# heatmap\n",
    "fig = go.Figure(go.Heatmap(\n",
    "    x=x_labels,\n",
    "    y=row_pct.index,\n",
    "    z=row_pct.values,\n",
    "    colorscale=\"Blues\",\n",
    "    zmin=0, zmax=100,\n",
    "    colorbar=dict(title=\"Share of shots (%)\"),\n",
    "    xgap=1, ygap=1\n",
    "))\n",
    "fig.update_layout(\n",
    "    title=\"Shot distribution by distance (row-normalized)\",\n",
    "    xaxis=dict(categoryorder='array', categoryarray=x_labels)\n",
    ")\n",
    "\n",
    "fig.update_traces(\n",
    "    colorscale=\"Oranges\",   # darker, colorblind-friendly\n",
    "    zmin=0, zmax=80,        # limit range\n",
    "    colorbar=dict(title=\"Share of shots (%)\", tick0=0, dtick=10),\n",
    "    selector=dict(type=\"heatmap\")\n",
    ")\n",
    "fig.update_yaxes(autorange=\"reversed\")\n",
    "fig.update_xaxes(tickangle=90)\n",
    "\n",
    "fig.update_traces(\n",
    "    zmin=0, zmax=80, zauto=False,\n",
    "    colorscale=[\n",
    "        [0.00, \"rgb(255,255,255)\"],   # 0  -> near-white\n",
    "        [0.125, \"rgb(254,230,206)\"],  # ~10 -> visible light orange\n",
    "        [0.25, \"rgb(253,208,162)\"],\n",
    "        [0.50, \"rgb(253,174,107)\"],\n",
    "        [0.75, \"rgb(230,85,13)\"],\n",
    "        [1.00, \"rgb(166,54,3)\"]\n",
    "    ],\n",
    "    colorbar=dict(title=\"Share of shots (%)\", tick0=0, dtick=10),\n",
    "    selector=dict(type=\"heatmap\")\n",
    ")\n",
    "\n",
    "\n",
    "fig.show()"
   ]
  },
  {
   "cell_type": "code",
   "execution_count": 39,
   "id": "02db4946-13d9-48aa-b32b-feff8b86bfad",
   "metadata": {},
   "outputs": [],
   "source": [
    "grouped_goals = (\n",
    "    df_2021.loc[df_2021[\"event_type\"] == \"GOAL\"]\n",
    "    .groupby([\"shot_type\", \"distance_bin\"])\n",
    "    .size()\n",
    "    .rename(\"goals\")\n",
    "    .reset_index()\n",
    "    .sort_values([\"shot_type\", \"distance_bin\"])\n",
    ")\n",
    "\n",
    "# human-friendly bin labels like \"0-10\"\n",
    "grouped_goals[\"bin_label\"] = grouped_goals[\"distance_bin\"].map(lambda s: f\"{int(s)}-{int(s + bin_size)}\")"
   ]
  },
  {
   "cell_type": "code",
   "execution_count": 46,
   "id": "99480265-5033-4422-8e9e-7440d0f6e1ee",
   "metadata": {
    "scrolled": true
   },
   "outputs": [
    {
     "name": "stdout",
     "output_type": "stream",
     "text": [
      "  shot_type bin_label  shots  goals  goal_rate\n",
      "   backhand       0-5     68   27.0      0.397\n",
      "   backhand      5-10   2065  416.0      0.201\n",
      "   backhand     10-15   2085  289.0      0.139\n",
      "   backhand     15-20   1023   86.0      0.084\n",
      "   backhand     20-25    586   23.0      0.039\n",
      "   backhand     25-30    370   16.0      0.043\n",
      "   backhand     30-35    210    5.0      0.024\n",
      "   backhand     35-40    169    3.0      0.018\n",
      "   backhand     40-45     95    5.0      0.053\n",
      "   backhand     45-50     85    3.0      0.035\n",
      "   backhand     50-55     64    2.0      0.031\n",
      "   backhand     55-60     47    0.0      0.000\n",
      "   backhand     60-65     34    3.0      0.088\n",
      "   backhand     65-70     45    4.0      0.089\n",
      "   backhand     70-75     35    1.0      0.029\n",
      "   backhand     75-80     37    1.0      0.027\n",
      "   backhand     80-85     46    3.0      0.065\n",
      "   backhand     85-90     45    1.0      0.022\n",
      "   backhand     90-95     33    0.0      0.000\n",
      "   backhand    95-100      7    2.0      0.286\n",
      "  deflected       0-5      7    5.0      0.714\n",
      "  deflected      5-10    506  109.0      0.215\n",
      "  deflected     10-15    472   73.0      0.155\n",
      "  deflected     15-20    248   37.0      0.149\n",
      "  deflected     20-25    152   26.0      0.171\n",
      "  deflected     25-30     80    9.0      0.112\n",
      "  deflected     30-35     34    5.0      0.147\n",
      "  deflected     35-40     28    1.0      0.036\n",
      "  deflected     40-45     17    3.0      0.176\n",
      "  deflected     45-50     24    5.0      0.208\n",
      "  deflected     50-55     18    1.0      0.056\n",
      "  deflected     55-60     18    5.0      0.278\n",
      "  deflected     60-65     20    3.0      0.150\n",
      "  deflected     65-70     26    1.0      0.038\n",
      "  deflected     70-75     28    1.0      0.036\n",
      "  deflected     75-80     19    0.0      0.000\n",
      "  deflected     80-85     14    0.0      0.000\n",
      "  deflected     85-90     17    0.0      0.000\n",
      "  deflected     90-95     10    0.0      0.000\n",
      "  deflected    95-100      1    0.0      0.000\n",
      "       slap       0-5      3    1.0      0.333\n",
      "       slap      5-10     77   25.0      0.325\n",
      "       slap     10-15    105   29.0      0.276\n",
      "       slap     15-20    163   28.0      0.172\n",
      "       slap     20-25    336   59.0      0.176\n",
      "       slap     25-30    538   84.0      0.156\n",
      "       slap     30-35    877  131.0      0.149\n",
      "       slap     35-40   1054  114.0      0.108\n",
      "       slap     40-45   1296   81.0      0.062\n",
      "       slap     45-50   1544   79.0      0.051\n",
      "       slap     50-55   2102   90.0      0.043\n",
      "       slap     55-60   2021   71.0      0.035\n",
      "       slap     60-65    895   26.0      0.029\n",
      "       slap     65-70    204    8.0      0.039\n",
      "       slap     70-75     46    0.0      0.000\n",
      "       slap     75-80     64    1.0      0.016\n",
      "       slap     80-85     67    0.0      0.000\n",
      "       slap     85-90     59    1.0      0.017\n",
      "       slap     90-95     26    2.0      0.077\n",
      "       slap    95-100      4    0.0      0.000\n",
      "       snap       0-5     10    3.0      0.300\n",
      "       snap      5-10    396  102.0      0.258\n",
      "       snap     10-15    771  186.0      0.241\n",
      "       snap     15-20   1039  198.0      0.191\n",
      "       snap     20-25   1283  233.0      0.182\n",
      "       snap     25-30   1528  235.0      0.154\n",
      "       snap     30-35   1613  183.0      0.113\n",
      "       snap     35-40   1311   94.0      0.072\n",
      "       snap     40-45   1072   63.0      0.059\n",
      "       snap     45-50    817   32.0      0.039\n",
      "       snap     50-55    800   21.0      0.026\n",
      "       snap     55-60    634   13.0      0.021\n",
      "       snap     60-65    319    6.0      0.019\n",
      "       snap     65-70    125    6.0      0.048\n",
      "       snap     70-75     38    0.0      0.000\n",
      "       snap     75-80     34    2.0      0.059\n",
      "       snap     80-85     34    0.0      0.000\n",
      "       snap     85-90     35    1.0      0.029\n",
      "       snap     90-95     13    0.0      0.000\n",
      "       snap    95-100      3    0.0      0.000\n",
      "     tip-in       0-5     34   15.0      0.441\n",
      "     tip-in      5-10   1506  320.0      0.212\n",
      "     tip-in     10-15   1597  251.0      0.157\n",
      "     tip-in     15-20    731  112.0      0.153\n",
      "     tip-in     20-25    323   57.0      0.176\n",
      "     tip-in     25-30    144   26.0      0.181\n",
      "     tip-in     30-35     66    7.0      0.106\n",
      "     tip-in     35-40     28    3.0      0.107\n",
      "     tip-in     40-45      9    1.0      0.111\n",
      "     tip-in     45-50     14    1.0      0.071\n",
      "     tip-in     50-55     23    2.0      0.087\n",
      "     tip-in     55-60     26    6.0      0.231\n",
      "     tip-in     60-65     38    1.0      0.026\n",
      "     tip-in     65-70     54    1.0      0.019\n",
      "     tip-in     70-75     41    0.0      0.000\n",
      "     tip-in     75-80     39    0.0      0.000\n",
      "     tip-in     80-85     31    0.0      0.000\n",
      "     tip-in     85-90     32    1.0      0.031\n",
      "     tip-in     90-95     19    0.0      0.000\n",
      "     tip-in    95-100      1    0.0      0.000\n",
      "wrap-around       0-5     85    9.0      0.106\n",
      "wrap-around      5-10    617   31.0      0.050\n",
      "wrap-around     10-15     56    3.0      0.054\n",
      "wrap-around     15-20     10    0.0      0.000\n",
      "wrap-around     20-25      1    0.0      0.000\n",
      "wrap-around     25-30      1    0.0      0.000\n",
      "wrap-around     30-35      1    0.0      0.000\n",
      "wrap-around     45-50      2    0.0      0.000\n",
      "wrap-around     50-55      1    0.0      0.000\n",
      "wrap-around     55-60      2    0.0      0.000\n",
      "      wrist       0-5    174   58.0      0.333\n",
      "      wrist      5-10   4356  858.0      0.197\n",
      "      wrist     10-15   5120  882.0      0.172\n",
      "      wrist     15-20   4380  638.0      0.146\n",
      "      wrist     20-25   4645  544.0      0.117\n",
      "      wrist     25-30   5058  494.0      0.098\n",
      "      wrist     30-35   5171  385.0      0.074\n",
      "      wrist     35-40   4528  261.0      0.058\n",
      "      wrist     40-45   4168  162.0      0.039\n",
      "      wrist     45-50   3474   93.0      0.027\n",
      "      wrist     50-55   3494   98.0      0.028\n",
      "      wrist     55-60   3134   83.0      0.026\n",
      "      wrist     60-65   1711   36.0      0.021\n",
      "      wrist     65-70    697   22.0      0.032\n",
      "      wrist     70-75    335   21.0      0.063\n",
      "      wrist     75-80    368   24.0      0.065\n",
      "      wrist     80-85    409   23.0      0.056\n",
      "      wrist     85-90    371   15.0      0.040\n",
      "      wrist     90-95    168    4.0      0.024\n",
      "      wrist    95-100     45    3.0      0.067\n"
     ]
    }
   ],
   "source": [
    "# merge and compute rate\n",
    "rates = (grouped\n",
    "         .merge(grouped_goals, on=['shot_type','distance_bin'], how='left')\n",
    "         .fillna({'goals': 0}))\n",
    "\n",
    "rates['goal_rate'] = (rates['goals'] / rates['shots']).replace([np.inf, np.nan], 0).round(3)\n",
    "\n",
    "# rename labels\n",
    "rates['bin_label'] = rates['distance_bin'].astype(int).map(lambda s: f\"{int(s)}-{int(s + bin_size)}\")\n",
    "\n",
    "# sorted output\n",
    "'''Visualize the metrics to be sure it is correct'''\n",
    "\n",
    "print(rates[['shot_type', 'bin_label', 'shots', 'goals', 'goal_rate']].to_string(index=False))"
   ]
  },
  {
   "cell_type": "code",
   "execution_count": 41,
   "id": "5cc36dee-cc8f-4c27-88c8-7ba1584ab7bc",
   "metadata": {},
   "outputs": [
    {
     "data": {
      "application/vnd.plotly.v1+json": {
       "config": {
        "plotlyServerURL": "https://plot.ly"
       },
       "data": [
        {
         "colorbar": {
          "dtick": 10,
          "tick0": 0,
          "title": {
           "text": "Goal rate (%)"
          }
         },
         "colorscale": [
          [
           0,
           "rgb(255,255,255)"
          ],
          [
           0.125,
           "rgb(254,230,206)"
          ],
          [
           0.25,
           "rgb(253,208,162)"
          ],
          [
           0.5,
           "rgb(253,174,107)"
          ],
          [
           0.75,
           "rgb(230,85,13)"
          ],
          [
           1,
           "rgb(166,54,3)"
          ]
         ],
         "type": "heatmap",
         "x": [
          "0-5",
          "5-10",
          "10-15",
          "15-20",
          "20-25",
          "25-30",
          "30-35",
          "35-40",
          "40-45",
          "45-50",
          "50-55",
          "55-60",
          "60-65",
          "65-70",
          "70-75"
         ],
         "xgap": 1,
         "y": [
          "backhand",
          "deflected",
          "slap",
          "snap",
          "tip-in",
          "wrap-around",
          "wrist"
         ],
         "ygap": 1,
         "z": {
          "bdata": "mpmZmZnZQ0CamZmZmRk0QM7MzMzMzCtAzczMzMzMIEAzMzMzMzMPQDMzMzMzMxFAMzMzMzMzA0DMzMzMzMz8PzMzMzMzMxVAAQAAAAAADEDNzMzMzMwIQAAAAAAAAAAAmZmZmZmZIUDNzMzMzMwhQDQzMzMzMwdAmZmZmZnZUUAAAAAAAIA1QAAAAAAAAC9AzMzMzMzMLUCamZmZmRkxQGdmZmZmZiZAZmZmZmZmLUDMzMzMzMwMQJmZmZmZmTFAzczMzMzMNEBnZmZmZmYWQM7MzMzMzDtAAAAAAAAALkBmZmZmZmYOQMzMzMzMzAxAZ2ZmZmamQEAAAAAAAEBAQJqZmZmZmTtAMzMzMzMzMUCZmZmZmZkxQDMzMzMzMy9AzMzMzMzMLUCamZmZmZklQM3MzMzMzBhAZmZmZmZmFEAzMzMzMzMRQAEAAAAAAAxANDMzMzMzB0AzMzMzMzMPQAAAAAAAAAAAAAAAAAAAPkDNzMzMzMw5QJmZmZmZGThAmpmZmZkZM0AzMzMzMzMyQM3MzMzMzC5AmpmZmZmZJkDMzMzMzMwcQJmZmZmZmRdAMzMzMzMzD0DNzMzMzMwEQM3MzMzMzABAZmZmZmZm/j8zMzMzMzMTQAAAAAAAAAAAzczMzMwMRkAzMzMzMzM1QGZmZmZmZi9AmZmZmZmZLkCZmZmZmZkxQJmZmZmZGTJAMzMzMzMzJUBmZmZmZmYlQDMzMzMzMyZAZmZmZmZmHEBmZmZmZmYhQJqZmZmZGTdAzczMzMzMBEBmZmZmZmb+PwAAAAAAAAAAMzMzMzMzJUAAAAAAAAAUQJqZmZmZmRVAAAAAAAAAAAAAAAAAAAAAAAAAAAAAAAAAAAAAAAAAAAAAAAAAAAAAAAAAAAAAAAAAAAAAAAAAAAAAAAAAAAAAAAAAAAAAAAAAAAAAAAAAAAAAAAAAAAAAAAAAAAAAAAAAZ2ZmZmamQEAzMzMzM7MzQDMzMzMzMzFAMzMzMzMzLUBnZmZmZmYnQJqZmZmZmSNAmZmZmZmZHUA0MzMzMzMXQDMzMzMzMw9AmpmZmZmZBUBnZmZmZmYGQM3MzMzMzARAzczMzMzMAECamZmZmZkJQDMzMzMzMxlA",
          "dtype": "f8",
          "shape": "7, 15"
         },
         "zauto": false,
         "zmax": 80,
         "zmin": 0
        }
       ],
       "layout": {
        "template": {
         "data": {
          "bar": [
           {
            "error_x": {
             "color": "#2a3f5f"
            },
            "error_y": {
             "color": "#2a3f5f"
            },
            "marker": {
             "line": {
              "color": "#E5ECF6",
              "width": 0.5
             },
             "pattern": {
              "fillmode": "overlay",
              "size": 10,
              "solidity": 0.2
             }
            },
            "type": "bar"
           }
          ],
          "barpolar": [
           {
            "marker": {
             "line": {
              "color": "#E5ECF6",
              "width": 0.5
             },
             "pattern": {
              "fillmode": "overlay",
              "size": 10,
              "solidity": 0.2
             }
            },
            "type": "barpolar"
           }
          ],
          "carpet": [
           {
            "aaxis": {
             "endlinecolor": "#2a3f5f",
             "gridcolor": "white",
             "linecolor": "white",
             "minorgridcolor": "white",
             "startlinecolor": "#2a3f5f"
            },
            "baxis": {
             "endlinecolor": "#2a3f5f",
             "gridcolor": "white",
             "linecolor": "white",
             "minorgridcolor": "white",
             "startlinecolor": "#2a3f5f"
            },
            "type": "carpet"
           }
          ],
          "choropleth": [
           {
            "colorbar": {
             "outlinewidth": 0,
             "ticks": ""
            },
            "type": "choropleth"
           }
          ],
          "contour": [
           {
            "colorbar": {
             "outlinewidth": 0,
             "ticks": ""
            },
            "colorscale": [
             [
              0,
              "#0d0887"
             ],
             [
              0.1111111111111111,
              "#46039f"
             ],
             [
              0.2222222222222222,
              "#7201a8"
             ],
             [
              0.3333333333333333,
              "#9c179e"
             ],
             [
              0.4444444444444444,
              "#bd3786"
             ],
             [
              0.5555555555555556,
              "#d8576b"
             ],
             [
              0.6666666666666666,
              "#ed7953"
             ],
             [
              0.7777777777777778,
              "#fb9f3a"
             ],
             [
              0.8888888888888888,
              "#fdca26"
             ],
             [
              1,
              "#f0f921"
             ]
            ],
            "type": "contour"
           }
          ],
          "contourcarpet": [
           {
            "colorbar": {
             "outlinewidth": 0,
             "ticks": ""
            },
            "type": "contourcarpet"
           }
          ],
          "heatmap": [
           {
            "colorbar": {
             "outlinewidth": 0,
             "ticks": ""
            },
            "colorscale": [
             [
              0,
              "#0d0887"
             ],
             [
              0.1111111111111111,
              "#46039f"
             ],
             [
              0.2222222222222222,
              "#7201a8"
             ],
             [
              0.3333333333333333,
              "#9c179e"
             ],
             [
              0.4444444444444444,
              "#bd3786"
             ],
             [
              0.5555555555555556,
              "#d8576b"
             ],
             [
              0.6666666666666666,
              "#ed7953"
             ],
             [
              0.7777777777777778,
              "#fb9f3a"
             ],
             [
              0.8888888888888888,
              "#fdca26"
             ],
             [
              1,
              "#f0f921"
             ]
            ],
            "type": "heatmap"
           }
          ],
          "histogram": [
           {
            "marker": {
             "pattern": {
              "fillmode": "overlay",
              "size": 10,
              "solidity": 0.2
             }
            },
            "type": "histogram"
           }
          ],
          "histogram2d": [
           {
            "colorbar": {
             "outlinewidth": 0,
             "ticks": ""
            },
            "colorscale": [
             [
              0,
              "#0d0887"
             ],
             [
              0.1111111111111111,
              "#46039f"
             ],
             [
              0.2222222222222222,
              "#7201a8"
             ],
             [
              0.3333333333333333,
              "#9c179e"
             ],
             [
              0.4444444444444444,
              "#bd3786"
             ],
             [
              0.5555555555555556,
              "#d8576b"
             ],
             [
              0.6666666666666666,
              "#ed7953"
             ],
             [
              0.7777777777777778,
              "#fb9f3a"
             ],
             [
              0.8888888888888888,
              "#fdca26"
             ],
             [
              1,
              "#f0f921"
             ]
            ],
            "type": "histogram2d"
           }
          ],
          "histogram2dcontour": [
           {
            "colorbar": {
             "outlinewidth": 0,
             "ticks": ""
            },
            "colorscale": [
             [
              0,
              "#0d0887"
             ],
             [
              0.1111111111111111,
              "#46039f"
             ],
             [
              0.2222222222222222,
              "#7201a8"
             ],
             [
              0.3333333333333333,
              "#9c179e"
             ],
             [
              0.4444444444444444,
              "#bd3786"
             ],
             [
              0.5555555555555556,
              "#d8576b"
             ],
             [
              0.6666666666666666,
              "#ed7953"
             ],
             [
              0.7777777777777778,
              "#fb9f3a"
             ],
             [
              0.8888888888888888,
              "#fdca26"
             ],
             [
              1,
              "#f0f921"
             ]
            ],
            "type": "histogram2dcontour"
           }
          ],
          "mesh3d": [
           {
            "colorbar": {
             "outlinewidth": 0,
             "ticks": ""
            },
            "type": "mesh3d"
           }
          ],
          "parcoords": [
           {
            "line": {
             "colorbar": {
              "outlinewidth": 0,
              "ticks": ""
             }
            },
            "type": "parcoords"
           }
          ],
          "pie": [
           {
            "automargin": true,
            "type": "pie"
           }
          ],
          "scatter": [
           {
            "fillpattern": {
             "fillmode": "overlay",
             "size": 10,
             "solidity": 0.2
            },
            "type": "scatter"
           }
          ],
          "scatter3d": [
           {
            "line": {
             "colorbar": {
              "outlinewidth": 0,
              "ticks": ""
             }
            },
            "marker": {
             "colorbar": {
              "outlinewidth": 0,
              "ticks": ""
             }
            },
            "type": "scatter3d"
           }
          ],
          "scattercarpet": [
           {
            "marker": {
             "colorbar": {
              "outlinewidth": 0,
              "ticks": ""
             }
            },
            "type": "scattercarpet"
           }
          ],
          "scattergeo": [
           {
            "marker": {
             "colorbar": {
              "outlinewidth": 0,
              "ticks": ""
             }
            },
            "type": "scattergeo"
           }
          ],
          "scattergl": [
           {
            "marker": {
             "colorbar": {
              "outlinewidth": 0,
              "ticks": ""
             }
            },
            "type": "scattergl"
           }
          ],
          "scattermap": [
           {
            "marker": {
             "colorbar": {
              "outlinewidth": 0,
              "ticks": ""
             }
            },
            "type": "scattermap"
           }
          ],
          "scattermapbox": [
           {
            "marker": {
             "colorbar": {
              "outlinewidth": 0,
              "ticks": ""
             }
            },
            "type": "scattermapbox"
           }
          ],
          "scatterpolar": [
           {
            "marker": {
             "colorbar": {
              "outlinewidth": 0,
              "ticks": ""
             }
            },
            "type": "scatterpolar"
           }
          ],
          "scatterpolargl": [
           {
            "marker": {
             "colorbar": {
              "outlinewidth": 0,
              "ticks": ""
             }
            },
            "type": "scatterpolargl"
           }
          ],
          "scatterternary": [
           {
            "marker": {
             "colorbar": {
              "outlinewidth": 0,
              "ticks": ""
             }
            },
            "type": "scatterternary"
           }
          ],
          "surface": [
           {
            "colorbar": {
             "outlinewidth": 0,
             "ticks": ""
            },
            "colorscale": [
             [
              0,
              "#0d0887"
             ],
             [
              0.1111111111111111,
              "#46039f"
             ],
             [
              0.2222222222222222,
              "#7201a8"
             ],
             [
              0.3333333333333333,
              "#9c179e"
             ],
             [
              0.4444444444444444,
              "#bd3786"
             ],
             [
              0.5555555555555556,
              "#d8576b"
             ],
             [
              0.6666666666666666,
              "#ed7953"
             ],
             [
              0.7777777777777778,
              "#fb9f3a"
             ],
             [
              0.8888888888888888,
              "#fdca26"
             ],
             [
              1,
              "#f0f921"
             ]
            ],
            "type": "surface"
           }
          ],
          "table": [
           {
            "cells": {
             "fill": {
              "color": "#EBF0F8"
             },
             "line": {
              "color": "white"
             }
            },
            "header": {
             "fill": {
              "color": "#C8D4E3"
             },
             "line": {
              "color": "white"
             }
            },
            "type": "table"
           }
          ]
         },
         "layout": {
          "annotationdefaults": {
           "arrowcolor": "#2a3f5f",
           "arrowhead": 0,
           "arrowwidth": 1
          },
          "autotypenumbers": "strict",
          "coloraxis": {
           "colorbar": {
            "outlinewidth": 0,
            "ticks": ""
           }
          },
          "colorscale": {
           "diverging": [
            [
             0,
             "#8e0152"
            ],
            [
             0.1,
             "#c51b7d"
            ],
            [
             0.2,
             "#de77ae"
            ],
            [
             0.3,
             "#f1b6da"
            ],
            [
             0.4,
             "#fde0ef"
            ],
            [
             0.5,
             "#f7f7f7"
            ],
            [
             0.6,
             "#e6f5d0"
            ],
            [
             0.7,
             "#b8e186"
            ],
            [
             0.8,
             "#7fbc41"
            ],
            [
             0.9,
             "#4d9221"
            ],
            [
             1,
             "#276419"
            ]
           ],
           "sequential": [
            [
             0,
             "#0d0887"
            ],
            [
             0.1111111111111111,
             "#46039f"
            ],
            [
             0.2222222222222222,
             "#7201a8"
            ],
            [
             0.3333333333333333,
             "#9c179e"
            ],
            [
             0.4444444444444444,
             "#bd3786"
            ],
            [
             0.5555555555555556,
             "#d8576b"
            ],
            [
             0.6666666666666666,
             "#ed7953"
            ],
            [
             0.7777777777777778,
             "#fb9f3a"
            ],
            [
             0.8888888888888888,
             "#fdca26"
            ],
            [
             1,
             "#f0f921"
            ]
           ],
           "sequentialminus": [
            [
             0,
             "#0d0887"
            ],
            [
             0.1111111111111111,
             "#46039f"
            ],
            [
             0.2222222222222222,
             "#7201a8"
            ],
            [
             0.3333333333333333,
             "#9c179e"
            ],
            [
             0.4444444444444444,
             "#bd3786"
            ],
            [
             0.5555555555555556,
             "#d8576b"
            ],
            [
             0.6666666666666666,
             "#ed7953"
            ],
            [
             0.7777777777777778,
             "#fb9f3a"
            ],
            [
             0.8888888888888888,
             "#fdca26"
            ],
            [
             1,
             "#f0f921"
            ]
           ]
          },
          "colorway": [
           "#636efa",
           "#EF553B",
           "#00cc96",
           "#ab63fa",
           "#FFA15A",
           "#19d3f3",
           "#FF6692",
           "#B6E880",
           "#FF97FF",
           "#FECB52"
          ],
          "font": {
           "color": "#2a3f5f"
          },
          "geo": {
           "bgcolor": "white",
           "lakecolor": "white",
           "landcolor": "#E5ECF6",
           "showlakes": true,
           "showland": true,
           "subunitcolor": "white"
          },
          "hoverlabel": {
           "align": "left"
          },
          "hovermode": "closest",
          "mapbox": {
           "style": "light"
          },
          "paper_bgcolor": "white",
          "plot_bgcolor": "#E5ECF6",
          "polar": {
           "angularaxis": {
            "gridcolor": "white",
            "linecolor": "white",
            "ticks": ""
           },
           "bgcolor": "#E5ECF6",
           "radialaxis": {
            "gridcolor": "white",
            "linecolor": "white",
            "ticks": ""
           }
          },
          "scene": {
           "xaxis": {
            "backgroundcolor": "#E5ECF6",
            "gridcolor": "white",
            "gridwidth": 2,
            "linecolor": "white",
            "showbackground": true,
            "ticks": "",
            "zerolinecolor": "white"
           },
           "yaxis": {
            "backgroundcolor": "#E5ECF6",
            "gridcolor": "white",
            "gridwidth": 2,
            "linecolor": "white",
            "showbackground": true,
            "ticks": "",
            "zerolinecolor": "white"
           },
           "zaxis": {
            "backgroundcolor": "#E5ECF6",
            "gridcolor": "white",
            "gridwidth": 2,
            "linecolor": "white",
            "showbackground": true,
            "ticks": "",
            "zerolinecolor": "white"
           }
          },
          "shapedefaults": {
           "line": {
            "color": "#2a3f5f"
           }
          },
          "ternary": {
           "aaxis": {
            "gridcolor": "white",
            "linecolor": "white",
            "ticks": ""
           },
           "baxis": {
            "gridcolor": "white",
            "linecolor": "white",
            "ticks": ""
           },
           "bgcolor": "#E5ECF6",
           "caxis": {
            "gridcolor": "white",
            "linecolor": "white",
            "ticks": ""
           }
          },
          "title": {
           "x": 0.05
          },
          "xaxis": {
           "automargin": true,
           "gridcolor": "white",
           "linecolor": "white",
           "ticks": "",
           "title": {
            "standoff": 15
           },
           "zerolinecolor": "white",
           "zerolinewidth": 2
          },
          "yaxis": {
           "automargin": true,
           "gridcolor": "white",
           "linecolor": "white",
           "ticks": "",
           "title": {
            "standoff": 15
           },
           "zerolinecolor": "white",
           "zerolinewidth": 2
          }
         }
        },
        "title": {
         "text": "Goal rate by shot type and distance bin"
        },
        "xaxis": {
         "categoryarray": [
          "0-5",
          "5-10",
          "10-15",
          "15-20",
          "20-25",
          "25-30",
          "30-35",
          "35-40",
          "40-45",
          "45-50",
          "50-55",
          "55-60",
          "60-65",
          "65-70",
          "70-75"
         ],
         "categoryorder": "array",
         "tickangle": 90
        },
        "yaxis": {
         "autorange": "reversed"
        }
       }
      },
      "image/png": "[encoded data removed]"
     },
     "metadata": {},
     "output_type": "display_data"
    }
   ],
   "source": [
    "rate_matrix = rates.pivot(index=\"shot_type\", columns=\"distance_bin\", values=\"goal_rate\").fillna(0)\n",
    "\n",
    "'''Tranform values to percentages'''\n",
    "rate_matrix *= 100\n",
    "\n",
    "# --- limit x (bins) to <= 70 and build labels ---\n",
    "bin_size = 5\n",
    "bins = rate_matrix.columns.to_numpy()\n",
    "bins = bins[bins <= 70]\n",
    "rate_matrix = rate_matrix.loc[:, bins]\n",
    "x_labels = [f\"{int(b)}-{int(b + bin_size)}\" for b in bins]\n",
    "\n",
    "# --- heatmap of GOAL RATE (%) ---\n",
    "fig = go.Figure(go.Heatmap(\n",
    "    x=x_labels,\n",
    "    y=rate_matrix.index,\n",
    "    z=rate_matrix.values,\n",
    "    colorscale=\"Oranges\",\n",
    "    zmin=0, zmax=100,\n",
    "    colorbar=dict(title=\"Goal rate (%)\"),\n",
    "    xgap=1, ygap=1\n",
    "))\n",
    "\n",
    "fig.update_layout(\n",
    "    title=\"Goal rate by shot type and distance bin\",\n",
    "    xaxis=dict(categoryorder='array', categoryarray=x_labels),\n",
    ")\n",
    "fig.update_yaxes(autorange=\"reversed\")\n",
    "fig.update_xaxes(tickangle=90)\n",
    "\n",
    "# darker orange scale with low values near-white, clamp 0–80 for visibility\n",
    "fig.update_traces(\n",
    "    zmin=0, zmax=80, zauto=False,\n",
    "    colorscale=[\n",
    "        [0.00, \"rgb(255,255,255)\"],   # 0  -> near-white\n",
    "        [0.125, \"rgb(254,230,206)\"],  # ~10 -> visible light orange\n",
    "        [0.25, \"rgb(253,208,162)\"],\n",
    "        [0.50, \"rgb(253,174,107)\"],\n",
    "        [0.75, \"rgb(230,85,13)\"],\n",
    "        [1.00, \"rgb(166,54,3)\"]\n",
    "    ],\n",
    "    colorbar=dict(title=\"Goal rate (%)\", tick0=0, dtick=10),\n",
    "    selector=dict(type=\"heatmap\")\n",
    ")\n",
    "\n",
    "fig.show()"
   ]
  },
  {
   "cell_type": "markdown",
   "id": "4fe4b8a0-45b5-4adc-9257-9be2ddd205ce",
   "metadata": {},
   "source": [
    "### Third Figure_choice"
   ]
  },
  {
   "cell_type": "code",
   "execution_count": 48,
   "id": "9f05bd17-8366-4edf-addd-cf506a4d98d4",
   "metadata": {},
   "outputs": [
    {
     "data": {
      "application/vnd.plotly.v1+json": {
       "config": {
        "plotlyServerURL": "https://plot.ly"
       },
       "data": [
        {
         "colorbar": {
          "dtick": 2,
          "tick0": 0,
          "tickfont": {
           "color": "black",
           "family": "Times New Roman",
           "size": 11
          },
          "title": {
           "font": {
            "color": "black",
            "family": "Times New Roman",
            "size": 11
           },
           "text": "Goal Rate × <br> Shot Rate"
          }
         },
         "colorscale": [
          [
           0,
           "rgb(255,255,255)"
          ],
          [
           0.125,
           "rgb(254,230,206)"
          ],
          [
           0.25,
           "rgb(253,208,162)"
          ],
          [
           0.5,
           "rgb(253,174,107)"
          ],
          [
           0.75,
           "rgb(230,85,13)"
          ],
          [
           1,
           "rgb(166,54,3)"
          ]
         ],
         "type": "heatmap",
         "x": [
          "0-5",
          "5-10",
          "10-15",
          "15-20",
          "20-25",
          "25-30",
          "30-35",
          "35-40",
          "40-45",
          "45-50",
          "50-55",
          "55-60",
          "60-65",
          "65-70",
          "70-75"
         ],
         "xgap": 1,
         "y": [
          "backhand",
          "deflected",
          "slap",
          "snap",
          "tip-in",
          "wrap-around",
          "wrist"
         ],
         "ygap": 1,
         "z": {
          "bdata": "7HeKM7FnEkCMR0YlG/IZQAkT9i2Z/hFAAdoectKQAUAIWWxCvZnrP1Z3iVmbguo/RBVPTun32D9DiYAvgovRPyfxPvMYu+U/4aIpIF3C2z8I04ibjZTWPwAAAAAAAAAACy+y2JCC6j9MzxHC0SntPz27QhEIoNE/hnDcBx68EEC0KyKoQzMSQFA97FZGswlA8aG1eixeBEDTU+8vsi4EQO9Nj++gzvU/YqRaKVMk9j+4RI27dXbUP1wFyYJniPU/nJ9xzbU4/D9zvf7KIOHbPyLKG8fXTAFAXLsxLM5E8z+jsXGC6B/VP7hEjbt1dtQ/gzuJJ1M2+D9A0J2Gc0cPQHOYLRNHJw1AgmPGBP66BEA5eRaefloKQFgaVkbj5gpAMQmf+WbADUCA1TH6o8kGQPRkKJtY1vs/kzscFSUi+D+WkLiXJ1L2P8sh7+iL9PE/cOc7k8xN5z+s6y7bdRzkPwAAAAAAAAAAyiQFr11N/z8mQR3bt0oUQDR6BwATJhdAeVRU+lAQFEDXNTFrBl4UQP4VA3RXKRJAs/Yg1MYWC0C0UustMDgAQLMXrxRBBvk/n4oJdHl+7j/mBUb2ljPkP+7y7zgeb94/PRQJnndo1j+yih5Eo17lPwAAAAAAAAAASvsDXz6bEEAiqfswm+QYQJmB7b0iwxJAC+VUKhftDEASmhRQGgsKQC+/8B3aBAVAnoiuyUR78z89Dbn27mjuP8NBiJ5jceY/Ov6k5Npj4D/gIfeUEk/nP0y1VHdMDQBA5E00RFAy0D929QHYuU3KPwAAAAAAAAAAsOyFVogE9T91w5rM6PfxP55zqLj55OI/AAAAAAAAAAAAAAAAAAAAAAAAAAAAAAAAAAAAAAAAAAAAAAAAAAAAAAAAAAAAAAAAAAAAAAAAAAAAAAAAAAAAAAAAAAAAAAAAAAAAAAAAAAAAAAAAAAAAAAAAAAAAAAAA8odLhe52FEDpp0AMyc8fQPEPwsOCJx1AcRGb3HOdF0Bi+V3BxkITQN1Ee3zzjBBAb5pjFTcpCUCxUOWQXPMCQFh/QkYY3Pg/y8mo36JL8D/uxzwXme3wPzAQO+TObe4/0PCKfxV/5D+Yqf0wONvnP2kOUFeP2fI/",
          "dtype": "f8",
          "shape": "7, 15"
         },
         "zauto": false,
         "zmax": 8,
         "zmin": 0
        }
       ],
       "layout": {
        "font": {
         "family": "Times New Roman"
        },
        "height": 400,
        "legend": {
         "font": {
          "color": "black",
          "family": "Times New Roman",
          "size": 8
         }
        },
        "margin": {
         "b": 70,
         "l": 90,
         "r": 10,
         "t": 60
        },
        "paper_bgcolor": "white",
        "plot_bgcolor": "white",
        "template": {
         "data": {
          "bar": [
           {
            "error_x": {
             "color": "#2a3f5f"
            },
            "error_y": {
             "color": "#2a3f5f"
            },
            "marker": {
             "line": {
              "color": "#E5ECF6",
              "width": 0.5
             },
             "pattern": {
              "fillmode": "overlay",
              "size": 10,
              "solidity": 0.2
             }
            },
            "type": "bar"
           }
          ],
          "barpolar": [
           {
            "marker": {
             "line": {
              "color": "#E5ECF6",
              "width": 0.5
             },
             "pattern": {
              "fillmode": "overlay",
              "size": 10,
              "solidity": 0.2
             }
            },
            "type": "barpolar"
           }
          ],
          "carpet": [
           {
            "aaxis": {
             "endlinecolor": "#2a3f5f",
             "gridcolor": "white",
             "linecolor": "white",
             "minorgridcolor": "white",
             "startlinecolor": "#2a3f5f"
            },
            "baxis": {
             "endlinecolor": "#2a3f5f",
             "gridcolor": "white",
             "linecolor": "white",
             "minorgridcolor": "white",
             "startlinecolor": "#2a3f5f"
            },
            "type": "carpet"
           }
          ],
          "choropleth": [
           {
            "colorbar": {
             "outlinewidth": 0,
             "ticks": ""
            },
            "type": "choropleth"
           }
          ],
          "contour": [
           {
            "colorbar": {
             "outlinewidth": 0,
             "ticks": ""
            },
            "colorscale": [
             [
              0,
              "#0d0887"
             ],
             [
              0.1111111111111111,
              "#46039f"
             ],
             [
              0.2222222222222222,
              "#7201a8"
             ],
             [
              0.3333333333333333,
              "#9c179e"
             ],
             [
              0.4444444444444444,
              "#bd3786"
             ],
             [
              0.5555555555555556,
              "#d8576b"
             ],
             [
              0.6666666666666666,
              "#ed7953"
             ],
             [
              0.7777777777777778,
              "#fb9f3a"
             ],
             [
              0.8888888888888888,
              "#fdca26"
             ],
             [
              1,
              "#f0f921"
             ]
            ],
            "type": "contour"
           }
          ],
          "contourcarpet": [
           {
            "colorbar": {
             "outlinewidth": 0,
             "ticks": ""
            },
            "type": "contourcarpet"
           }
          ],
          "heatmap": [
           {
            "colorbar": {
             "outlinewidth": 0,
             "ticks": ""
            },
            "colorscale": [
             [
              0,
              "#0d0887"
             ],
             [
              0.1111111111111111,
              "#46039f"
             ],
             [
              0.2222222222222222,
              "#7201a8"
             ],
             [
              0.3333333333333333,
              "#9c179e"
             ],
             [
              0.4444444444444444,
              "#bd3786"
             ],
             [
              0.5555555555555556,
              "#d8576b"
             ],
             [
              0.6666666666666666,
              "#ed7953"
             ],
             [
              0.7777777777777778,
              "#fb9f3a"
             ],
             [
              0.8888888888888888,
              "#fdca26"
             ],
             [
              1,
              "#f0f921"
             ]
            ],
            "type": "heatmap"
           }
          ],
          "histogram": [
           {
            "marker": {
             "pattern": {
              "fillmode": "overlay",
              "size": 10,
              "solidity": 0.2
             }
            },
            "type": "histogram"
           }
          ],
          "histogram2d": [
           {
            "colorbar": {
             "outlinewidth": 0,
             "ticks": ""
            },
            "colorscale": [
             [
              0,
              "#0d0887"
             ],
             [
              0.1111111111111111,
              "#46039f"
             ],
             [
              0.2222222222222222,
              "#7201a8"
             ],
             [
              0.3333333333333333,
              "#9c179e"
             ],
             [
              0.4444444444444444,
              "#bd3786"
             ],
             [
              0.5555555555555556,
              "#d8576b"
             ],
             [
              0.6666666666666666,
              "#ed7953"
             ],
             [
              0.7777777777777778,
              "#fb9f3a"
             ],
             [
              0.8888888888888888,
              "#fdca26"
             ],
             [
              1,
              "#f0f921"
             ]
            ],
            "type": "histogram2d"
           }
          ],
          "histogram2dcontour": [
           {
            "colorbar": {
             "outlinewidth": 0,
             "ticks": ""
            },
            "colorscale": [
             [
              0,
              "#0d0887"
             ],
             [
              0.1111111111111111,
              "#46039f"
             ],
             [
              0.2222222222222222,
              "#7201a8"
             ],
             [
              0.3333333333333333,
              "#9c179e"
             ],
             [
              0.4444444444444444,
              "#bd3786"
             ],
             [
              0.5555555555555556,
              "#d8576b"
             ],
             [
              0.6666666666666666,
              "#ed7953"
             ],
             [
              0.7777777777777778,
              "#fb9f3a"
             ],
             [
              0.8888888888888888,
              "#fdca26"
             ],
             [
              1,
              "#f0f921"
             ]
            ],
            "type": "histogram2dcontour"
           }
          ],
          "mesh3d": [
           {
            "colorbar": {
             "outlinewidth": 0,
             "ticks": ""
            },
            "type": "mesh3d"
           }
          ],
          "parcoords": [
           {
            "line": {
             "colorbar": {
              "outlinewidth": 0,
              "ticks": ""
             }
            },
            "type": "parcoords"
           }
          ],
          "pie": [
           {
            "automargin": true,
            "type": "pie"
           }
          ],
          "scatter": [
           {
            "fillpattern": {
             "fillmode": "overlay",
             "size": 10,
             "solidity": 0.2
            },
            "type": "scatter"
           }
          ],
          "scatter3d": [
           {
            "line": {
             "colorbar": {
              "outlinewidth": 0,
              "ticks": ""
             }
            },
            "marker": {
             "colorbar": {
              "outlinewidth": 0,
              "ticks": ""
             }
            },
            "type": "scatter3d"
           }
          ],
          "scattercarpet": [
           {
            "marker": {
             "colorbar": {
              "outlinewidth": 0,
              "ticks": ""
             }
            },
            "type": "scattercarpet"
           }
          ],
          "scattergeo": [
           {
            "marker": {
             "colorbar": {
              "outlinewidth": 0,
              "ticks": ""
             }
            },
            "type": "scattergeo"
           }
          ],
          "scattergl": [
           {
            "marker": {
             "colorbar": {
              "outlinewidth": 0,
              "ticks": ""
             }
            },
            "type": "scattergl"
           }
          ],
          "scattermap": [
           {
            "marker": {
             "colorbar": {
              "outlinewidth": 0,
              "ticks": ""
             }
            },
            "type": "scattermap"
           }
          ],
          "scattermapbox": [
           {
            "marker": {
             "colorbar": {
              "outlinewidth": 0,
              "ticks": ""
             }
            },
            "type": "scattermapbox"
           }
          ],
          "scatterpolar": [
           {
            "marker": {
             "colorbar": {
              "outlinewidth": 0,
              "ticks": ""
             }
            },
            "type": "scatterpolar"
           }
          ],
          "scatterpolargl": [
           {
            "marker": {
             "colorbar": {
              "outlinewidth": 0,
              "ticks": ""
             }
            },
            "type": "scatterpolargl"
           }
          ],
          "scatterternary": [
           {
            "marker": {
             "colorbar": {
              "outlinewidth": 0,
              "ticks": ""
             }
            },
            "type": "scatterternary"
           }
          ],
          "surface": [
           {
            "colorbar": {
             "outlinewidth": 0,
             "ticks": ""
            },
            "colorscale": [
             [
              0,
              "#0d0887"
             ],
             [
              0.1111111111111111,
              "#46039f"
             ],
             [
              0.2222222222222222,
              "#7201a8"
             ],
             [
              0.3333333333333333,
              "#9c179e"
             ],
             [
              0.4444444444444444,
              "#bd3786"
             ],
             [
              0.5555555555555556,
              "#d8576b"
             ],
             [
              0.6666666666666666,
              "#ed7953"
             ],
             [
              0.7777777777777778,
              "#fb9f3a"
             ],
             [
              0.8888888888888888,
              "#fdca26"
             ],
             [
              1,
              "#f0f921"
             ]
            ],
            "type": "surface"
           }
          ],
          "table": [
           {
            "cells": {
             "fill": {
              "color": "#EBF0F8"
             },
             "line": {
              "color": "white"
             }
            },
            "header": {
             "fill": {
              "color": "#C8D4E3"
             },
             "line": {
              "color": "white"
             }
            },
            "type": "table"
           }
          ]
         },
         "layout": {
          "annotationdefaults": {
           "arrowcolor": "#2a3f5f",
           "arrowhead": 0,
           "arrowwidth": 1
          },
          "autotypenumbers": "strict",
          "coloraxis": {
           "colorbar": {
            "outlinewidth": 0,
            "ticks": ""
           }
          },
          "colorscale": {
           "diverging": [
            [
             0,
             "#8e0152"
            ],
            [
             0.1,
             "#c51b7d"
            ],
            [
             0.2,
             "#de77ae"
            ],
            [
             0.3,
             "#f1b6da"
            ],
            [
             0.4,
             "#fde0ef"
            ],
            [
             0.5,
             "#f7f7f7"
            ],
            [
             0.6,
             "#e6f5d0"
            ],
            [
             0.7,
             "#b8e186"
            ],
            [
             0.8,
             "#7fbc41"
            ],
            [
             0.9,
             "#4d9221"
            ],
            [
             1,
             "#276419"
            ]
           ],
           "sequential": [
            [
             0,
             "#0d0887"
            ],
            [
             0.1111111111111111,
             "#46039f"
            ],
            [
             0.2222222222222222,
             "#7201a8"
            ],
            [
             0.3333333333333333,
             "#9c179e"
            ],
            [
             0.4444444444444444,
             "#bd3786"
            ],
            [
             0.5555555555555556,
             "#d8576b"
            ],
            [
             0.6666666666666666,
             "#ed7953"
            ],
            [
             0.7777777777777778,
             "#fb9f3a"
            ],
            [
             0.8888888888888888,
             "#fdca26"
            ],
            [
             1,
             "#f0f921"
            ]
           ],
           "sequentialminus": [
            [
             0,
             "#0d0887"
            ],
            [
             0.1111111111111111,
             "#46039f"
            ],
            [
             0.2222222222222222,
             "#7201a8"
            ],
            [
             0.3333333333333333,
             "#9c179e"
            ],
            [
             0.4444444444444444,
             "#bd3786"
            ],
            [
             0.5555555555555556,
             "#d8576b"
            ],
            [
             0.6666666666666666,
             "#ed7953"
            ],
            [
             0.7777777777777778,
             "#fb9f3a"
            ],
            [
             0.8888888888888888,
             "#fdca26"
            ],
            [
             1,
             "#f0f921"
            ]
           ]
          },
          "colorway": [
           "#636efa",
           "#EF553B",
           "#00cc96",
           "#ab63fa",
           "#FFA15A",
           "#19d3f3",
           "#FF6692",
           "#B6E880",
           "#FF97FF",
           "#FECB52"
          ],
          "font": {
           "color": "#2a3f5f"
          },
          "geo": {
           "bgcolor": "white",
           "lakecolor": "white",
           "landcolor": "#E5ECF6",
           "showlakes": true,
           "showland": true,
           "subunitcolor": "white"
          },
          "hoverlabel": {
           "align": "left"
          },
          "hovermode": "closest",
          "mapbox": {
           "style": "light"
          },
          "paper_bgcolor": "white",
          "plot_bgcolor": "#E5ECF6",
          "polar": {
           "angularaxis": {
            "gridcolor": "white",
            "linecolor": "white",
            "ticks": ""
           },
           "bgcolor": "#E5ECF6",
           "radialaxis": {
            "gridcolor": "white",
            "linecolor": "white",
            "ticks": ""
           }
          },
          "scene": {
           "xaxis": {
            "backgroundcolor": "#E5ECF6",
            "gridcolor": "white",
            "gridwidth": 2,
            "linecolor": "white",
            "showbackground": true,
            "ticks": "",
            "zerolinecolor": "white"
           },
           "yaxis": {
            "backgroundcolor": "#E5ECF6",
            "gridcolor": "white",
            "gridwidth": 2,
            "linecolor": "white",
            "showbackground": true,
            "ticks": "",
            "zerolinecolor": "white"
           },
           "zaxis": {
            "backgroundcolor": "#E5ECF6",
            "gridcolor": "white",
            "gridwidth": 2,
            "linecolor": "white",
            "showbackground": true,
            "ticks": "",
            "zerolinecolor": "white"
           }
          },
          "shapedefaults": {
           "line": {
            "color": "#2a3f5f"
           }
          },
          "ternary": {
           "aaxis": {
            "gridcolor": "white",
            "linecolor": "white",
            "ticks": ""
           },
           "baxis": {
            "gridcolor": "white",
            "linecolor": "white",
            "ticks": ""
           },
           "bgcolor": "#E5ECF6",
           "caxis": {
            "gridcolor": "white",
            "linecolor": "white",
            "ticks": ""
           }
          },
          "title": {
           "x": 0.05
          },
          "xaxis": {
           "automargin": true,
           "gridcolor": "white",
           "linecolor": "white",
           "ticks": "",
           "title": {
            "standoff": 15
           },
           "zerolinecolor": "white",
           "zerolinewidth": 2
          },
          "yaxis": {
           "automargin": true,
           "gridcolor": "white",
           "linecolor": "white",
           "ticks": "",
           "title": {
            "standoff": 15
           },
           "zerolinecolor": "white",
           "zerolinewidth": 2
          }
         }
        },
        "title": {
         "font": {
          "color": "black",
          "family": "Times New Roman",
          "size": 17
         },
         "text": "Expected Goals (Distance & Type)",
         "x": 0.5
        },
        "width": 800,
        "xaxis": {
         "categoryarray": [
          "0-5",
          "5-10",
          "10-15",
          "15-20",
          "20-25",
          "25-30",
          "30-35",
          "35-40",
          "40-45",
          "45-50",
          "50-55",
          "55-60",
          "60-65",
          "65-70",
          "70-75"
         ],
         "categoryorder": "array",
         "linecolor": "black",
         "showline": false,
         "tickangle": 90,
         "tickfont": {
          "color": "black",
          "family": "Times New Roman",
          "size": 12
         },
         "title": {
          "font": {
           "color": "black",
           "family": "Times New Roman",
           "size": 14
          },
          "text": "Distance (ft)"
         }
        },
        "yaxis": {
         "autorange": "reversed",
         "linecolor": "black",
         "showline": false,
         "tickfont": {
          "color": "black",
          "family": "Times New Roman",
          "size": 12
         },
         "title": {
          "font": {
           "color": "black",
           "family": "Times New Roman",
           "size": 14
          },
          "text": "Shot type"
         }
        }
       }
      },
      "image/png": "[encoded data removed]"
     },
     "metadata": {},
     "output_type": "display_data"
    }
   ],
   "source": [
    "# Share of goals relative to total shots\n",
    "'''Here we propose a metric that better visualizes the chances of a shot occuring (per type) at a certain distance\n",
    "and its chances of being a goal. The formula is \"scoreα =goal_rate×(shot_share)^α, where 0<α<1).'''\n",
    "\n",
    "alpha = 0.3  # sqrt damping (0<alpha<1)\n",
    "total_shots = rates[\"shots\"].sum()\n",
    "rates[\"shot_share\"] = rates[\"shots\"] / total_shots\n",
    "rates['goal_rate'] = (rates['goals'] / rates['shots']).replace([np.inf, np.nan], 0).round(3)\n",
    "rates[\"metric_damped\"] = rates[\"goal_rate\"] * (rates[\"shot_share\"] ** alpha)  # use goal_rate as fraction, not %\n",
    "\n",
    "# Visualize\n",
    "Z = rates.pivot(index='shot_type', columns='distance_bin', values='metric_damped').fillna(0) * 100  # % of total goals\n",
    "\n",
    "# limit the x axis to <= 70\n",
    "Z = Z.loc[:, [c for c in Z.columns if c <= 70]]\n",
    "\n",
    "# Labels\n",
    "x_labels = [f\"{int(b)}-{int(b+bin_size)}\" for b in Z.columns]\n",
    "\n",
    "# --- heatmap ---\n",
    "fig = go.Figure(go.Heatmap(\n",
    "    x=x_labels,\n",
    "    y=Z.index,\n",
    "    z=Z.values,\n",
    "    zmin=0, zmax=80, zauto=False,\n",
    "    colorscale=[\n",
    "        [0.00, \"rgb(255,255,255)\"],\n",
    "        [0.125, \"rgb(254,230,206)\"],\n",
    "        [0.25, \"rgb(253,208,162)\"],\n",
    "        [0.50, \"rgb(253,174,107)\"],\n",
    "        [0.75, \"rgb(230,85,13)\"],\n",
    "        [1.00, \"rgb(166,54,3)\"]\n",
    "    ],\n",
    "    colorbar=dict(title=dict(text=f\"Goal Rate × <br> Shot Rate\", font=dict(family=family_titles, size=11, color=\"black\")),\n",
    "              tickfont=dict(family=family_titles, size=11, color=\"black\")),\n",
    "\n",
    "    xgap=1, ygap=1,\n",
    "))\n",
    "\n",
    "family_titles=\"Times New Roman\"\n",
    "\n",
    "fig.update_layout(\n",
    "    font=dict(family=family_titles),  # global family\n",
    "    title=dict(\n",
    "        text=\"Expected Goals (Distance & Type)\",\n",
    "        x=0.5,\n",
    "        font=dict(size=17, family=family_titles, color=\"black\")\n",
    "    ),\n",
    "    plot_bgcolor=\"white\", paper_bgcolor=\"white\",\n",
    "    xaxis=dict(\n",
    "        title=dict(text=\"Distance (ft)\", font=dict(size=14, family=family_titles, color=\"black\")),\n",
    "        tickfont=dict(size=12, family=family_titles, color=\"black\"),\n",
    "        categoryorder='array', categoryarray=x_labels,\n",
    "        tickangle=90, showline=False, linecolor=\"black\"\n",
    "    ),\n",
    "    yaxis=dict(\n",
    "        title=dict(text=\"Shot type\", font=dict(size=14, family=family_titles, color=\"black\")),\n",
    "        tickfont=dict(size=12, family=family_titles, color=\"black\"),\n",
    "        autorange=\"reversed\", showline=False, linecolor=\"black\"\n",
    "    ),\n",
    "    legend=dict(\n",
    "        font=dict(size=8, family=family_titles, color=\"black\")\n",
    "    ),\n",
    "    margin=dict(t=60, r=10, l=90, b=70)\n",
    ")\n",
    "fig.update_layout(width=800, height=400)\n",
    "fig.update_traces(zmin=0, zmax=8, zauto=False, colorbar=dict(tick0=0, dtick=2), selector=dict(type=\"heatmap\"))\n",
    "\n",
    "fig.write_image(OUT_PATH_VIS+\"Heatmap_2020_2021.png\", scale=5)\n",
    "fig.write_image(OUT_PATH_VIS+\"Heatmap_2020_2021.svg\")\n",
    "fig.show()"
   ]
  },
  {
   "cell_type": "markdown",
   "id": "04020f2a-6b30-4171-afbf-812ffa166c6a",
   "metadata": {},
   "source": [
    "### Alternative options for Third Figure"
   ]
  },
  {
   "cell_type": "code",
   "execution_count": 43,
   "id": "fd0816cd-409e-4059-977e-d8df1ed2cd35",
   "metadata": {},
   "outputs": [
    {
     "ename": "NameError",
     "evalue": "name 'make_subplots' is not defined",
     "output_type": "error",
     "traceback": [
      "\u001b[31m---------------------------------------------------------------------------\u001b[39m",
      "\u001b[31mNameError\u001b[39m                                 Traceback (most recent call last)",
      "\u001b[36mCell\u001b[39m\u001b[36m \u001b[39m\u001b[32mIn[43]\u001b[39m\u001b[32m, line 24\u001b[39m\n\u001b[32m     21\u001b[39m x_labels = [\u001b[33mf\u001b[39m\u001b[33m\"\u001b[39m\u001b[38;5;132;01m{\u001b[39;00m\u001b[38;5;28mint\u001b[39m(b)\u001b[38;5;132;01m}\u001b[39;00m\u001b[33m-\u001b[39m\u001b[38;5;132;01m{\u001b[39;00m\u001b[38;5;28mint\u001b[39m(b\u001b[38;5;250m \u001b[39m+\u001b[38;5;250m \u001b[39mbin_size)\u001b[38;5;132;01m}\u001b[39;00m\u001b[33m\"\u001b[39m \u001b[38;5;28;01mfor\u001b[39;00m b \u001b[38;5;129;01min\u001b[39;00m bins]\n\u001b[32m     23\u001b[39m \u001b[38;5;66;03m# --- Subplots: two heatmaps, no hover ---\u001b[39;00m\n\u001b[32m---> \u001b[39m\u001b[32m24\u001b[39m fig = \u001b[43mmake_subplots\u001b[49m(\n\u001b[32m     25\u001b[39m     rows=\u001b[32m2\u001b[39m, cols=\u001b[32m1\u001b[39m, shared_xaxes=\u001b[38;5;28;01mTrue\u001b[39;00m,\n\u001b[32m     26\u001b[39m     vertical_spacing=\u001b[32m0.08\u001b[39m,\n\u001b[32m     27\u001b[39m     subplot_titles=(\u001b[33m\"\u001b[39m\u001b[33mShare of shots per distance (row-normalized, \u001b[39m\u001b[33m%\u001b[39m\u001b[33m)\u001b[39m\u001b[33m\"\u001b[39m,\n\u001b[32m     28\u001b[39m                     \u001b[33m\"\u001b[39m\u001b[33mGoal rate per distance (\u001b[39m\u001b[33m%\u001b[39m\u001b[33m)\u001b[39m\u001b[33m\"\u001b[39m)\n\u001b[32m     29\u001b[39m )\n\u001b[32m     31\u001b[39m \u001b[38;5;66;03m# Heatmap 1: shots share (Blues)\u001b[39;00m\n\u001b[32m     32\u001b[39m fig.add_trace(\n\u001b[32m     33\u001b[39m     go.Heatmap(\n\u001b[32m     34\u001b[39m         x=x_labels, y=row_pct.index, z=row_pct.values,\n\u001b[32m   (...)\u001b[39m\u001b[32m     41\u001b[39m     row=\u001b[32m1\u001b[39m, col=\u001b[32m1\u001b[39m\n\u001b[32m     42\u001b[39m )\n",
      "\u001b[31mNameError\u001b[39m: name 'make_subplots' is not defined"
     ]
    }
   ],
   "source": [
    "''' Alternative Proposal for Vis if previous is not clear (to become pretty if chosen)'''\n",
    "\n",
    "# --- Shots: row-normalized (%) ---\n",
    "matrix_shots = grouped.pivot(index=\"shot_type\", columns=\"distance_bin\", values=\"shots\").fillna(0)\n",
    "row_pct = matrix_shots.div(matrix_shots.sum(axis=1).replace(0, np.nan), axis=0) * 100\n",
    "\n",
    "# --- Goals: goal rate (%) = goals / shots ---\n",
    "rates = (\n",
    "    grouped.merge(grouped_goals, on=[\"shot_type\", \"distance_bin\"], how=\"left\")\n",
    "           .fillna({\"goals\": 0})\n",
    ")\n",
    "rates[\"goal_rate_pct\"] = (rates[\"goals\"] / rates[\"shots\"]).replace([np.inf, np.nan], 0) * 100\n",
    "rate_matrix = rates.pivot(index=\"shot_type\", columns=\"distance_bin\", values=\"goal_rate_pct\").fillna(0)\n",
    "\n",
    "# --- Align columns & limit x to <= 70 (e.g., 70–75 upper bin) ---\n",
    "bin_size = 5\n",
    "bins = np.intersect1d(row_pct.columns.to_numpy(), rate_matrix.columns.to_numpy())\n",
    "bins = bins[bins <= 70]\n",
    "row_pct = row_pct.loc[:, bins]\n",
    "rate_matrix = rate_matrix.loc[:, bins]\n",
    "x_labels = [f\"{int(b)}-{int(b + bin_size)}\" for b in bins]\n",
    "\n",
    "# --- Subplots: two heatmaps, no hover ---\n",
    "fig = make_subplots(\n",
    "    rows=2, cols=1, shared_xaxes=True,\n",
    "    vertical_spacing=0.08,\n",
    "    subplot_titles=(\"Share of shots per distance (row-normalized, %)\",\n",
    "                    \"Goal rate per distance (%)\")\n",
    ")\n",
    "\n",
    "# Heatmap 1: shots share (Blues)\n",
    "fig.add_trace(\n",
    "    go.Heatmap(\n",
    "        x=x_labels, y=row_pct.index, z=row_pct.values,\n",
    "        zmin=0, zmax=100,\n",
    "        colorscale=\"Blues\",\n",
    "        colorbar=dict(title=\"Share (%)\"),\n",
    "        xgap=1, ygap=1,\n",
    "        hoverinfo=\"skip\", hovertemplate=None\n",
    "    ),\n",
    "    row=1, col=1\n",
    ")\n",
    "\n",
    "# Heatmap 2: goal rate (custom Oranges, 0–80 clamp)\n",
    "fig.add_trace(\n",
    "    go.Heatmap(\n",
    "        x=x_labels, y=rate_matrix.index, z=rate_matrix.values,\n",
    "        zmin=0, zmax=80, zauto=False,\n",
    "        colorscale=[\n",
    "            [0.00, \"rgb(255,255,255)\"],   # 0 -> near-white\n",
    "            [0.125, \"rgb(254,230,206)\"],  # ~10 -> visible\n",
    "            [0.25, \"rgb(253,208,162)\"],\n",
    "            [0.50, \"rgb(253,174,107)\"],\n",
    "            [0.75, \"rgb(230,85,13)\"],\n",
    "            [1.00, \"rgb(166,54,3)\"]\n",
    "        ],\n",
    "        colorbar=dict(title=\"Goal rate (%)\", tick0=0, dtick=10),\n",
    "        xgap=1, ygap=1,\n",
    "        hoverinfo=\"skip\", hovertemplate=None\n",
    "    ),\n",
    "    row=2, col=1\n",
    ")\n",
    "\n",
    "# Layout & axes\n",
    "fig.update_layout(\n",
    "    title=\"Shots vs Goal Rate by Distance & Shot Type\",\n",
    "    plot_bgcolor=\"white\", paper_bgcolor=\"white\",\n",
    "    margin=dict(t=70, r=10, l=90, b=70),\n",
    "    showlegend=False\n",
    ")\n",
    "\n",
    "# Axes styling (reverse y to match your prior choice; vertical x labels)\n",
    "fig.update_xaxes(categoryorder='array', categoryarray=x_labels, tickangle=90, row=2, col=1)\n",
    "fig.update_yaxes(autorange=\"reversed\", showline=True, linecolor=\"black\", row=1, col=1)\n",
    "fig.update_yaxes(autorange=\"reversed\", showline=True, linecolor=\"black\", row=2, col=1)\n",
    "fig.update_xaxes(showline=True, linecolor=\"black\", row=2, col=1)\n",
    "\n",
    "# Optional: export static (requires kaleido)\n",
    "# fig.write_image(\"combined_heatmaps.png\", scale=4)\n",
    "\n",
    "fig.show()\n"
   ]
  },
  {
   "cell_type": "code",
   "execution_count": null,
   "id": "006ad014-b8d1-42b2-8a52-5b4d614b4718",
   "metadata": {},
   "outputs": [],
   "source": []
  },
  {
   "cell_type": "code",
   "execution_count": null,
   "id": "1ee61c5d-2a50-4a82-9f29-85fb1989b61f",
   "metadata": {},
   "outputs": [],
   "source": []
  }
 ],
 "metadata": {
  "kernelspec": {
   "display_name": "Python 3 (ipykernel)",
   "language": "python",
   "name": "python3"
  },
  "language_info": {
   "codemirror_mode": {
    "name": "ipython",
    "version": 3
   },
   "file_extension": ".py",
   "mimetype": "text/x-python",
   "name": "python",
   "nbconvert_exporter": "python",
   "pygments_lexer": "ipython3",
   "version": "3.12.11"
  }
 },
 "nbformat": 4,
 "nbformat_minor": 5
}
