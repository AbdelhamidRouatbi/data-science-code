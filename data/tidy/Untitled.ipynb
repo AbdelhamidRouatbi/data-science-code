{
 "cells": [
  {
   "cell_type": "code",
   "execution_count": 5,
   "id": "51d5a3af-0ec3-4723-9a04-18e7198de4b4",
   "metadata": {},
   "outputs": [
    {
     "name": "stdout",
     "output_type": "stream",
     "text": [
      "Done. Use in your page:\n",
      "{% include vis_players.html %}\n"
     ]
    }
   ],
   "source": [
    "import base64\n",
    "from pathlib import Path\n",
    "\n",
    "png_path = Path(\"/Users/antonioslagarias/data-science-blog/_posts/assets/images/vis_players.jpeg\")\n",
    "include_path = Path(\"/Users/antonioslagarias/data-science-blog/_includes/vis_players.html\")\n",
    "\n",
    "# make sure the include directory exists\n",
    "include_path.parent.mkdir(parents=True, exist_ok=True)\n",
    "\n",
    "# read & base64-encode PNG\n",
    "data = base64.b64encode(png_path.read_bytes()).decode(\"ascii\")\n",
    "data_uri = f\"data:image/png;base64,{data}\"\n",
    "\n",
    "# write minimal include with inline image (self-contained HTML)\n",
    "html = f'<img src=\"{data_uri}\" alt=\"\" loading=\"lazy\" style=\"max-width:100%;height:auto;\">\\n'\n",
    "include_path.write_text(html, encoding=\"utf-8\")\n",
    "\n",
    "print(f\"Done. Use in your page:\\n{{% include {include_path.name} %}}\")\n"
   ]
  },
  {
   "cell_type": "code",
   "execution_count": null,
   "id": "621848d3-5caa-498d-95fb-0dabe0c6ea44",
   "metadata": {},
   "outputs": [],
   "source": []
  }
 ],
 "metadata": {
  "kernelspec": {
   "display_name": "Python 3 (ipykernel)",
   "language": "python",
   "name": "python3"
  },
  "language_info": {
   "codemirror_mode": {
    "name": "ipython",
    "version": 3
   },
   "file_extension": ".py",
   "mimetype": "text/x-python",
   "name": "python",
   "nbconvert_exporter": "python",
   "pygments_lexer": "ipython3",
   "version": "3.12.11"
  }
 },
 "nbformat": 4,
 "nbformat_minor": 5
}
