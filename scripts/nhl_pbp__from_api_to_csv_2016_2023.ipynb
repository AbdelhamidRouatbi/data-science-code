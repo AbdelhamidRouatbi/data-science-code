{
 "cells": [
  {
   "cell_type": "code",
   "execution_count": null,
   "id": "5a03603e",
   "metadata": {},
   "outputs": [],
   "source": [
    "from pathlib import Path\n",
    "from nhl_pbp.downloader import NHLPBPDownloader\n",
    "from nhl_pbp.transform import season_jsons_to_csvs_via_cache\n",
    "\n",
    "def season_label(y: int) -> str:\n",
    "    return f\"{y}-{y+1}\"\n",
    "\n",
    "BASE = Path(\"../ift6758/data/nhl/csv\")\n",
    "dl = NHLPBPDownloader()\n",
    "\n",
    "total_rows_all = 0\n",
    "for season in range(2016, 2024):  # 2024 is exclusive → runs 2016..2023\n",
    "    label = season_label(season)\n",
    "    out_dir = BASE / label\n",
    "    merged_path = BASE / f\"{label}_events.csv\"\n",
    "\n",
    "    print(f\"\\n=== {label} ===\")\n",
    "    # 1) Download & cache the whole season (regular + playoffs)\n",
    "    ids = dl.download_season(\n",
    "        season_start_year=season,\n",
    "        include_regular=True,\n",
    "        include_playoffs=True,\n",
    "        limit=None,\n",
    "        progress=True\n",
    "    )\n",
    "    print(f\"Cached {len(ids)} games.\")\n",
    "\n",
    "    # 2) Transform cached JSON → per-game CSVs + merged per-season CSV\n",
    "    rows = season_jsons_to_csvs_via_cache(\n",
    "        season_start_year=season,\n",
    "        out_dir=str(out_dir),\n",
    "        merged_out_path=str(merged_path)\n",
    "    )\n",
    "    total_rows_all += rows\n",
    "    print(f\"Wrote {rows} rows → {merged_path}\")\n",
    "\n",
    "print(f\"\\nDone. Total rows across seasons: {total_rows_all}\")"
   ]
  }
 ],
 "metadata": {
  "kernelspec": {
   "display_name": "ift6758-conda-env",
   "language": "python",
   "name": "python3"
  },
  "language_info": {
   "codemirror_mode": {
    "name": "ipython",
    "version": 3
   },
   "file_extension": ".py",
   "mimetype": "text/x-python",
   "name": "python",
   "nbconvert_exporter": "python",
   "pygments_lexer": "ipython3",
   "version": "3.13.7"
  }
 },
 "nbformat": 4,
 "nbformat_minor": 5
}
